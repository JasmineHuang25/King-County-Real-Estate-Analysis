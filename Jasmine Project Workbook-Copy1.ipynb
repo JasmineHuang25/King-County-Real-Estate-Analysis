{
 "cells": [
  {
   "cell_type": "markdown",
   "metadata": {},
   "source": [
    "# Phase 2 project\n",
    "    \n",
    "# Effects of Renovations on House Price\n",
    "\n",
    "We are advising a real estate agency tasked to help potential home sellers decide what renovations to make for increasing their home value. First priority is to find the most highly correlated numerical features that can be changed to increase home value. Second priority is to find what categorical features that can be changed to increase home value. Third priority is to correct models assumptions.\n"
   ]
  },
  {
   "cell_type": "markdown",
   "metadata": {},
   "source": [
    "## Import Libraries and Inspect Dada"
   ]
  },
  {
   "cell_type": "code",
   "execution_count": 8,
   "metadata": {
    "ExecuteTime": {
     "end_time": "2022-12-06T20:20:43.108424Z",
     "start_time": "2022-12-06T20:20:42.030418Z"
    }
   },
   "outputs": [],
   "source": [
    "# Imports\n",
    "import numpy as np\n",
    "import scipy.stats as stats\n",
    "import matplotlib.pyplot as plt\n",
    "from random import sample\n",
    "from itertools import combinations\n",
    "from statsmodels.stats.power import TTestIndPower, TTestPower\n",
    "import math\n",
    "import seaborn as sns\n",
    "import scipy as sp\n",
    "import pandas as pd\n",
    "from matplotlib.lines import Line2D\n",
    "import random\n",
    "import statsmodels.api as sm\n",
    "from itertools import combinations\n",
    "from sklearn.preprocessing import StandardScaler, OneHotEncoder, OrdinalEncoder\n",
    "from statsmodels.stats.stattools import jarque_bera\n",
    "\n",
    "import num_model_all_combos as simple_test"
   ]
  },
  {
   "cell_type": "code",
   "execution_count": 9,
   "metadata": {
    "ExecuteTime": {
     "end_time": "2022-12-06T20:20:43.162410Z",
     "start_time": "2022-12-06T20:20:43.109430Z"
    }
   },
   "outputs": [],
   "source": [
    "# creating initial data frame\n",
    "df = pd.read_csv('data/kc_house_data.csv')"
   ]
  },
  {
   "cell_type": "code",
   "execution_count": 10,
   "metadata": {
    "ExecuteTime": {
     "end_time": "2022-12-06T20:20:43.175767Z",
     "start_time": "2022-12-06T20:20:43.163410Z"
    }
   },
   "outputs": [
    {
     "data": {
      "text/html": [
       "<div>\n",
       "<style scoped>\n",
       "    .dataframe tbody tr th:only-of-type {\n",
       "        vertical-align: middle;\n",
       "    }\n",
       "\n",
       "    .dataframe tbody tr th {\n",
       "        vertical-align: top;\n",
       "    }\n",
       "\n",
       "    .dataframe thead th {\n",
       "        text-align: right;\n",
       "    }\n",
       "</style>\n",
       "<table border=\"1\" class=\"dataframe\">\n",
       "  <thead>\n",
       "    <tr style=\"text-align: right;\">\n",
       "      <th></th>\n",
       "      <th>id</th>\n",
       "      <th>date</th>\n",
       "      <th>price</th>\n",
       "      <th>bedrooms</th>\n",
       "      <th>bathrooms</th>\n",
       "      <th>sqft_living</th>\n",
       "      <th>sqft_lot</th>\n",
       "      <th>floors</th>\n",
       "      <th>waterfront</th>\n",
       "      <th>greenbelt</th>\n",
       "      <th>...</th>\n",
       "      <th>sewer_system</th>\n",
       "      <th>sqft_above</th>\n",
       "      <th>sqft_basement</th>\n",
       "      <th>sqft_garage</th>\n",
       "      <th>sqft_patio</th>\n",
       "      <th>yr_built</th>\n",
       "      <th>yr_renovated</th>\n",
       "      <th>address</th>\n",
       "      <th>lat</th>\n",
       "      <th>long</th>\n",
       "    </tr>\n",
       "  </thead>\n",
       "  <tbody>\n",
       "    <tr>\n",
       "      <th>0</th>\n",
       "      <td>7399300360</td>\n",
       "      <td>5/24/2022</td>\n",
       "      <td>675000.0</td>\n",
       "      <td>4</td>\n",
       "      <td>1.0</td>\n",
       "      <td>1180</td>\n",
       "      <td>7140</td>\n",
       "      <td>1.0</td>\n",
       "      <td>NO</td>\n",
       "      <td>NO</td>\n",
       "      <td>...</td>\n",
       "      <td>PUBLIC</td>\n",
       "      <td>1180</td>\n",
       "      <td>0</td>\n",
       "      <td>0</td>\n",
       "      <td>40</td>\n",
       "      <td>1969</td>\n",
       "      <td>0</td>\n",
       "      <td>2102 Southeast 21st Court, Renton, Washington ...</td>\n",
       "      <td>47.461975</td>\n",
       "      <td>-122.19052</td>\n",
       "    </tr>\n",
       "    <tr>\n",
       "      <th>1</th>\n",
       "      <td>8910500230</td>\n",
       "      <td>12/13/2021</td>\n",
       "      <td>920000.0</td>\n",
       "      <td>5</td>\n",
       "      <td>2.5</td>\n",
       "      <td>2770</td>\n",
       "      <td>6703</td>\n",
       "      <td>1.0</td>\n",
       "      <td>NO</td>\n",
       "      <td>NO</td>\n",
       "      <td>...</td>\n",
       "      <td>PUBLIC</td>\n",
       "      <td>1570</td>\n",
       "      <td>1570</td>\n",
       "      <td>0</td>\n",
       "      <td>240</td>\n",
       "      <td>1950</td>\n",
       "      <td>0</td>\n",
       "      <td>11231 Greenwood Avenue North, Seattle, Washing...</td>\n",
       "      <td>47.711525</td>\n",
       "      <td>-122.35591</td>\n",
       "    </tr>\n",
       "    <tr>\n",
       "      <th>2</th>\n",
       "      <td>1180000275</td>\n",
       "      <td>9/29/2021</td>\n",
       "      <td>311000.0</td>\n",
       "      <td>6</td>\n",
       "      <td>2.0</td>\n",
       "      <td>2880</td>\n",
       "      <td>6156</td>\n",
       "      <td>1.0</td>\n",
       "      <td>NO</td>\n",
       "      <td>NO</td>\n",
       "      <td>...</td>\n",
       "      <td>PUBLIC</td>\n",
       "      <td>1580</td>\n",
       "      <td>1580</td>\n",
       "      <td>0</td>\n",
       "      <td>0</td>\n",
       "      <td>1956</td>\n",
       "      <td>0</td>\n",
       "      <td>8504 South 113th Street, Seattle, Washington 9...</td>\n",
       "      <td>47.502045</td>\n",
       "      <td>-122.22520</td>\n",
       "    </tr>\n",
       "    <tr>\n",
       "      <th>3</th>\n",
       "      <td>1604601802</td>\n",
       "      <td>12/14/2021</td>\n",
       "      <td>775000.0</td>\n",
       "      <td>3</td>\n",
       "      <td>3.0</td>\n",
       "      <td>2160</td>\n",
       "      <td>1400</td>\n",
       "      <td>2.0</td>\n",
       "      <td>NO</td>\n",
       "      <td>NO</td>\n",
       "      <td>...</td>\n",
       "      <td>PUBLIC</td>\n",
       "      <td>1090</td>\n",
       "      <td>1070</td>\n",
       "      <td>200</td>\n",
       "      <td>270</td>\n",
       "      <td>2010</td>\n",
       "      <td>0</td>\n",
       "      <td>4079 Letitia Avenue South, Seattle, Washington...</td>\n",
       "      <td>47.566110</td>\n",
       "      <td>-122.29020</td>\n",
       "    </tr>\n",
       "    <tr>\n",
       "      <th>4</th>\n",
       "      <td>8562780790</td>\n",
       "      <td>8/24/2021</td>\n",
       "      <td>592500.0</td>\n",
       "      <td>2</td>\n",
       "      <td>2.0</td>\n",
       "      <td>1120</td>\n",
       "      <td>758</td>\n",
       "      <td>2.0</td>\n",
       "      <td>NO</td>\n",
       "      <td>NO</td>\n",
       "      <td>...</td>\n",
       "      <td>PUBLIC</td>\n",
       "      <td>1120</td>\n",
       "      <td>550</td>\n",
       "      <td>550</td>\n",
       "      <td>30</td>\n",
       "      <td>2012</td>\n",
       "      <td>0</td>\n",
       "      <td>2193 Northwest Talus Drive, Issaquah, Washingt...</td>\n",
       "      <td>47.532470</td>\n",
       "      <td>-122.07188</td>\n",
       "    </tr>\n",
       "  </tbody>\n",
       "</table>\n",
       "<p>5 rows × 25 columns</p>\n",
       "</div>"
      ],
      "text/plain": [
       "           id        date     price  bedrooms  bathrooms  sqft_living  \\\n",
       "0  7399300360   5/24/2022  675000.0         4        1.0         1180   \n",
       "1  8910500230  12/13/2021  920000.0         5        2.5         2770   \n",
       "2  1180000275   9/29/2021  311000.0         6        2.0         2880   \n",
       "3  1604601802  12/14/2021  775000.0         3        3.0         2160   \n",
       "4  8562780790   8/24/2021  592500.0         2        2.0         1120   \n",
       "\n",
       "   sqft_lot  floors waterfront greenbelt  ... sewer_system sqft_above  \\\n",
       "0      7140     1.0         NO        NO  ...       PUBLIC       1180   \n",
       "1      6703     1.0         NO        NO  ...       PUBLIC       1570   \n",
       "2      6156     1.0         NO        NO  ...       PUBLIC       1580   \n",
       "3      1400     2.0         NO        NO  ...       PUBLIC       1090   \n",
       "4       758     2.0         NO        NO  ...       PUBLIC       1120   \n",
       "\n",
       "  sqft_basement sqft_garage sqft_patio yr_built  yr_renovated  \\\n",
       "0             0           0         40     1969             0   \n",
       "1          1570           0        240     1950             0   \n",
       "2          1580           0          0     1956             0   \n",
       "3          1070         200        270     2010             0   \n",
       "4           550         550         30     2012             0   \n",
       "\n",
       "                                             address        lat       long  \n",
       "0  2102 Southeast 21st Court, Renton, Washington ...  47.461975 -122.19052  \n",
       "1  11231 Greenwood Avenue North, Seattle, Washing...  47.711525 -122.35591  \n",
       "2  8504 South 113th Street, Seattle, Washington 9...  47.502045 -122.22520  \n",
       "3  4079 Letitia Avenue South, Seattle, Washington...  47.566110 -122.29020  \n",
       "4  2193 Northwest Talus Drive, Issaquah, Washingt...  47.532470 -122.07188  \n",
       "\n",
       "[5 rows x 25 columns]"
      ]
     },
     "execution_count": 10,
     "metadata": {},
     "output_type": "execute_result"
    }
   ],
   "source": [
    "# checking original df\n",
    "df.head()"
   ]
  },
  {
   "cell_type": "code",
   "execution_count": 11,
   "metadata": {},
   "outputs": [
    {
     "data": {
      "text/plain": [
       "(30155, 25)"
      ]
     },
     "execution_count": 11,
     "metadata": {},
     "output_type": "execute_result"
    }
   ],
   "source": [
    "df.shape"
   ]
  },
  {
   "cell_type": "code",
   "execution_count": 12,
   "metadata": {
    "ExecuteTime": {
     "end_time": "2022-12-06T20:20:43.186310Z",
     "start_time": "2022-12-06T20:20:43.175767Z"
    }
   },
   "outputs": [
    {
     "data": {
      "text/plain": [
       "id                0\n",
       "date              0\n",
       "price             0\n",
       "bedrooms          0\n",
       "bathrooms         0\n",
       "sqft_living       0\n",
       "sqft_lot          0\n",
       "floors            0\n",
       "waterfront        0\n",
       "greenbelt         0\n",
       "nuisance          0\n",
       "view              0\n",
       "condition         0\n",
       "grade             0\n",
       "heat_source      32\n",
       "sewer_system     14\n",
       "sqft_above        0\n",
       "sqft_basement     0\n",
       "sqft_garage       0\n",
       "sqft_patio        0\n",
       "yr_built          0\n",
       "yr_renovated      0\n",
       "address           0\n",
       "lat               0\n",
       "long              0\n",
       "dtype: int64"
      ]
     },
     "execution_count": 12,
     "metadata": {},
     "output_type": "execute_result"
    }
   ],
   "source": [
    "# checking for nulls\n",
    "df.isna().sum()"
   ]
  },
  {
   "cell_type": "code",
   "execution_count": 13,
   "metadata": {
    "ExecuteTime": {
     "end_time": "2022-12-06T20:20:43.200968Z",
     "start_time": "2022-12-06T20:20:43.186310Z"
    }
   },
   "outputs": [],
   "source": [
    "# dropping nulls\n",
    "df.dropna(inplace=True)"
   ]
  },
  {
   "cell_type": "code",
   "execution_count": 14,
   "metadata": {
    "ExecuteTime": {
     "end_time": "2022-12-06T20:20:43.210636Z",
     "start_time": "2022-12-06T20:20:43.200968Z"
    }
   },
   "outputs": [
    {
     "data": {
      "text/plain": [
       "id               0\n",
       "date             0\n",
       "price            0\n",
       "bedrooms         0\n",
       "bathrooms        0\n",
       "sqft_living      0\n",
       "sqft_lot         0\n",
       "floors           0\n",
       "waterfront       0\n",
       "greenbelt        0\n",
       "nuisance         0\n",
       "view             0\n",
       "condition        0\n",
       "grade            0\n",
       "heat_source      0\n",
       "sewer_system     0\n",
       "sqft_above       0\n",
       "sqft_basement    0\n",
       "sqft_garage      0\n",
       "sqft_patio       0\n",
       "yr_built         0\n",
       "yr_renovated     0\n",
       "address          0\n",
       "lat              0\n",
       "long             0\n",
       "dtype: int64"
      ]
     },
     "execution_count": 14,
     "metadata": {},
     "output_type": "execute_result"
    }
   ],
   "source": [
    "# confirming nulls dropped\n",
    "df.isna().sum()"
   ]
  },
  {
   "cell_type": "markdown",
   "metadata": {},
   "source": [
    "### Checking each features and decide to drop some outliers in price to within 3 standard deviations\n",
    "\n",
    "Only losing .6 percent of data"
   ]
  },
  {
   "cell_type": "code",
   "execution_count": 15,
   "metadata": {},
   "outputs": [
    {
     "name": "stderr",
     "output_type": "stream",
     "text": [
      "C:\\Users\\Chiafeng\\anaconda3\\envs\\learn-env\\lib\\site-packages\\seaborn\\_decorators.py:36: FutureWarning: Pass the following variable as a keyword arg: x. From version 0.12, the only valid positional argument will be `data`, and passing other arguments without an explicit keyword will result in an error or misinterpretation.\n",
      "  warnings.warn(\n"
     ]
    },
    {
     "data": {
      "image/png": "[encoded data removed]",
      "text/plain": [
       "<Figure size 432x288 with 1 Axes>"
      ]
     },
     "metadata": {
      "needs_background": "light"
     },
     "output_type": "display_data"
    }
   ],
   "source": [
    "sns.boxplot(df['price']);"
   ]
  },
  {
   "cell_type": "code",
   "execution_count": 16,
   "metadata": {},
   "outputs": [],
   "source": [
    "df_no_outliers = df[(df['price'] > np.percentile(df['price'], .3)) & (df['price'] < np.percentile(df['price'], 99.7))]"
   ]
  },
  {
   "cell_type": "code",
   "execution_count": 17,
   "metadata": {},
   "outputs": [
    {
     "name": "stdout",
     "output_type": "stream",
     "text": [
      "Series([], Name: price, dtype: float64) 3059     7000000.0\n",
      "4454     7000000.0\n",
      "4455     7000000.0\n",
      "12564    7000000.0\n",
      "29947    7000000.0\n",
      "Name: price, dtype: float64\n"
     ]
    }
   ],
   "source": [
    "lower_price_point = df.loc[df['price'] == np.percentile(df['price'], .3)]['price']\n",
    "upper_price_point = df.loc[df['price'] == np.percentile(df['price'], 99.7)]['price']\n",
    "\n",
    "print(lower_price_point, upper_price_point)"
   ]
  },
  {
   "cell_type": "code",
   "execution_count": 18,
   "metadata": {},
   "outputs": [
    {
     "data": {
      "image/png": "[encoded data removed]",
      "text/plain": [
       "<Figure size 432x288 with 1 Axes>"
      ]
     },
     "metadata": {
      "needs_background": "light"
     },
     "output_type": "display_data"
    }
   ],
   "source": [
    "sns.histplot(df_no_outliers['price']);"
   ]
  },
  {
   "cell_type": "code",
   "execution_count": 19,
   "metadata": {
    "ExecuteTime": {
     "end_time": "2022-12-06T20:20:43.224578Z",
     "start_time": "2022-12-06T20:20:43.210636Z"
    },
    "scrolled": false
   },
   "outputs": [
    {
     "name": "stdout",
     "output_type": "stream",
     "text": [
      "<class 'pandas.core.frame.DataFrame'>\n",
      "Int64Index: 30111 entries, 0 to 30154\n",
      "Data columns (total 25 columns):\n",
      " #   Column         Non-Null Count  Dtype  \n",
      "---  ------         --------------  -----  \n",
      " 0   id             30111 non-null  int64  \n",
      " 1   date           30111 non-null  object \n",
      " 2   price          30111 non-null  float64\n",
      " 3   bedrooms       30111 non-null  int64  \n",
      " 4   bathrooms      30111 non-null  float64\n",
      " 5   sqft_living    30111 non-null  int64  \n",
      " 6   sqft_lot       30111 non-null  int64  \n",
      " 7   floors         30111 non-null  float64\n",
      " 8   waterfront     30111 non-null  object \n",
      " 9   greenbelt      30111 non-null  object \n",
      " 10  nuisance       30111 non-null  object \n",
      " 11  view           30111 non-null  object \n",
      " 12  condition      30111 non-null  object \n",
      " 13  grade          30111 non-null  object \n",
      " 14  heat_source    30111 non-null  object \n",
      " 15  sewer_system   30111 non-null  object \n",
      " 16  sqft_above     30111 non-null  int64  \n",
      " 17  sqft_basement  30111 non-null  int64  \n",
      " 18  sqft_garage    30111 non-null  int64  \n",
      " 19  sqft_patio     30111 non-null  int64  \n",
      " 20  yr_built       30111 non-null  int64  \n",
      " 21  yr_renovated   30111 non-null  int64  \n",
      " 22  address        30111 non-null  object \n",
      " 23  lat            30111 non-null  float64\n",
      " 24  long           30111 non-null  float64\n",
      "dtypes: float64(5), int64(10), object(10)\n",
      "memory usage: 6.0+ MB\n"
     ]
    }
   ],
   "source": [
    "df.info()"
   ]
  },
  {
   "cell_type": "code",
   "execution_count": 20,
   "metadata": {
    "ExecuteTime": {
     "end_time": "2022-12-06T20:20:43.263104Z",
     "start_time": "2022-12-06T20:20:43.251460Z"
    }
   },
   "outputs": [
    {
     "data": {
      "text/plain": [
       "price            1.000000\n",
       "sqft_living      0.655892\n",
       "sqft_above       0.583745\n",
       "bathrooms        0.517427\n",
       "bedrooms         0.337179\n",
       "sqft_patio       0.309581\n",
       "sqft_garage      0.296795\n",
       "sqft_basement    0.238018\n",
       "floors           0.205952\n",
       "yr_built         0.106209\n",
       "sqft_lot         0.096905\n",
       "yr_renovated     0.085222\n",
       "lat              0.080874\n",
       "long            -0.033954\n",
       "id              -0.035254\n",
       "Name: price, dtype: float64"
      ]
     },
     "execution_count": 20,
     "metadata": {},
     "output_type": "execute_result"
    }
   ],
   "source": [
    "df_no_outliers.corr()['price'].sort_values(ascending=False)"
   ]
  },
  {
   "cell_type": "code",
   "execution_count": 26,
   "metadata": {},
   "outputs": [
    {
     "data": {
      "image/png": "[encoded data removed]",
      "text/plain": [
       "<Figure size 720x720 with 2 Axes>"
      ]
     },
     "metadata": {
      "needs_background": "light"
     },
     "output_type": "display_data"
    }
   ],
   "source": [
    "# Checking for Multicollinearity\n",
    "fig = plt.subplots(figsize=(10,10)) \n",
    "sns.heatmap(df_no_outliers.corr(), annot=True);"
   ]
  },
  {
   "cell_type": "markdown",
   "metadata": {},
   "source": [
    "#### Creating a new DF that now has features dropped (after dropping outliers in price)\n",
    "These columns are not relevant for a variety of reasons listed above"
   ]
  },
  {
   "cell_type": "markdown",
   "metadata": {},
   "source": [
    "# TESTING ALL MODELS"
   ]
  },
  {
   "cell_type": "code",
   "execution_count": 14,
   "metadata": {},
   "outputs": [],
   "source": [
    "df_dropped_t = df_no_outliers.drop(['id', 'address', 'lat', 'long', 'date'], axis = 1)"
   ]
  },
  {
   "cell_type": "code",
   "execution_count": 37,
   "metadata": {},
   "outputs": [
    {
     "name": "stdout",
     "output_type": "stream",
     "text": [
      "<class 'pandas.core.frame.DataFrame'>\n",
      "Int64Index: 29927 entries, 0 to 30154\n",
      "Data columns (total 20 columns):\n",
      " #   Column         Non-Null Count  Dtype  \n",
      "---  ------         --------------  -----  \n",
      " 0   price          29927 non-null  float64\n",
      " 1   bedrooms       29927 non-null  int64  \n",
      " 2   bathrooms      29927 non-null  float64\n",
      " 3   sqft_living    29927 non-null  int64  \n",
      " 4   sqft_lot       29927 non-null  int64  \n",
      " 5   floors         29927 non-null  float64\n",
      " 6   waterfront     29927 non-null  int64  \n",
      " 7   greenbelt      29927 non-null  int64  \n",
      " 8   nuisance       29927 non-null  int64  \n",
      " 9   view           29927 non-null  int64  \n",
      " 10  condition      29927 non-null  int64  \n",
      " 11  grade          29927 non-null  int64  \n",
      " 12  heat_source    29927 non-null  int64  \n",
      " 13  sewer_system   29927 non-null  int64  \n",
      " 14  sqft_above     29927 non-null  int64  \n",
      " 15  sqft_basement  29927 non-null  int64  \n",
      " 16  sqft_garage    29927 non-null  int64  \n",
      " 17  sqft_patio     29927 non-null  int64  \n",
      " 18  yr_built       29927 non-null  int64  \n",
      " 19  yr_renovated   29927 non-null  int64  \n",
      "dtypes: float64(3), int64(17)\n",
      "memory usage: 4.8 MB\n"
     ]
    }
   ],
   "source": [
    "df_dropped_t.info()"
   ]
  },
  {
   "cell_type": "code",
   "execution_count": 45,
   "metadata": {},
   "outputs": [
    {
     "data": {
      "text/plain": [
       "3    18385\n",
       "4     8017\n",
       "5     3242\n",
       "2      224\n",
       "1       59\n",
       "Name: condition, dtype: int64"
      ]
     },
     "execution_count": 45,
     "metadata": {},
     "output_type": "execute_result"
    }
   ],
   "source": [
    "df_dropped_t['condition'].value_counts()"
   ]
  },
  {
   "cell_type": "code",
   "execution_count": 35,
   "metadata": {},
   "outputs": [],
   "source": [
    "df_dropped_t['greenbelt'].replace({\"NO\":0, \"YES\":1}, inplace=True)"
   ]
  },
  {
   "cell_type": "code",
   "execution_count": 17,
   "metadata": {},
   "outputs": [],
   "source": [
    "df_dropped_t['waterfront'].replace({\"NO\":0, \"YES\":1}, inplace=True)"
   ]
  },
  {
   "cell_type": "code",
   "execution_count": 18,
   "metadata": {},
   "outputs": [],
   "source": [
    "df_dropped_t['view'].replace({\"EXCELLENT\":5, \"GOOD\":4 , \"AVERAGE\":3, \"FAIR\": 2, \"NONE\":1}, inplace=True)"
   ]
  },
  {
   "cell_type": "code",
   "execution_count": 20,
   "metadata": {},
   "outputs": [],
   "source": [
    "df_dropped_t['condition'].replace({\"Very Good\":5, \"Good\":4 , \"Average\":3, \"Fair\": 2, \"Poor\":1}, inplace=True)"
   ]
  },
  {
   "cell_type": "code",
   "execution_count": 23,
   "metadata": {},
   "outputs": [],
   "source": [
    "df_dropped_t['nuisance'].replace({\"NO\":0, \"YES\":1}, inplace=True)"
   ]
  },
  {
   "cell_type": "code",
   "execution_count": 24,
   "metadata": {},
   "outputs": [],
   "source": [
    "df_dropped_t['grade'].replace({\"7 Average\":7, \"8 Good\":8 , \"9 Better\":9,\n",
    "                             \"6 Low Average\": 6, \"10 Very Good\":10,\n",
    "                            \"5 Fair\":5, \"11 Excellent\":11, \"12 Luxury\":12,\n",
    "                            \"4 Low\":4, \"13 Mansion\":13, \"3 Poor\":3, \"2 Substandard\":2},\n",
    "                            inplace=True)"
   ]
  },
  {
   "cell_type": "code",
   "execution_count": 27,
   "metadata": {},
   "outputs": [],
   "source": [
    "df_dropped_t['heat_source'].replace({\"Gas\":7, \"Electricity\":6 , \"Oil\":5, \"Gas/Solar\": 4, \"Electricity/Solar\":3,\n",
    "                                    \"Other\":2, \"Oil/Solar\":1 }, inplace=True)"
   ]
  },
  {
   "cell_type": "code",
   "execution_count": 30,
   "metadata": {},
   "outputs": [],
   "source": [
    "df_dropped_t['sewer_system'].replace({\"PUBLIC\":4 , \"PRIVATE\":3, \"PRIVATE RESTRICTED\": 2,\n",
    "                                      \"PUBLIC RESTRICTED\":1}, inplace=True)"
   ]
  },
  {
   "cell_type": "code",
   "execution_count": 49,
   "metadata": {},
   "outputs": [
    {
     "data": {
      "text/plain": [
       "Index(['price', 'bedrooms', 'bathrooms', 'sqft_living', 'sqft_lot', 'floors',\n",
       "       'sqft_above', 'sqft_basement', 'sqft_garage', 'sqft_patio', 'yr_built',\n",
       "       'yr_renovated', 'condition_2', 'condition_3', 'condition_4',\n",
       "       'condition_5', 'nuisance_1', 'grade_3', 'grade_4', 'grade_5', 'grade_6',\n",
       "       'grade_7', 'grade_8', 'grade_9', 'grade_10', 'grade_11', 'grade_12',\n",
       "       'grade_13', 'greenbelt_1', 'waterfront_1', 'view_2', 'view_3', 'view_4',\n",
       "       'view_5', 'heat_source_2', 'heat_source_3', 'heat_source_4',\n",
       "       'heat_source_5', 'heat_source_6', 'heat_source_7', 'sewer_system_2',\n",
       "       'sewer_system_3', 'sewer_system_4'],\n",
       "      dtype='object')"
      ]
     },
     "execution_count": 49,
     "metadata": {},
     "output_type": "execute_result"
    }
   ],
   "source": [
    "df_dum_cond = pd.get_dummies(df_dropped_t, columns=['condition', 'nuisance', 'grade', 'greenbelt',\n",
    "                                                   'waterfront', 'view', 'heat_source', 'sewer_system'],\n",
    "                             drop_first=True)\n",
    "df_dum_cond.columns"
   ]
  },
  {
   "cell_type": "markdown",
   "metadata": {},
   "source": [
    "# Model: \"price\" and \"condition\" only"
   ]
  },
  {
   "cell_type": "code",
   "execution_count": 50,
   "metadata": {},
   "outputs": [
    {
     "data": {
      "text/html": [
       "<table class=\"simpletable\">\n",
       "<caption>OLS Regression Results</caption>\n",
       "<tr>\n",
       "  <th>Dep. Variable:</th>          <td>price</td>      <th>  R-squared:         </th>  <td>   0.003</td>  \n",
       "</tr>\n",
       "<tr>\n",
       "  <th>Model:</th>                   <td>OLS</td>       <th>  Adj. R-squared:    </th>  <td>   0.003</td>  \n",
       "</tr>\n",
       "<tr>\n",
       "  <th>Method:</th>             <td>Least Squares</td>  <th>  F-statistic:       </th>  <td>   25.22</td>  \n",
       "</tr>\n",
       "<tr>\n",
       "  <th>Date:</th>             <td>Thu, 08 Dec 2022</td> <th>  Prob (F-statistic):</th>  <td>6.89e-21</td>  \n",
       "</tr>\n",
       "<tr>\n",
       "  <th>Time:</th>                 <td>10:27:10</td>     <th>  Log-Likelihood:    </th> <td>-4.4605e+05</td>\n",
       "</tr>\n",
       "<tr>\n",
       "  <th>No. Observations:</th>      <td> 29927</td>      <th>  AIC:               </th>  <td>8.921e+05</td> \n",
       "</tr>\n",
       "<tr>\n",
       "  <th>Df Residuals:</th>          <td> 29922</td>      <th>  BIC:               </th>  <td>8.921e+05</td> \n",
       "</tr>\n",
       "<tr>\n",
       "  <th>Df Model:</th>              <td>     4</td>      <th>                     </th>      <td> </td>     \n",
       "</tr>\n",
       "<tr>\n",
       "  <th>Covariance Type:</th>      <td>nonrobust</td>    <th>                     </th>      <td> </td>     \n",
       "</tr>\n",
       "</table>\n",
       "<table class=\"simpletable\">\n",
       "<tr>\n",
       "       <td></td>          <th>coef</th>     <th>std err</th>      <th>t</th>      <th>P>|t|</th>  <th>[0.025</th>    <th>0.975]</th>  \n",
       "</tr>\n",
       "<tr>\n",
       "  <th>const</th>       <td> 7.025e+05</td> <td> 9.36e+04</td> <td>    7.505</td> <td> 0.000</td> <td> 5.19e+05</td> <td> 8.86e+05</td>\n",
       "</tr>\n",
       "<tr>\n",
       "  <th>condition_2</th> <td> 9.304e+04</td> <td> 1.05e+05</td> <td>    0.884</td> <td> 0.377</td> <td>-1.13e+05</td> <td> 2.99e+05</td>\n",
       "</tr>\n",
       "<tr>\n",
       "  <th>condition_3</th> <td> 4.016e+05</td> <td> 9.38e+04</td> <td>    4.284</td> <td> 0.000</td> <td> 2.18e+05</td> <td> 5.85e+05</td>\n",
       "</tr>\n",
       "<tr>\n",
       "  <th>condition_4</th> <td> 3.382e+05</td> <td>  9.4e+04</td> <td>    3.600</td> <td> 0.000</td> <td> 1.54e+05</td> <td> 5.22e+05</td>\n",
       "</tr>\n",
       "<tr>\n",
       "  <th>condition_5</th> <td> 4.094e+05</td> <td> 9.45e+04</td> <td>    4.334</td> <td> 0.000</td> <td> 2.24e+05</td> <td> 5.95e+05</td>\n",
       "</tr>\n",
       "</table>\n",
       "<table class=\"simpletable\">\n",
       "<tr>\n",
       "  <th>Omnibus:</th>       <td>17037.766</td> <th>  Durbin-Watson:     </th>  <td>   1.952</td> \n",
       "</tr>\n",
       "<tr>\n",
       "  <th>Prob(Omnibus):</th>  <td> 0.000</td>   <th>  Jarque-Bera (JB):  </th> <td>168272.329</td>\n",
       "</tr>\n",
       "<tr>\n",
       "  <th>Skew:</th>           <td> 2.605</td>   <th>  Prob(JB):          </th>  <td>    0.00</td> \n",
       "</tr>\n",
       "<tr>\n",
       "  <th>Kurtosis:</th>       <td>13.383</td>   <th>  Cond. No.          </th>  <td>    62.0</td> \n",
       "</tr>\n",
       "</table><br/><br/>Notes:<br/>[1] Standard Errors assume that the covariance matrix of the errors is correctly specified."
      ],
      "text/plain": [
       "<class 'statsmodels.iolib.summary.Summary'>\n",
       "\"\"\"\n",
       "                            OLS Regression Results                            \n",
       "==============================================================================\n",
       "Dep. Variable:                  price   R-squared:                       0.003\n",
       "Model:                            OLS   Adj. R-squared:                  0.003\n",
       "Method:                 Least Squares   F-statistic:                     25.22\n",
       "Date:                Thu, 08 Dec 2022   Prob (F-statistic):           6.89e-21\n",
       "Time:                        10:27:10   Log-Likelihood:            -4.4605e+05\n",
       "No. Observations:               29927   AIC:                         8.921e+05\n",
       "Df Residuals:                   29922   BIC:                         8.921e+05\n",
       "Df Model:                           4                                         \n",
       "Covariance Type:            nonrobust                                         \n",
       "===============================================================================\n",
       "                  coef    std err          t      P>|t|      [0.025      0.975]\n",
       "-------------------------------------------------------------------------------\n",
       "const        7.025e+05   9.36e+04      7.505      0.000    5.19e+05    8.86e+05\n",
       "condition_2  9.304e+04   1.05e+05      0.884      0.377   -1.13e+05    2.99e+05\n",
       "condition_3  4.016e+05   9.38e+04      4.284      0.000    2.18e+05    5.85e+05\n",
       "condition_4  3.382e+05    9.4e+04      3.600      0.000    1.54e+05    5.22e+05\n",
       "condition_5  4.094e+05   9.45e+04      4.334      0.000    2.24e+05    5.95e+05\n",
       "==============================================================================\n",
       "Omnibus:                    17037.766   Durbin-Watson:                   1.952\n",
       "Prob(Omnibus):                  0.000   Jarque-Bera (JB):           168272.329\n",
       "Skew:                           2.605   Prob(JB):                         0.00\n",
       "Kurtosis:                      13.383   Cond. No.                         62.0\n",
       "==============================================================================\n",
       "\n",
       "Notes:\n",
       "[1] Standard Errors assume that the covariance matrix of the errors is correctly specified.\n",
       "\"\"\""
      ]
     },
     "execution_count": 50,
     "metadata": {},
     "output_type": "execute_result"
    }
   ],
   "source": [
    "\n",
    "X = df_dum_cond[['condition_2', 'condition_3', 'condition_4', 'condition_5']]\n",
    "y = df_dum_cond[['price']]\n",
    "\n",
    "price_cond_model = sm.OLS(y, sm.add_constant(X)).fit()\n",
    "\n",
    "# viewing the baseline model\n",
    "price_cond_model.summary()"
   ]
  },
  {
   "cell_type": "markdown",
   "metadata": {},
   "source": [
    "# Model: \"price\" and every features"
   ]
  },
  {
   "cell_type": "code",
   "execution_count": 27,
   "metadata": {},
   "outputs": [],
   "source": [
    "# Dropping columns that seem to have little effect\n",
    "df_dropped = df_no_outliers.drop(['id', 'address', 'lat', 'long', 'yr_renovated',\n",
    "                                  'date', 'waterfront', 'greenbelt', 'view'], axis = 1)"
   ]
  },
  {
   "cell_type": "code",
   "execution_count": 53,
   "metadata": {},
   "outputs": [
    {
     "data": {
      "text/html": [
       "<table class=\"simpletable\">\n",
       "<caption>OLS Regression Results</caption>\n",
       "<tr>\n",
       "  <th>Dep. Variable:</th>          <td>price</td>      <th>  R-squared:         </th>  <td>   0.574</td>  \n",
       "</tr>\n",
       "<tr>\n",
       "  <th>Model:</th>                   <td>OLS</td>       <th>  Adj. R-squared:    </th>  <td>   0.573</td>  \n",
       "</tr>\n",
       "<tr>\n",
       "  <th>Method:</th>             <td>Least Squares</td>  <th>  F-statistic:       </th>  <td>   958.0</td>  \n",
       "</tr>\n",
       "<tr>\n",
       "  <th>Date:</th>             <td>Thu, 08 Dec 2022</td> <th>  Prob (F-statistic):</th>   <td>  0.00</td>   \n",
       "</tr>\n",
       "<tr>\n",
       "  <th>Time:</th>                 <td>10:36:56</td>     <th>  Log-Likelihood:    </th> <td>-4.3334e+05</td>\n",
       "</tr>\n",
       "<tr>\n",
       "  <th>No. Observations:</th>      <td> 29927</td>      <th>  AIC:               </th>  <td>8.668e+05</td> \n",
       "</tr>\n",
       "<tr>\n",
       "  <th>Df Residuals:</th>          <td> 29884</td>      <th>  BIC:               </th>  <td>8.671e+05</td> \n",
       "</tr>\n",
       "<tr>\n",
       "  <th>Df Model:</th>              <td>    42</td>      <th>                     </th>      <td> </td>     \n",
       "</tr>\n",
       "<tr>\n",
       "  <th>Covariance Type:</th>      <td>nonrobust</td>    <th>                     </th>      <td> </td>     \n",
       "</tr>\n",
       "</table>\n",
       "<table class=\"simpletable\">\n",
       "<tr>\n",
       "         <td></td>           <th>coef</th>     <th>std err</th>      <th>t</th>      <th>P>|t|</th>  <th>[0.025</th>    <th>0.975]</th>  \n",
       "</tr>\n",
       "<tr>\n",
       "  <th>const</th>          <td> 6.485e+06</td> <td> 6.55e+05</td> <td>    9.906</td> <td> 0.000</td> <td>  5.2e+06</td> <td> 7.77e+06</td>\n",
       "</tr>\n",
       "<tr>\n",
       "  <th>bedrooms</th>       <td>-3.974e+04</td> <td> 3976.717</td> <td>   -9.994</td> <td> 0.000</td> <td>-4.75e+04</td> <td>-3.19e+04</td>\n",
       "</tr>\n",
       "<tr>\n",
       "  <th>bathrooms</th>      <td> 8.531e+04</td> <td> 5680.344</td> <td>   15.019</td> <td> 0.000</td> <td> 7.42e+04</td> <td> 9.64e+04</td>\n",
       "</tr>\n",
       "<tr>\n",
       "  <th>sqft_living</th>    <td>  124.2382</td> <td>   13.133</td> <td>    9.460</td> <td> 0.000</td> <td>   98.497</td> <td>  149.979</td>\n",
       "</tr>\n",
       "<tr>\n",
       "  <th>sqft_lot</th>       <td>    0.3393</td> <td>    0.050</td> <td>    6.849</td> <td> 0.000</td> <td>    0.242</td> <td>    0.436</td>\n",
       "</tr>\n",
       "<tr>\n",
       "  <th>floors</th>         <td>-4.569e+04</td> <td> 7045.190</td> <td>   -6.485</td> <td> 0.000</td> <td>-5.95e+04</td> <td>-3.19e+04</td>\n",
       "</tr>\n",
       "<tr>\n",
       "  <th>sqft_above</th>     <td>  157.0154</td> <td>   13.381</td> <td>   11.734</td> <td> 0.000</td> <td>  130.788</td> <td>  183.242</td>\n",
       "</tr>\n",
       "<tr>\n",
       "  <th>sqft_basement</th>  <td>   83.1806</td> <td>    9.914</td> <td>    8.390</td> <td> 0.000</td> <td>   63.749</td> <td>  102.613</td>\n",
       "</tr>\n",
       "<tr>\n",
       "  <th>sqft_garage</th>    <td> -124.6382</td> <td>   13.606</td> <td>   -9.160</td> <td> 0.000</td> <td> -151.307</td> <td>  -97.969</td>\n",
       "</tr>\n",
       "<tr>\n",
       "  <th>sqft_patio</th>     <td>   59.9792</td> <td>   12.879</td> <td>    4.657</td> <td> 0.000</td> <td>   34.736</td> <td>   85.222</td>\n",
       "</tr>\n",
       "<tr>\n",
       "  <th>yr_built</th>       <td>-3145.9834</td> <td>  142.940</td> <td>  -22.009</td> <td> 0.000</td> <td>-3426.151</td> <td>-2865.816</td>\n",
       "</tr>\n",
       "<tr>\n",
       "  <th>yr_renovated</th>   <td>   43.4394</td> <td>    7.178</td> <td>    6.052</td> <td> 0.000</td> <td>   29.371</td> <td>   57.508</td>\n",
       "</tr>\n",
       "<tr>\n",
       "  <th>condition_2</th>    <td> 2.964e+04</td> <td> 7.09e+04</td> <td>    0.418</td> <td> 0.676</td> <td>-1.09e+05</td> <td> 1.69e+05</td>\n",
       "</tr>\n",
       "<tr>\n",
       "  <th>condition_3</th>    <td> 7.888e+04</td> <td> 6.43e+04</td> <td>    1.227</td> <td> 0.220</td> <td>-4.71e+04</td> <td> 2.05e+05</td>\n",
       "</tr>\n",
       "<tr>\n",
       "  <th>condition_4</th>    <td> 1.194e+05</td> <td> 6.43e+04</td> <td>    1.856</td> <td> 0.064</td> <td>-6717.473</td> <td> 2.46e+05</td>\n",
       "</tr>\n",
       "<tr>\n",
       "  <th>condition_5</th>    <td>  1.79e+05</td> <td> 6.47e+04</td> <td>    2.767</td> <td> 0.006</td> <td> 5.22e+04</td> <td> 3.06e+05</td>\n",
       "</tr>\n",
       "<tr>\n",
       "  <th>nuisance_1</th>     <td> 4.083e+04</td> <td> 7341.344</td> <td>    5.562</td> <td> 0.000</td> <td> 2.64e+04</td> <td> 5.52e+04</td>\n",
       "</tr>\n",
       "<tr>\n",
       "  <th>grade_3</th>        <td>-2.693e+05</td> <td>    5e+05</td> <td>   -0.539</td> <td> 0.590</td> <td>-1.25e+06</td> <td> 7.11e+05</td>\n",
       "</tr>\n",
       "<tr>\n",
       "  <th>grade_4</th>        <td>-1.739e+05</td> <td> 4.79e+05</td> <td>   -0.363</td> <td> 0.717</td> <td>-1.11e+06</td> <td> 7.66e+05</td>\n",
       "</tr>\n",
       "<tr>\n",
       "  <th>grade_5</th>        <td>-2.269e+05</td> <td> 4.75e+05</td> <td>   -0.477</td> <td> 0.633</td> <td>-1.16e+06</td> <td> 7.05e+05</td>\n",
       "</tr>\n",
       "<tr>\n",
       "  <th>grade_6</th>        <td>-2.357e+05</td> <td> 4.75e+05</td> <td>   -0.496</td> <td> 0.620</td> <td>-1.17e+06</td> <td> 6.95e+05</td>\n",
       "</tr>\n",
       "<tr>\n",
       "  <th>grade_7</th>        <td>-1.343e+05</td> <td> 4.75e+05</td> <td>   -0.283</td> <td> 0.777</td> <td>-1.07e+06</td> <td> 7.97e+05</td>\n",
       "</tr>\n",
       "<tr>\n",
       "  <th>grade_8</th>        <td> 4.704e+04</td> <td> 4.75e+05</td> <td>    0.099</td> <td> 0.921</td> <td>-8.84e+05</td> <td> 9.78e+05</td>\n",
       "</tr>\n",
       "<tr>\n",
       "  <th>grade_9</th>        <td> 3.931e+05</td> <td> 4.75e+05</td> <td>    0.827</td> <td> 0.408</td> <td>-5.38e+05</td> <td> 1.32e+06</td>\n",
       "</tr>\n",
       "<tr>\n",
       "  <th>grade_10</th>       <td>  8.51e+05</td> <td> 4.75e+05</td> <td>    1.790</td> <td> 0.073</td> <td>-8.07e+04</td> <td> 1.78e+06</td>\n",
       "</tr>\n",
       "<tr>\n",
       "  <th>grade_11</th>       <td> 1.378e+06</td> <td> 4.76e+05</td> <td>    2.895</td> <td> 0.004</td> <td> 4.45e+05</td> <td> 2.31e+06</td>\n",
       "</tr>\n",
       "<tr>\n",
       "  <th>grade_12</th>       <td> 1.708e+06</td> <td> 4.78e+05</td> <td>    3.576</td> <td> 0.000</td> <td> 7.72e+05</td> <td> 2.64e+06</td>\n",
       "</tr>\n",
       "<tr>\n",
       "  <th>grade_13</th>       <td> 1.865e+06</td> <td> 4.95e+05</td> <td>    3.767</td> <td> 0.000</td> <td> 8.94e+05</td> <td> 2.83e+06</td>\n",
       "</tr>\n",
       "<tr>\n",
       "  <th>greenbelt_1</th>    <td> 4.301e+04</td> <td> 1.75e+04</td> <td>    2.464</td> <td> 0.014</td> <td> 8794.246</td> <td> 7.72e+04</td>\n",
       "</tr>\n",
       "<tr>\n",
       "  <th>waterfront_1</th>   <td> 3.574e+05</td> <td> 2.59e+04</td> <td>   13.797</td> <td> 0.000</td> <td> 3.07e+05</td> <td> 4.08e+05</td>\n",
       "</tr>\n",
       "<tr>\n",
       "  <th>view_2</th>         <td> 1.606e+05</td> <td> 3.24e+04</td> <td>    4.951</td> <td> 0.000</td> <td>  9.7e+04</td> <td> 2.24e+05</td>\n",
       "</tr>\n",
       "<tr>\n",
       "  <th>view_3</th>         <td> 5.685e+04</td> <td> 1.16e+04</td> <td>    4.880</td> <td> 0.000</td> <td>  3.4e+04</td> <td> 7.97e+04</td>\n",
       "</tr>\n",
       "<tr>\n",
       "  <th>view_4</th>         <td> 7.974e+04</td> <td>  1.7e+04</td> <td>    4.688</td> <td> 0.000</td> <td> 4.64e+04</td> <td> 1.13e+05</td>\n",
       "</tr>\n",
       "<tr>\n",
       "  <th>view_5</th>         <td> 4.642e+05</td> <td>  2.5e+04</td> <td>   18.587</td> <td> 0.000</td> <td> 4.15e+05</td> <td> 5.13e+05</td>\n",
       "</tr>\n",
       "<tr>\n",
       "  <th>heat_source_2</th>  <td> 1.238e+05</td> <td> 2.59e+05</td> <td>    0.478</td> <td> 0.633</td> <td>-3.84e+05</td> <td> 6.32e+05</td>\n",
       "</tr>\n",
       "<tr>\n",
       "  <th>heat_source_3</th>  <td>-2.133e+04</td> <td> 2.43e+05</td> <td>   -0.088</td> <td> 0.930</td> <td>-4.98e+05</td> <td> 4.55e+05</td>\n",
       "</tr>\n",
       "<tr>\n",
       "  <th>heat_source_4</th>  <td> 2.148e+05</td> <td>  2.4e+05</td> <td>    0.893</td> <td> 0.372</td> <td>-2.57e+05</td> <td> 6.86e+05</td>\n",
       "</tr>\n",
       "<tr>\n",
       "  <th>heat_source_5</th>  <td> 4.961e+04</td> <td> 2.35e+05</td> <td>    0.211</td> <td> 0.833</td> <td>-4.12e+05</td> <td> 5.11e+05</td>\n",
       "</tr>\n",
       "<tr>\n",
       "  <th>heat_source_6</th>  <td>  3.97e+04</td> <td> 2.35e+05</td> <td>    0.169</td> <td> 0.866</td> <td>-4.22e+05</td> <td> 5.01e+05</td>\n",
       "</tr>\n",
       "<tr>\n",
       "  <th>heat_source_7</th>  <td> 5.193e+04</td> <td> 2.35e+05</td> <td>    0.221</td> <td> 0.825</td> <td>-4.09e+05</td> <td> 5.13e+05</td>\n",
       "</tr>\n",
       "<tr>\n",
       "  <th>sewer_system_2</th> <td>-1.704e+05</td> <td> 3.61e+05</td> <td>   -0.472</td> <td> 0.637</td> <td>-8.79e+05</td> <td> 5.38e+05</td>\n",
       "</tr>\n",
       "<tr>\n",
       "  <th>sewer_system_3</th> <td>-1.172e+05</td> <td> 2.72e+05</td> <td>   -0.431</td> <td> 0.667</td> <td> -6.5e+05</td> <td> 4.16e+05</td>\n",
       "</tr>\n",
       "<tr>\n",
       "  <th>sewer_system_4</th> <td> 5.156e+04</td> <td> 2.72e+05</td> <td>    0.190</td> <td> 0.850</td> <td>-4.81e+05</td> <td> 5.84e+05</td>\n",
       "</tr>\n",
       "</table>\n",
       "<table class=\"simpletable\">\n",
       "<tr>\n",
       "  <th>Omnibus:</th>       <td>14412.790</td> <th>  Durbin-Watson:     </th>  <td>   1.898</td> \n",
       "</tr>\n",
       "<tr>\n",
       "  <th>Prob(Omnibus):</th>  <td> 0.000</td>   <th>  Jarque-Bera (JB):  </th> <td>234045.412</td>\n",
       "</tr>\n",
       "<tr>\n",
       "  <th>Skew:</th>           <td> 1.915</td>   <th>  Prob(JB):          </th>  <td>    0.00</td> \n",
       "</tr>\n",
       "<tr>\n",
       "  <th>Kurtosis:</th>       <td>16.154</td>   <th>  Cond. No.          </th>  <td>3.77e+07</td> \n",
       "</tr>\n",
       "</table><br/><br/>Notes:<br/>[1] Standard Errors assume that the covariance matrix of the errors is correctly specified.<br/>[2] The condition number is large, 3.77e+07. This might indicate that there are<br/>strong multicollinearity or other numerical problems."
      ],
      "text/plain": [
       "<class 'statsmodels.iolib.summary.Summary'>\n",
       "\"\"\"\n",
       "                            OLS Regression Results                            \n",
       "==============================================================================\n",
       "Dep. Variable:                  price   R-squared:                       0.574\n",
       "Model:                            OLS   Adj. R-squared:                  0.573\n",
       "Method:                 Least Squares   F-statistic:                     958.0\n",
       "Date:                Thu, 08 Dec 2022   Prob (F-statistic):               0.00\n",
       "Time:                        10:36:56   Log-Likelihood:            -4.3334e+05\n",
       "No. Observations:               29927   AIC:                         8.668e+05\n",
       "Df Residuals:                   29884   BIC:                         8.671e+05\n",
       "Df Model:                          42                                         \n",
       "Covariance Type:            nonrobust                                         \n",
       "==================================================================================\n",
       "                     coef    std err          t      P>|t|      [0.025      0.975]\n",
       "----------------------------------------------------------------------------------\n",
       "const           6.485e+06   6.55e+05      9.906      0.000     5.2e+06    7.77e+06\n",
       "bedrooms       -3.974e+04   3976.717     -9.994      0.000   -4.75e+04   -3.19e+04\n",
       "bathrooms       8.531e+04   5680.344     15.019      0.000    7.42e+04    9.64e+04\n",
       "sqft_living      124.2382     13.133      9.460      0.000      98.497     149.979\n",
       "sqft_lot           0.3393      0.050      6.849      0.000       0.242       0.436\n",
       "floors         -4.569e+04   7045.190     -6.485      0.000   -5.95e+04   -3.19e+04\n",
       "sqft_above       157.0154     13.381     11.734      0.000     130.788     183.242\n",
       "sqft_basement     83.1806      9.914      8.390      0.000      63.749     102.613\n",
       "sqft_garage     -124.6382     13.606     -9.160      0.000    -151.307     -97.969\n",
       "sqft_patio        59.9792     12.879      4.657      0.000      34.736      85.222\n",
       "yr_built       -3145.9834    142.940    -22.009      0.000   -3426.151   -2865.816\n",
       "yr_renovated      43.4394      7.178      6.052      0.000      29.371      57.508\n",
       "condition_2     2.964e+04   7.09e+04      0.418      0.676   -1.09e+05    1.69e+05\n",
       "condition_3     7.888e+04   6.43e+04      1.227      0.220   -4.71e+04    2.05e+05\n",
       "condition_4     1.194e+05   6.43e+04      1.856      0.064   -6717.473    2.46e+05\n",
       "condition_5      1.79e+05   6.47e+04      2.767      0.006    5.22e+04    3.06e+05\n",
       "nuisance_1      4.083e+04   7341.344      5.562      0.000    2.64e+04    5.52e+04\n",
       "grade_3        -2.693e+05      5e+05     -0.539      0.590   -1.25e+06    7.11e+05\n",
       "grade_4        -1.739e+05   4.79e+05     -0.363      0.717   -1.11e+06    7.66e+05\n",
       "grade_5        -2.269e+05   4.75e+05     -0.477      0.633   -1.16e+06    7.05e+05\n",
       "grade_6        -2.357e+05   4.75e+05     -0.496      0.620   -1.17e+06    6.95e+05\n",
       "grade_7        -1.343e+05   4.75e+05     -0.283      0.777   -1.07e+06    7.97e+05\n",
       "grade_8         4.704e+04   4.75e+05      0.099      0.921   -8.84e+05    9.78e+05\n",
       "grade_9         3.931e+05   4.75e+05      0.827      0.408   -5.38e+05    1.32e+06\n",
       "grade_10         8.51e+05   4.75e+05      1.790      0.073   -8.07e+04    1.78e+06\n",
       "grade_11        1.378e+06   4.76e+05      2.895      0.004    4.45e+05    2.31e+06\n",
       "grade_12        1.708e+06   4.78e+05      3.576      0.000    7.72e+05    2.64e+06\n",
       "grade_13        1.865e+06   4.95e+05      3.767      0.000    8.94e+05    2.83e+06\n",
       "greenbelt_1     4.301e+04   1.75e+04      2.464      0.014    8794.246    7.72e+04\n",
       "waterfront_1    3.574e+05   2.59e+04     13.797      0.000    3.07e+05    4.08e+05\n",
       "view_2          1.606e+05   3.24e+04      4.951      0.000     9.7e+04    2.24e+05\n",
       "view_3          5.685e+04   1.16e+04      4.880      0.000     3.4e+04    7.97e+04\n",
       "view_4          7.974e+04    1.7e+04      4.688      0.000    4.64e+04    1.13e+05\n",
       "view_5          4.642e+05    2.5e+04     18.587      0.000    4.15e+05    5.13e+05\n",
       "heat_source_2   1.238e+05   2.59e+05      0.478      0.633   -3.84e+05    6.32e+05\n",
       "heat_source_3  -2.133e+04   2.43e+05     -0.088      0.930   -4.98e+05    4.55e+05\n",
       "heat_source_4   2.148e+05    2.4e+05      0.893      0.372   -2.57e+05    6.86e+05\n",
       "heat_source_5   4.961e+04   2.35e+05      0.211      0.833   -4.12e+05    5.11e+05\n",
       "heat_source_6    3.97e+04   2.35e+05      0.169      0.866   -4.22e+05    5.01e+05\n",
       "heat_source_7   5.193e+04   2.35e+05      0.221      0.825   -4.09e+05    5.13e+05\n",
       "sewer_system_2 -1.704e+05   3.61e+05     -0.472      0.637   -8.79e+05    5.38e+05\n",
       "sewer_system_3 -1.172e+05   2.72e+05     -0.431      0.667    -6.5e+05    4.16e+05\n",
       "sewer_system_4  5.156e+04   2.72e+05      0.190      0.850   -4.81e+05    5.84e+05\n",
       "==============================================================================\n",
       "Omnibus:                    14412.790   Durbin-Watson:                   1.898\n",
       "Prob(Omnibus):                  0.000   Jarque-Bera (JB):           234045.412\n",
       "Skew:                           1.915   Prob(JB):                         0.00\n",
       "Kurtosis:                      16.154   Cond. No.                     3.77e+07\n",
       "==============================================================================\n",
       "\n",
       "Notes:\n",
       "[1] Standard Errors assume that the covariance matrix of the errors is correctly specified.\n",
       "[2] The condition number is large, 3.77e+07. This might indicate that there are\n",
       "strong multicollinearity or other numerical problems.\n",
       "\"\"\""
      ]
     },
     "execution_count": 53,
     "metadata": {},
     "output_type": "execute_result"
    }
   ],
   "source": [
    "X = df_dum_cond.drop(['price'], axis=1)\n",
    "y = df_dum_cond[['price']]\n",
    "\n",
    "price_all_model = sm.OLS(y, sm.add_constant(X)).fit()\n",
    "\n",
    "# viewing the baseline model\n",
    "price_all_model.summary()"
   ]
  },
  {
   "cell_type": "markdown",
   "metadata": {},
   "source": [
    "# Model: highest .corr() to price"
   ]
  },
  {
   "cell_type": "code",
   "execution_count": 52,
   "metadata": {
    "scrolled": true
   },
   "outputs": [],
   "source": [
    "# Dropping columns that seem to have little effect\n",
    "df_dropped = df_no_outliers.drop(['id', 'address', 'lat', 'long', 'yr_renovated',\n",
    "                                  'date', 'waterfront', 'greenbelt', 'view'], axis = 1)"
   ]
  },
  {
   "cell_type": "code",
   "execution_count": 53,
   "metadata": {},
   "outputs": [
    {
     "name": "stdout",
     "output_type": "stream",
     "text": [
      "<class 'pandas.core.frame.DataFrame'>\n",
      "Int64Index: 29927 entries, 0 to 30154\n",
      "Data columns (total 16 columns):\n",
      " #   Column         Non-Null Count  Dtype  \n",
      "---  ------         --------------  -----  \n",
      " 0   price          29927 non-null  float64\n",
      " 1   bedrooms       29927 non-null  int64  \n",
      " 2   bathrooms      29927 non-null  float64\n",
      " 3   sqft_living    29927 non-null  int64  \n",
      " 4   sqft_lot       29927 non-null  int64  \n",
      " 5   floors         29927 non-null  float64\n",
      " 6   nuisance       29927 non-null  object \n",
      " 7   condition      29927 non-null  object \n",
      " 8   grade          29927 non-null  object \n",
      " 9   heat_source    29927 non-null  object \n",
      " 10  sewer_system   29927 non-null  object \n",
      " 11  sqft_above     29927 non-null  int64  \n",
      " 12  sqft_basement  29927 non-null  int64  \n",
      " 13  sqft_garage    29927 non-null  int64  \n",
      " 14  sqft_patio     29927 non-null  int64  \n",
      " 15  yr_built       29927 non-null  int64  \n",
      "dtypes: float64(3), int64(8), object(5)\n",
      "memory usage: 3.9+ MB\n"
     ]
    }
   ],
   "source": [
    "df_dropped.info()"
   ]
  },
  {
   "cell_type": "code",
   "execution_count": null,
   "metadata": {},
   "outputs": [],
   "source": [
    "df_dropped['nuisance'].value_counts()"
   ]
  },
  {
   "cell_type": "code",
   "execution_count": null,
   "metadata": {},
   "outputs": [],
   "source": [
    "df_dropped['grade'].value_counts()"
   ]
  },
  {
   "cell_type": "code",
   "execution_count": null,
   "metadata": {},
   "outputs": [],
   "source": [
    "df_dropped['condition'].value_counts()"
   ]
  },
  {
   "cell_type": "code",
   "execution_count": null,
   "metadata": {},
   "outputs": [],
   "source": [
    "# df_dropped['sewer_system'].value_counts()"
   ]
  },
  {
   "cell_type": "code",
   "execution_count": null,
   "metadata": {},
   "outputs": [],
   "source": [
    "# df_dropped['heat_source'].sort_values().values"
   ]
  },
  {
   "cell_type": "markdown",
   "metadata": {},
   "source": [
    "#### Jasmie's model dropping more features:\n",
    "- yr_built, sewer_system, heat_source, sqft_lot"
   ]
  },
  {
   "cell_type": "code",
   "execution_count": 54,
   "metadata": {},
   "outputs": [
    {
     "name": "stdout",
     "output_type": "stream",
     "text": [
      "<class 'pandas.core.frame.DataFrame'>\n",
      "Int64Index: 29927 entries, 0 to 30154\n",
      "Data columns (total 12 columns):\n",
      " #   Column         Non-Null Count  Dtype  \n",
      "---  ------         --------------  -----  \n",
      " 0   price          29927 non-null  float64\n",
      " 1   bedrooms       29927 non-null  int64  \n",
      " 2   bathrooms      29927 non-null  float64\n",
      " 3   sqft_living    29927 non-null  int64  \n",
      " 4   floors         29927 non-null  float64\n",
      " 5   nuisance       29927 non-null  object \n",
      " 6   condition      29927 non-null  object \n",
      " 7   grade          29927 non-null  object \n",
      " 8   sqft_above     29927 non-null  int64  \n",
      " 9   sqft_basement  29927 non-null  int64  \n",
      " 10  sqft_garage    29927 non-null  int64  \n",
      " 11  sqft_patio     29927 non-null  int64  \n",
      "dtypes: float64(3), int64(6), object(3)\n",
      "memory usage: 3.0+ MB\n"
     ]
    }
   ],
   "source": [
    "df_dropped = df_dropped.drop(['sqft_lot', 'yr_built', 'sewer_system', 'heat_source'], axis = 1)\n",
    "df_dropped.info()"
   ]
  },
  {
   "cell_type": "code",
   "execution_count": 55,
   "metadata": {},
   "outputs": [
    {
     "name": "stdout",
     "output_type": "stream",
     "text": [
      "<class 'pandas.core.frame.DataFrame'>\n",
      "Int64Index: 29927 entries, 0 to 30154\n",
      "Data columns (total 9 columns):\n",
      " #   Column         Non-Null Count  Dtype  \n",
      "---  ------         --------------  -----  \n",
      " 0   price          29927 non-null  float64\n",
      " 1   bedrooms       29927 non-null  int64  \n",
      " 2   bathrooms      29927 non-null  float64\n",
      " 3   sqft_living    29927 non-null  int64  \n",
      " 4   floors         29927 non-null  float64\n",
      " 5   sqft_above     29927 non-null  int64  \n",
      " 6   sqft_basement  29927 non-null  int64  \n",
      " 7   sqft_garage    29927 non-null  int64  \n",
      " 8   sqft_patio     29927 non-null  int64  \n",
      "dtypes: float64(3), int64(6)\n",
      "memory usage: 2.3 MB\n"
     ]
    }
   ],
   "source": [
    "df_numerical = df_dropped.select_dtypes('number')\n",
    "df_numerical.info()"
   ]
  },
  {
   "cell_type": "code",
   "execution_count": 56,
   "metadata": {},
   "outputs": [
    {
     "data": {
      "text/plain": [
       "price            1.000000\n",
       "sqft_living      0.655892\n",
       "sqft_above       0.583745\n",
       "bathrooms        0.517427\n",
       "bedrooms         0.337179\n",
       "sqft_patio       0.309581\n",
       "sqft_garage      0.296795\n",
       "sqft_basement    0.238018\n",
       "floors           0.205952\n",
       "Name: price, dtype: float64"
      ]
     },
     "execution_count": 56,
     "metadata": {},
     "output_type": "execute_result"
    }
   ],
   "source": [
    "df_dropped.corr()['price'].sort_values(ascending=False)"
   ]
  },
  {
   "cell_type": "code",
   "execution_count": 58,
   "metadata": {},
   "outputs": [
    {
     "name": "stdout",
     "output_type": "stream",
     "text": [
      "<class 'pandas.core.frame.DataFrame'>\n",
      "Int64Index: 29927 entries, 0 to 30154\n",
      "Data columns (total 12 columns):\n",
      " #   Column         Non-Null Count  Dtype  \n",
      "---  ------         --------------  -----  \n",
      " 0   price          29927 non-null  float64\n",
      " 1   bedrooms       29927 non-null  int64  \n",
      " 2   bathrooms      29927 non-null  float64\n",
      " 3   sqft_living    29927 non-null  int64  \n",
      " 4   floors         29927 non-null  float64\n",
      " 5   nuisance       29927 non-null  object \n",
      " 6   condition      29927 non-null  object \n",
      " 7   grade          29927 non-null  object \n",
      " 8   sqft_above     29927 non-null  int64  \n",
      " 9   sqft_basement  29927 non-null  int64  \n",
      " 10  sqft_garage    29927 non-null  int64  \n",
      " 11  sqft_patio     29927 non-null  int64  \n",
      "dtypes: float64(3), int64(6), object(3)\n",
      "memory usage: 3.0+ MB\n"
     ]
    }
   ],
   "source": [
    "df_dropped.info()"
   ]
  },
  {
   "cell_type": "code",
   "execution_count": 59,
   "metadata": {},
   "outputs": [
    {
     "data": {
      "text/html": [
       "<table class=\"simpletable\">\n",
       "<caption>OLS Regression Results</caption>\n",
       "<tr>\n",
       "  <th>Dep. Variable:</th>          <td>price</td>      <th>  R-squared:         </th>  <td>   0.449</td>  \n",
       "</tr>\n",
       "<tr>\n",
       "  <th>Model:</th>                   <td>OLS</td>       <th>  Adj. R-squared:    </th>  <td>   0.449</td>  \n",
       "</tr>\n",
       "<tr>\n",
       "  <th>Method:</th>             <td>Least Squares</td>  <th>  F-statistic:       </th>  <td>   3488.</td>  \n",
       "</tr>\n",
       "<tr>\n",
       "  <th>Date:</th>             <td>Thu, 08 Dec 2022</td> <th>  Prob (F-statistic):</th>   <td>  0.00</td>   \n",
       "</tr>\n",
       "<tr>\n",
       "  <th>Time:</th>                 <td>09:02:45</td>     <th>  Log-Likelihood:    </th> <td>-4.3717e+05</td>\n",
       "</tr>\n",
       "<tr>\n",
       "  <th>No. Observations:</th>      <td> 29927</td>      <th>  AIC:               </th>  <td>8.744e+05</td> \n",
       "</tr>\n",
       "<tr>\n",
       "  <th>Df Residuals:</th>          <td> 29919</td>      <th>  BIC:               </th>  <td>8.744e+05</td> \n",
       "</tr>\n",
       "<tr>\n",
       "  <th>Df Model:</th>              <td>     7</td>      <th>                     </th>      <td> </td>     \n",
       "</tr>\n",
       "<tr>\n",
       "  <th>Covariance Type:</th>      <td>nonrobust</td>    <th>                     </th>      <td> </td>     \n",
       "</tr>\n",
       "</table>\n",
       "<table class=\"simpletable\">\n",
       "<tr>\n",
       "        <td></td>           <th>coef</th>     <th>std err</th>      <th>t</th>      <th>P>|t|</th>  <th>[0.025</th>    <th>0.975]</th>  \n",
       "</tr>\n",
       "<tr>\n",
       "  <th>const</th>         <td> 2.294e+05</td> <td> 1.38e+04</td> <td>   16.661</td> <td> 0.000</td> <td> 2.02e+05</td> <td> 2.56e+05</td>\n",
       "</tr>\n",
       "<tr>\n",
       "  <th>sqft_living</th>   <td>  530.4376</td> <td>    6.047</td> <td>   87.721</td> <td> 0.000</td> <td>  518.585</td> <td>  542.290</td>\n",
       "</tr>\n",
       "<tr>\n",
       "  <th>bathrooms</th>     <td> 6.704e+04</td> <td> 5997.291</td> <td>   11.178</td> <td> 0.000</td> <td> 5.53e+04</td> <td> 7.88e+04</td>\n",
       "</tr>\n",
       "<tr>\n",
       "  <th>bedrooms</th>      <td> -1.12e+05</td> <td> 4264.800</td> <td>  -26.262</td> <td> 0.000</td> <td> -1.2e+05</td> <td>-1.04e+05</td>\n",
       "</tr>\n",
       "<tr>\n",
       "  <th>sqft_patio</th>    <td>  148.9493</td> <td>   14.016</td> <td>   10.627</td> <td> 0.000</td> <td>  121.477</td> <td>  176.421</td>\n",
       "</tr>\n",
       "<tr>\n",
       "  <th>sqft_basement</th> <td>   20.1101</td> <td>    6.456</td> <td>    3.115</td> <td> 0.002</td> <td>    7.457</td> <td>   32.764</td>\n",
       "</tr>\n",
       "<tr>\n",
       "  <th>floors</th>        <td> -1.84e+04</td> <td> 6667.759</td> <td>   -2.760</td> <td> 0.006</td> <td>-3.15e+04</td> <td>-5331.525</td>\n",
       "</tr>\n",
       "<tr>\n",
       "  <th>sqft_garage</th>   <td> -146.7862</td> <td>   13.131</td> <td>  -11.178</td> <td> 0.000</td> <td> -172.524</td> <td> -121.048</td>\n",
       "</tr>\n",
       "</table>\n",
       "<table class=\"simpletable\">\n",
       "<tr>\n",
       "  <th>Omnibus:</th>       <td>14673.613</td> <th>  Durbin-Watson:     </th>  <td>   1.920</td> \n",
       "</tr>\n",
       "<tr>\n",
       "  <th>Prob(Omnibus):</th>  <td> 0.000</td>   <th>  Jarque-Bera (JB):  </th> <td>197789.863</td>\n",
       "</tr>\n",
       "<tr>\n",
       "  <th>Skew:</th>           <td> 2.025</td>   <th>  Prob(JB):          </th>  <td>    0.00</td> \n",
       "</tr>\n",
       "<tr>\n",
       "  <th>Kurtosis:</th>       <td>14.925</td>   <th>  Cond. No.          </th>  <td>1.13e+04</td> \n",
       "</tr>\n",
       "</table><br/><br/>Notes:<br/>[1] Standard Errors assume that the covariance matrix of the errors is correctly specified.<br/>[2] The condition number is large, 1.13e+04. This might indicate that there are<br/>strong multicollinearity or other numerical problems."
      ],
      "text/plain": [
       "<class 'statsmodels.iolib.summary.Summary'>\n",
       "\"\"\"\n",
       "                            OLS Regression Results                            \n",
       "==============================================================================\n",
       "Dep. Variable:                  price   R-squared:                       0.449\n",
       "Model:                            OLS   Adj. R-squared:                  0.449\n",
       "Method:                 Least Squares   F-statistic:                     3488.\n",
       "Date:                Thu, 08 Dec 2022   Prob (F-statistic):               0.00\n",
       "Time:                        09:02:45   Log-Likelihood:            -4.3717e+05\n",
       "No. Observations:               29927   AIC:                         8.744e+05\n",
       "Df Residuals:                   29919   BIC:                         8.744e+05\n",
       "Df Model:                           7                                         \n",
       "Covariance Type:            nonrobust                                         \n",
       "=================================================================================\n",
       "                    coef    std err          t      P>|t|      [0.025      0.975]\n",
       "---------------------------------------------------------------------------------\n",
       "const          2.294e+05   1.38e+04     16.661      0.000    2.02e+05    2.56e+05\n",
       "sqft_living     530.4376      6.047     87.721      0.000     518.585     542.290\n",
       "bathrooms      6.704e+04   5997.291     11.178      0.000    5.53e+04    7.88e+04\n",
       "bedrooms       -1.12e+05   4264.800    -26.262      0.000    -1.2e+05   -1.04e+05\n",
       "sqft_patio      148.9493     14.016     10.627      0.000     121.477     176.421\n",
       "sqft_basement    20.1101      6.456      3.115      0.002       7.457      32.764\n",
       "floors         -1.84e+04   6667.759     -2.760      0.006   -3.15e+04   -5331.525\n",
       "sqft_garage    -146.7862     13.131    -11.178      0.000    -172.524    -121.048\n",
       "==============================================================================\n",
       "Omnibus:                    14673.613   Durbin-Watson:                   1.920\n",
       "Prob(Omnibus):                  0.000   Jarque-Bera (JB):           197789.863\n",
       "Skew:                           2.025   Prob(JB):                         0.00\n",
       "Kurtosis:                      14.925   Cond. No.                     1.13e+04\n",
       "==============================================================================\n",
       "\n",
       "Notes:\n",
       "[1] Standard Errors assume that the covariance matrix of the errors is correctly specified.\n",
       "[2] The condition number is large, 1.13e+04. This might indicate that there are\n",
       "strong multicollinearity or other numerical problems.\n",
       "\"\"\""
      ]
     },
     "execution_count": 59,
     "metadata": {},
     "output_type": "execute_result"
    }
   ],
   "source": [
    "# creating baseline model based on highest .corr() to price (ran above)\n",
    "X = df_dropped[['sqft_living', 'bathrooms', 'bedrooms', 'sqft_patio', 'sqft_basement', 'floors', 'sqft_garage']]\n",
    "y = df_dropped[['price']]\n",
    "\n",
    "baseline_model = sm.OLS(y, sm.add_constant(X)).fit()\n",
    "\n",
    "# viewing the baseline model\n",
    "baseline_model.summary()"
   ]
  },
  {
   "cell_type": "markdown",
   "metadata": {},
   "source": [
    "### Replce String to number\n",
    "\n",
    "- for condition:\n",
    "    - 1. Poor\n",
    "    - 2. Fair\n",
    "    - 3. Average\n",
    "    - 4. Good\n",
    "    - 5. Excellent\n",
    "\n",
    "- for nuisance: 1. YES; 0. NO"
   ]
  },
  {
   "cell_type": "markdown",
   "metadata": {},
   "source": [
    "### Droping condtion >= average\n",
    "\n",
    "#### Not much improve \n",
    "\n",
    "df_dropped_t = df_dropped\n",
    "\n",
    "df_dropped_t.drop(df_dropped_t[df_dropped_t['condition']=='Good'].index, inplace=True)\n",
    "df_dropped_t.drop(df_dropped_t[df_dropped_t['condition']=='Very Good'].index, inplace=True)\n",
    "                              \n"
   ]
  },
  {
   "cell_type": "code",
   "execution_count": 60,
   "metadata": {},
   "outputs": [
    {
     "data": {
      "text/plain": [
       "Average      18385\n",
       "Good          8017\n",
       "Very Good     3242\n",
       "Fair           224\n",
       "Poor            59\n",
       "Name: condition, dtype: int64"
      ]
     },
     "execution_count": 60,
     "metadata": {},
     "output_type": "execute_result"
    }
   ],
   "source": [
    "df_dropped['condition'].value_counts()"
   ]
  },
  {
   "cell_type": "code",
   "execution_count": 61,
   "metadata": {},
   "outputs": [],
   "source": [
    "df_dropped['condition'].replace({\"Very Good\":5, \"Good\":4 , \"Average\":3, \"Fair\": 2, \"Poor\":1}, inplace=True)"
   ]
  },
  {
   "cell_type": "code",
   "execution_count": 62,
   "metadata": {},
   "outputs": [],
   "source": [
    "df_dropped['nuisance'].replace({\"NO\":0, \"YES\":1}, inplace=True)"
   ]
  },
  {
   "cell_type": "code",
   "execution_count": 63,
   "metadata": {},
   "outputs": [],
   "source": [
    "df_dropped['grade'].replace({\"7 Average\":7, \"8 Good\":8 , \"9 Better\":9,\n",
    "                             \"6 Low Average\": 6, \"10 Very Good\":10,\n",
    "                            \"5 Fair\":5, \"11 Excellent\":11, \"12 Luxury\":12,\n",
    "                            \"4 Low\":4, \"13 Mansion\":13, \"3 Poor\":3, \"2 Substandard\":2},\n",
    "                            inplace=True)"
   ]
  },
  {
   "cell_type": "code",
   "execution_count": 64,
   "metadata": {},
   "outputs": [
    {
     "data": {
      "text/html": [
       "<div>\n",
       "<style scoped>\n",
       "    .dataframe tbody tr th:only-of-type {\n",
       "        vertical-align: middle;\n",
       "    }\n",
       "\n",
       "    .dataframe tbody tr th {\n",
       "        vertical-align: top;\n",
       "    }\n",
       "\n",
       "    .dataframe thead th {\n",
       "        text-align: right;\n",
       "    }\n",
       "</style>\n",
       "<table border=\"1\" class=\"dataframe\">\n",
       "  <thead>\n",
       "    <tr style=\"text-align: right;\">\n",
       "      <th></th>\n",
       "      <th>price</th>\n",
       "      <th>bedrooms</th>\n",
       "      <th>bathrooms</th>\n",
       "      <th>sqft_living</th>\n",
       "      <th>floors</th>\n",
       "      <th>sqft_above</th>\n",
       "      <th>sqft_basement</th>\n",
       "      <th>sqft_garage</th>\n",
       "      <th>sqft_patio</th>\n",
       "      <th>condition_2</th>\n",
       "      <th>...</th>\n",
       "      <th>grade_4</th>\n",
       "      <th>grade_5</th>\n",
       "      <th>grade_6</th>\n",
       "      <th>grade_7</th>\n",
       "      <th>grade_8</th>\n",
       "      <th>grade_9</th>\n",
       "      <th>grade_10</th>\n",
       "      <th>grade_11</th>\n",
       "      <th>grade_12</th>\n",
       "      <th>grade_13</th>\n",
       "    </tr>\n",
       "  </thead>\n",
       "  <tbody>\n",
       "    <tr>\n",
       "      <th>0</th>\n",
       "      <td>675000.0</td>\n",
       "      <td>4</td>\n",
       "      <td>1.0</td>\n",
       "      <td>1180</td>\n",
       "      <td>1.0</td>\n",
       "      <td>1180</td>\n",
       "      <td>0</td>\n",
       "      <td>0</td>\n",
       "      <td>40</td>\n",
       "      <td>0</td>\n",
       "      <td>...</td>\n",
       "      <td>0</td>\n",
       "      <td>0</td>\n",
       "      <td>0</td>\n",
       "      <td>1</td>\n",
       "      <td>0</td>\n",
       "      <td>0</td>\n",
       "      <td>0</td>\n",
       "      <td>0</td>\n",
       "      <td>0</td>\n",
       "      <td>0</td>\n",
       "    </tr>\n",
       "    <tr>\n",
       "      <th>1</th>\n",
       "      <td>920000.0</td>\n",
       "      <td>5</td>\n",
       "      <td>2.5</td>\n",
       "      <td>2770</td>\n",
       "      <td>1.0</td>\n",
       "      <td>1570</td>\n",
       "      <td>1570</td>\n",
       "      <td>0</td>\n",
       "      <td>240</td>\n",
       "      <td>0</td>\n",
       "      <td>...</td>\n",
       "      <td>0</td>\n",
       "      <td>0</td>\n",
       "      <td>0</td>\n",
       "      <td>1</td>\n",
       "      <td>0</td>\n",
       "      <td>0</td>\n",
       "      <td>0</td>\n",
       "      <td>0</td>\n",
       "      <td>0</td>\n",
       "      <td>0</td>\n",
       "    </tr>\n",
       "    <tr>\n",
       "      <th>2</th>\n",
       "      <td>311000.0</td>\n",
       "      <td>6</td>\n",
       "      <td>2.0</td>\n",
       "      <td>2880</td>\n",
       "      <td>1.0</td>\n",
       "      <td>1580</td>\n",
       "      <td>1580</td>\n",
       "      <td>0</td>\n",
       "      <td>0</td>\n",
       "      <td>0</td>\n",
       "      <td>...</td>\n",
       "      <td>0</td>\n",
       "      <td>0</td>\n",
       "      <td>0</td>\n",
       "      <td>1</td>\n",
       "      <td>0</td>\n",
       "      <td>0</td>\n",
       "      <td>0</td>\n",
       "      <td>0</td>\n",
       "      <td>0</td>\n",
       "      <td>0</td>\n",
       "    </tr>\n",
       "    <tr>\n",
       "      <th>3</th>\n",
       "      <td>775000.0</td>\n",
       "      <td>3</td>\n",
       "      <td>3.0</td>\n",
       "      <td>2160</td>\n",
       "      <td>2.0</td>\n",
       "      <td>1090</td>\n",
       "      <td>1070</td>\n",
       "      <td>200</td>\n",
       "      <td>270</td>\n",
       "      <td>0</td>\n",
       "      <td>...</td>\n",
       "      <td>0</td>\n",
       "      <td>0</td>\n",
       "      <td>0</td>\n",
       "      <td>0</td>\n",
       "      <td>0</td>\n",
       "      <td>1</td>\n",
       "      <td>0</td>\n",
       "      <td>0</td>\n",
       "      <td>0</td>\n",
       "      <td>0</td>\n",
       "    </tr>\n",
       "    <tr>\n",
       "      <th>4</th>\n",
       "      <td>592500.0</td>\n",
       "      <td>2</td>\n",
       "      <td>2.0</td>\n",
       "      <td>1120</td>\n",
       "      <td>2.0</td>\n",
       "      <td>1120</td>\n",
       "      <td>550</td>\n",
       "      <td>550</td>\n",
       "      <td>30</td>\n",
       "      <td>0</td>\n",
       "      <td>...</td>\n",
       "      <td>0</td>\n",
       "      <td>0</td>\n",
       "      <td>0</td>\n",
       "      <td>1</td>\n",
       "      <td>0</td>\n",
       "      <td>0</td>\n",
       "      <td>0</td>\n",
       "      <td>0</td>\n",
       "      <td>0</td>\n",
       "      <td>0</td>\n",
       "    </tr>\n",
       "  </tbody>\n",
       "</table>\n",
       "<p>5 rows × 25 columns</p>\n",
       "</div>"
      ],
      "text/plain": [
       "      price  bedrooms  bathrooms  sqft_living  floors  sqft_above  \\\n",
       "0  675000.0         4        1.0         1180     1.0        1180   \n",
       "1  920000.0         5        2.5         2770     1.0        1570   \n",
       "2  311000.0         6        2.0         2880     1.0        1580   \n",
       "3  775000.0         3        3.0         2160     2.0        1090   \n",
       "4  592500.0         2        2.0         1120     2.0        1120   \n",
       "\n",
       "   sqft_basement  sqft_garage  sqft_patio  condition_2  ...  grade_4  grade_5  \\\n",
       "0              0            0          40            0  ...        0        0   \n",
       "1           1570            0         240            0  ...        0        0   \n",
       "2           1580            0           0            0  ...        0        0   \n",
       "3           1070          200         270            0  ...        0        0   \n",
       "4            550          550          30            0  ...        0        0   \n",
       "\n",
       "   grade_6  grade_7  grade_8  grade_9  grade_10  grade_11  grade_12  grade_13  \n",
       "0        0        1        0        0         0         0         0         0  \n",
       "1        0        1        0        0         0         0         0         0  \n",
       "2        0        1        0        0         0         0         0         0  \n",
       "3        0        0        0        1         0         0         0         0  \n",
       "4        0        1        0        0         0         0         0         0  \n",
       "\n",
       "[5 rows x 25 columns]"
      ]
     },
     "execution_count": 64,
     "metadata": {},
     "output_type": "execute_result"
    }
   ],
   "source": [
    "df_dum = pd.get_dummies(df_dropped, columns=['condition', 'nuisance', 'grade'], drop_first=True)\n",
    "df_dum.head()"
   ]
  },
  {
   "cell_type": "code",
   "execution_count": 65,
   "metadata": {},
   "outputs": [
    {
     "data": {
      "text/html": [
       "<table class=\"simpletable\">\n",
       "<caption>OLS Regression Results</caption>\n",
       "<tr>\n",
       "  <th>Dep. Variable:</th>          <td>price</td>      <th>  R-squared:         </th>  <td>   0.535</td>  \n",
       "</tr>\n",
       "<tr>\n",
       "  <th>Model:</th>                   <td>OLS</td>       <th>  Adj. R-squared:    </th>  <td>   0.535</td>  \n",
       "</tr>\n",
       "<tr>\n",
       "  <th>Method:</th>             <td>Least Squares</td>  <th>  F-statistic:       </th>  <td>   1566.</td>  \n",
       "</tr>\n",
       "<tr>\n",
       "  <th>Date:</th>             <td>Thu, 08 Dec 2022</td> <th>  Prob (F-statistic):</th>   <td>  0.00</td>   \n",
       "</tr>\n",
       "<tr>\n",
       "  <th>Time:</th>                 <td>09:03:00</td>     <th>  Log-Likelihood:    </th> <td>-4.3463e+05</td>\n",
       "</tr>\n",
       "<tr>\n",
       "  <th>No. Observations:</th>      <td> 29927</td>      <th>  AIC:               </th>  <td>8.693e+05</td> \n",
       "</tr>\n",
       "<tr>\n",
       "  <th>Df Residuals:</th>          <td> 29904</td>      <th>  BIC:               </th>  <td>8.695e+05</td> \n",
       "</tr>\n",
       "<tr>\n",
       "  <th>Df Model:</th>              <td>    22</td>      <th>                     </th>      <td> </td>     \n",
       "</tr>\n",
       "<tr>\n",
       "  <th>Covariance Type:</th>      <td>nonrobust</td>    <th>                     </th>      <td> </td>     \n",
       "</tr>\n",
       "</table>\n",
       "<table class=\"simpletable\">\n",
       "<tr>\n",
       "       <td></td>          <th>coef</th>     <th>std err</th>      <th>t</th>      <th>P>|t|</th>  <th>[0.025</th>    <th>0.975]</th>  \n",
       "</tr>\n",
       "<tr>\n",
       "  <th>const</th>       <td> 3.238e+05</td> <td> 4.91e+05</td> <td>    0.659</td> <td> 0.510</td> <td>-6.39e+05</td> <td> 1.29e+06</td>\n",
       "</tr>\n",
       "<tr>\n",
       "  <th>bedrooms</th>    <td> -3.99e+04</td> <td> 4091.888</td> <td>   -9.751</td> <td> 0.000</td> <td>-4.79e+04</td> <td>-3.19e+04</td>\n",
       "</tr>\n",
       "<tr>\n",
       "  <th>bathrooms</th>   <td> 5.537e+04</td> <td> 5559.907</td> <td>    9.958</td> <td> 0.000</td> <td> 4.45e+04</td> <td> 6.63e+04</td>\n",
       "</tr>\n",
       "<tr>\n",
       "  <th>sqft_living</th> <td>  305.4893</td> <td>    6.260</td> <td>   48.801</td> <td> 0.000</td> <td>  293.220</td> <td>  317.759</td>\n",
       "</tr>\n",
       "<tr>\n",
       "  <th>floors</th>      <td>-9.247e+04</td> <td> 6219.521</td> <td>  -14.867</td> <td> 0.000</td> <td>-1.05e+05</td> <td>-8.03e+04</td>\n",
       "</tr>\n",
       "<tr>\n",
       "  <th>sqft_garage</th> <td> -274.0828</td> <td>   12.244</td> <td>  -22.386</td> <td> 0.000</td> <td> -298.081</td> <td> -250.085</td>\n",
       "</tr>\n",
       "<tr>\n",
       "  <th>sqft_patio</th>  <td>   67.2602</td> <td>   12.928</td> <td>    5.203</td> <td> 0.000</td> <td>   41.922</td> <td>   92.599</td>\n",
       "</tr>\n",
       "<tr>\n",
       "  <th>condition_2</th> <td> 2.588e+04</td> <td> 7.38e+04</td> <td>    0.351</td> <td> 0.726</td> <td>-1.19e+05</td> <td> 1.71e+05</td>\n",
       "</tr>\n",
       "<tr>\n",
       "  <th>condition_3</th> <td>-2048.0118</td> <td> 6.69e+04</td> <td>   -0.031</td> <td> 0.976</td> <td>-1.33e+05</td> <td> 1.29e+05</td>\n",
       "</tr>\n",
       "<tr>\n",
       "  <th>condition_4</th> <td> 6.066e+04</td> <td>  6.7e+04</td> <td>    0.906</td> <td> 0.365</td> <td>-7.06e+04</td> <td> 1.92e+05</td>\n",
       "</tr>\n",
       "<tr>\n",
       "  <th>condition_5</th> <td> 1.251e+05</td> <td> 6.73e+04</td> <td>    1.858</td> <td> 0.063</td> <td>-6852.890</td> <td> 2.57e+05</td>\n",
       "</tr>\n",
       "<tr>\n",
       "  <th>nuisance_1</th>  <td> 6.068e+04</td> <td> 7597.329</td> <td>    7.986</td> <td> 0.000</td> <td> 4.58e+04</td> <td> 7.56e+04</td>\n",
       "</tr>\n",
       "<tr>\n",
       "  <th>grade_3</th>     <td> 1.307e+05</td> <td> 5.22e+05</td> <td>    0.251</td> <td> 0.802</td> <td>-8.92e+05</td> <td> 1.15e+06</td>\n",
       "</tr>\n",
       "<tr>\n",
       "  <th>grade_4</th>     <td> 1.723e+05</td> <td>    5e+05</td> <td>    0.344</td> <td> 0.731</td> <td>-8.08e+05</td> <td> 1.15e+06</td>\n",
       "</tr>\n",
       "<tr>\n",
       "  <th>grade_5</th>     <td> 8.954e+04</td> <td> 4.96e+05</td> <td>    0.181</td> <td> 0.857</td> <td>-8.83e+05</td> <td> 1.06e+06</td>\n",
       "</tr>\n",
       "<tr>\n",
       "  <th>grade_6</th>     <td> 4.272e+04</td> <td> 4.96e+05</td> <td>    0.086</td> <td> 0.931</td> <td>-9.29e+05</td> <td> 1.01e+06</td>\n",
       "</tr>\n",
       "<tr>\n",
       "  <th>grade_7</th>     <td> 1.258e+05</td> <td> 4.96e+05</td> <td>    0.254</td> <td> 0.800</td> <td>-8.46e+05</td> <td>  1.1e+06</td>\n",
       "</tr>\n",
       "<tr>\n",
       "  <th>grade_8</th>     <td> 2.844e+05</td> <td> 4.96e+05</td> <td>    0.574</td> <td> 0.566</td> <td>-6.87e+05</td> <td> 1.26e+06</td>\n",
       "</tr>\n",
       "<tr>\n",
       "  <th>grade_9</th>     <td>  6.31e+05</td> <td> 4.96e+05</td> <td>    1.273</td> <td> 0.203</td> <td>-3.41e+05</td> <td>  1.6e+06</td>\n",
       "</tr>\n",
       "<tr>\n",
       "  <th>grade_10</th>    <td> 1.129e+06</td> <td> 4.96e+05</td> <td>    2.277</td> <td> 0.023</td> <td> 1.57e+05</td> <td>  2.1e+06</td>\n",
       "</tr>\n",
       "<tr>\n",
       "  <th>grade_11</th>    <td> 1.702e+06</td> <td> 4.97e+05</td> <td>    3.427</td> <td> 0.001</td> <td> 7.28e+05</td> <td> 2.67e+06</td>\n",
       "</tr>\n",
       "<tr>\n",
       "  <th>grade_12</th>    <td> 2.073e+06</td> <td> 4.98e+05</td> <td>    4.159</td> <td> 0.000</td> <td>  1.1e+06</td> <td> 3.05e+06</td>\n",
       "</tr>\n",
       "<tr>\n",
       "  <th>grade_13</th>    <td> 2.212e+06</td> <td> 5.16e+05</td> <td>    4.283</td> <td> 0.000</td> <td>  1.2e+06</td> <td> 3.22e+06</td>\n",
       "</tr>\n",
       "</table>\n",
       "<table class=\"simpletable\">\n",
       "<tr>\n",
       "  <th>Omnibus:</th>       <td>15640.618</td> <th>  Durbin-Watson:     </th>  <td>   1.905</td> \n",
       "</tr>\n",
       "<tr>\n",
       "  <th>Prob(Omnibus):</th>  <td> 0.000</td>   <th>  Jarque-Bera (JB):  </th> <td>271477.493</td>\n",
       "</tr>\n",
       "<tr>\n",
       "  <th>Skew:</th>           <td> 2.117</td>   <th>  Prob(JB):          </th>  <td>    0.00</td> \n",
       "</tr>\n",
       "<tr>\n",
       "  <th>Kurtosis:</th>       <td>17.134</td>   <th>  Cond. No.          </th>  <td>1.42e+06</td> \n",
       "</tr>\n",
       "</table><br/><br/>Notes:<br/>[1] Standard Errors assume that the covariance matrix of the errors is correctly specified.<br/>[2] The condition number is large, 1.42e+06. This might indicate that there are<br/>strong multicollinearity or other numerical problems."
      ],
      "text/plain": [
       "<class 'statsmodels.iolib.summary.Summary'>\n",
       "\"\"\"\n",
       "                            OLS Regression Results                            \n",
       "==============================================================================\n",
       "Dep. Variable:                  price   R-squared:                       0.535\n",
       "Model:                            OLS   Adj. R-squared:                  0.535\n",
       "Method:                 Least Squares   F-statistic:                     1566.\n",
       "Date:                Thu, 08 Dec 2022   Prob (F-statistic):               0.00\n",
       "Time:                        09:03:00   Log-Likelihood:            -4.3463e+05\n",
       "No. Observations:               29927   AIC:                         8.693e+05\n",
       "Df Residuals:                   29904   BIC:                         8.695e+05\n",
       "Df Model:                          22                                         \n",
       "Covariance Type:            nonrobust                                         \n",
       "===============================================================================\n",
       "                  coef    std err          t      P>|t|      [0.025      0.975]\n",
       "-------------------------------------------------------------------------------\n",
       "const        3.238e+05   4.91e+05      0.659      0.510   -6.39e+05    1.29e+06\n",
       "bedrooms     -3.99e+04   4091.888     -9.751      0.000   -4.79e+04   -3.19e+04\n",
       "bathrooms    5.537e+04   5559.907      9.958      0.000    4.45e+04    6.63e+04\n",
       "sqft_living   305.4893      6.260     48.801      0.000     293.220     317.759\n",
       "floors      -9.247e+04   6219.521    -14.867      0.000   -1.05e+05   -8.03e+04\n",
       "sqft_garage  -274.0828     12.244    -22.386      0.000    -298.081    -250.085\n",
       "sqft_patio     67.2602     12.928      5.203      0.000      41.922      92.599\n",
       "condition_2  2.588e+04   7.38e+04      0.351      0.726   -1.19e+05    1.71e+05\n",
       "condition_3 -2048.0118   6.69e+04     -0.031      0.976   -1.33e+05    1.29e+05\n",
       "condition_4  6.066e+04    6.7e+04      0.906      0.365   -7.06e+04    1.92e+05\n",
       "condition_5  1.251e+05   6.73e+04      1.858      0.063   -6852.890    2.57e+05\n",
       "nuisance_1   6.068e+04   7597.329      7.986      0.000    4.58e+04    7.56e+04\n",
       "grade_3      1.307e+05   5.22e+05      0.251      0.802   -8.92e+05    1.15e+06\n",
       "grade_4      1.723e+05      5e+05      0.344      0.731   -8.08e+05    1.15e+06\n",
       "grade_5      8.954e+04   4.96e+05      0.181      0.857   -8.83e+05    1.06e+06\n",
       "grade_6      4.272e+04   4.96e+05      0.086      0.931   -9.29e+05    1.01e+06\n",
       "grade_7      1.258e+05   4.96e+05      0.254      0.800   -8.46e+05     1.1e+06\n",
       "grade_8      2.844e+05   4.96e+05      0.574      0.566   -6.87e+05    1.26e+06\n",
       "grade_9       6.31e+05   4.96e+05      1.273      0.203   -3.41e+05     1.6e+06\n",
       "grade_10     1.129e+06   4.96e+05      2.277      0.023    1.57e+05     2.1e+06\n",
       "grade_11     1.702e+06   4.97e+05      3.427      0.001    7.28e+05    2.67e+06\n",
       "grade_12     2.073e+06   4.98e+05      4.159      0.000     1.1e+06    3.05e+06\n",
       "grade_13     2.212e+06   5.16e+05      4.283      0.000     1.2e+06    3.22e+06\n",
       "==============================================================================\n",
       "Omnibus:                    15640.618   Durbin-Watson:                   1.905\n",
       "Prob(Omnibus):                  0.000   Jarque-Bera (JB):           271477.493\n",
       "Skew:                           2.117   Prob(JB):                         0.00\n",
       "Kurtosis:                      17.134   Cond. No.                     1.42e+06\n",
       "==============================================================================\n",
       "\n",
       "Notes:\n",
       "[1] Standard Errors assume that the covariance matrix of the errors is correctly specified.\n",
       "[2] The condition number is large, 1.42e+06. This might indicate that there are\n",
       "strong multicollinearity or other numerical problems.\n",
       "\"\"\""
      ]
     },
     "execution_count": 65,
     "metadata": {},
     "output_type": "execute_result"
    }
   ],
   "source": [
    "X = df_dum.drop(['price','sqft_above', 'sqft_basement'], axis=1)\n",
    "y = df_dum[['price']]\n",
    "\n",
    "dummy_model = sm.OLS(y, sm.add_constant(X)).fit()\n",
    "\n",
    "# viewing the baseline model\n",
    "dummy_model.summary()\n",
    "\n",
    "# 'condition_2', 'condition_3', 'condition_4', 'condition_5'"
   ]
  },
  {
   "cell_type": "markdown",
   "metadata": {},
   "source": [
    "right skewed: price, sqft_living, sqft_above, sqft_patio, \n",
    "Some 0 in:\n",
    "sqft_basement\n",
    "sqft_garage\n",
    "sqft_patio\n",
    "\n",
    "log:price, sqft_living, sqft_above"
   ]
  },
  {
   "cell_type": "code",
   "execution_count": 109,
   "metadata": {},
   "outputs": [],
   "source": [
    "df_log = df_dum.copy()\n",
    "df_log['price']=np.log(df_log['price'])\n",
    "df_log['sqft_living']=np.log(df_log['sqft_living'])\n",
    "df_log['sqft_above']=np.log(df_log['sqft_above'])"
   ]
  },
  {
   "cell_type": "code",
   "execution_count": 110,
   "metadata": {},
   "outputs": [
    {
     "data": {
      "image/png": "[encoded data removed]",
      "text/plain": [
       "<Figure size 432x288 with 1 Axes>"
      ]
     },
     "metadata": {
      "needs_background": "light"
     },
     "output_type": "display_data"
    }
   ],
   "source": [
    "sns.histplot(df_log['price']);"
   ]
  },
  {
   "cell_type": "code",
   "execution_count": 111,
   "metadata": {},
   "outputs": [
    {
     "data": {
      "text/html": [
       "<table class=\"simpletable\">\n",
       "<caption>OLS Regression Results</caption>\n",
       "<tr>\n",
       "  <th>Dep. Variable:</th>          <td>price</td>      <th>  R-squared:         </th> <td>   0.487</td> \n",
       "</tr>\n",
       "<tr>\n",
       "  <th>Model:</th>                   <td>OLS</td>       <th>  Adj. R-squared:    </th> <td>   0.487</td> \n",
       "</tr>\n",
       "<tr>\n",
       "  <th>Method:</th>             <td>Least Squares</td>  <th>  F-statistic:       </th> <td>   1235.</td> \n",
       "</tr>\n",
       "<tr>\n",
       "  <th>Date:</th>             <td>Wed, 07 Dec 2022</td> <th>  Prob (F-statistic):</th>  <td>  0.00</td>  \n",
       "</tr>\n",
       "<tr>\n",
       "  <th>Time:</th>                 <td>20:53:24</td>     <th>  Log-Likelihood:    </th> <td> -14519.</td> \n",
       "</tr>\n",
       "<tr>\n",
       "  <th>No. Observations:</th>      <td> 29927</td>      <th>  AIC:               </th> <td>2.909e+04</td>\n",
       "</tr>\n",
       "<tr>\n",
       "  <th>Df Residuals:</th>          <td> 29903</td>      <th>  BIC:               </th> <td>2.929e+04</td>\n",
       "</tr>\n",
       "<tr>\n",
       "  <th>Df Model:</th>              <td>    23</td>      <th>                     </th>     <td> </td>    \n",
       "</tr>\n",
       "<tr>\n",
       "  <th>Covariance Type:</th>      <td>nonrobust</td>    <th>                     </th>     <td> </td>    \n",
       "</tr>\n",
       "</table>\n",
       "<table class=\"simpletable\">\n",
       "<tr>\n",
       "        <td></td>           <th>coef</th>     <th>std err</th>      <th>t</th>      <th>P>|t|</th>  <th>[0.025</th>    <th>0.975]</th>  \n",
       "</tr>\n",
       "<tr>\n",
       "  <th>const</th>         <td>   10.3305</td> <td>    0.399</td> <td>   25.888</td> <td> 0.000</td> <td>    9.548</td> <td>   11.113</td>\n",
       "</tr>\n",
       "<tr>\n",
       "  <th>bedrooms</th>      <td>   -0.0180</td> <td>    0.003</td> <td>   -5.364</td> <td> 0.000</td> <td>   -0.025</td> <td>   -0.011</td>\n",
       "</tr>\n",
       "<tr>\n",
       "  <th>bathrooms</th>     <td>    0.0403</td> <td>    0.004</td> <td>    9.109</td> <td> 0.000</td> <td>    0.032</td> <td>    0.049</td>\n",
       "</tr>\n",
       "<tr>\n",
       "  <th>sqft_living</th>   <td>    0.3917</td> <td>    0.011</td> <td>   36.660</td> <td> 0.000</td> <td>    0.371</td> <td>    0.413</td>\n",
       "</tr>\n",
       "<tr>\n",
       "  <th>floors</th>        <td>   -0.0316</td> <td>    0.005</td> <td>   -5.806</td> <td> 0.000</td> <td>   -0.042</td> <td>   -0.021</td>\n",
       "</tr>\n",
       "<tr>\n",
       "  <th>sqft_basement</th> <td> 6.732e-05</td> <td> 4.79e-06</td> <td>   14.045</td> <td> 0.000</td> <td> 5.79e-05</td> <td> 7.67e-05</td>\n",
       "</tr>\n",
       "<tr>\n",
       "  <th>sqft_garage</th>   <td>   -0.0002</td> <td> 1.01e-05</td> <td>  -18.475</td> <td> 0.000</td> <td>   -0.000</td> <td>   -0.000</td>\n",
       "</tr>\n",
       "<tr>\n",
       "  <th>sqft_patio</th>    <td> 5.704e-05</td> <td> 1.04e-05</td> <td>    5.494</td> <td> 0.000</td> <td> 3.67e-05</td> <td> 7.74e-05</td>\n",
       "</tr>\n",
       "<tr>\n",
       "  <th>condition_2</th>   <td>    0.0966</td> <td>    0.059</td> <td>    1.634</td> <td> 0.102</td> <td>   -0.019</td> <td>    0.212</td>\n",
       "</tr>\n",
       "<tr>\n",
       "  <th>condition_3</th>   <td>    0.0991</td> <td>    0.054</td> <td>    1.850</td> <td> 0.064</td> <td>   -0.006</td> <td>    0.204</td>\n",
       "</tr>\n",
       "<tr>\n",
       "  <th>condition_4</th>   <td>    0.1589</td> <td>    0.054</td> <td>    2.963</td> <td> 0.003</td> <td>    0.054</td> <td>    0.264</td>\n",
       "</tr>\n",
       "<tr>\n",
       "  <th>condition_5</th>   <td>    0.2260</td> <td>    0.054</td> <td>    4.192</td> <td> 0.000</td> <td>    0.120</td> <td>    0.332</td>\n",
       "</tr>\n",
       "<tr>\n",
       "  <th>nuisance_1</th>    <td>    0.0381</td> <td>    0.006</td> <td>    6.238</td> <td> 0.000</td> <td>    0.026</td> <td>    0.050</td>\n",
       "</tr>\n",
       "<tr>\n",
       "  <th>grade_3</th>       <td>    0.2330</td> <td>    0.418</td> <td>    0.558</td> <td> 0.577</td> <td>   -0.586</td> <td>    1.052</td>\n",
       "</tr>\n",
       "<tr>\n",
       "  <th>grade_4</th>       <td>    0.1527</td> <td>    0.401</td> <td>    0.381</td> <td> 0.703</td> <td>   -0.632</td> <td>    0.938</td>\n",
       "</tr>\n",
       "<tr>\n",
       "  <th>grade_5</th>       <td>    0.0738</td> <td>    0.397</td> <td>    0.186</td> <td> 0.853</td> <td>   -0.705</td> <td>    0.852</td>\n",
       "</tr>\n",
       "<tr>\n",
       "  <th>grade_6</th>       <td>    0.0530</td> <td>    0.397</td> <td>    0.134</td> <td> 0.894</td> <td>   -0.725</td> <td>    0.831</td>\n",
       "</tr>\n",
       "<tr>\n",
       "  <th>grade_7</th>       <td>    0.1848</td> <td>    0.397</td> <td>    0.466</td> <td> 0.642</td> <td>   -0.593</td> <td>    0.963</td>\n",
       "</tr>\n",
       "<tr>\n",
       "  <th>grade_8</th>       <td>    0.3771</td> <td>    0.397</td> <td>    0.950</td> <td> 0.342</td> <td>   -0.401</td> <td>    1.155</td>\n",
       "</tr>\n",
       "<tr>\n",
       "  <th>grade_9</th>       <td>    0.6687</td> <td>    0.397</td> <td>    1.684</td> <td> 0.092</td> <td>   -0.110</td> <td>    1.447</td>\n",
       "</tr>\n",
       "<tr>\n",
       "  <th>grade_10</th>      <td>    0.9531</td> <td>    0.397</td> <td>    2.400</td> <td> 0.016</td> <td>    0.175</td> <td>    1.732</td>\n",
       "</tr>\n",
       "<tr>\n",
       "  <th>grade_11</th>      <td>    1.1754</td> <td>    0.398</td> <td>    2.956</td> <td> 0.003</td> <td>    0.396</td> <td>    1.955</td>\n",
       "</tr>\n",
       "<tr>\n",
       "  <th>grade_12</th>      <td>    1.2895</td> <td>    0.399</td> <td>    3.232</td> <td> 0.001</td> <td>    0.507</td> <td>    2.072</td>\n",
       "</tr>\n",
       "<tr>\n",
       "  <th>grade_13</th>      <td>    1.3604</td> <td>    0.413</td> <td>    3.292</td> <td> 0.001</td> <td>    0.550</td> <td>    2.170</td>\n",
       "</tr>\n",
       "</table>\n",
       "<table class=\"simpletable\">\n",
       "<tr>\n",
       "  <th>Omnibus:</th>       <td>2707.290</td> <th>  Durbin-Watson:     </th> <td>   1.989</td> \n",
       "</tr>\n",
       "<tr>\n",
       "  <th>Prob(Omnibus):</th>  <td> 0.000</td>  <th>  Jarque-Bera (JB):  </th> <td>14933.500</td>\n",
       "</tr>\n",
       "<tr>\n",
       "  <th>Skew:</th>           <td>-0.257</td>  <th>  Prob(JB):          </th> <td>    0.00</td> \n",
       "</tr>\n",
       "<tr>\n",
       "  <th>Kurtosis:</th>       <td> 6.422</td>  <th>  Cond. No.          </th> <td>4.88e+05</td> \n",
       "</tr>\n",
       "</table><br/><br/>Notes:<br/>[1] Standard Errors assume that the covariance matrix of the errors is correctly specified.<br/>[2] The condition number is large, 4.88e+05. This might indicate that there are<br/>strong multicollinearity or other numerical problems."
      ],
      "text/plain": [
       "<class 'statsmodels.iolib.summary.Summary'>\n",
       "\"\"\"\n",
       "                            OLS Regression Results                            \n",
       "==============================================================================\n",
       "Dep. Variable:                  price   R-squared:                       0.487\n",
       "Model:                            OLS   Adj. R-squared:                  0.487\n",
       "Method:                 Least Squares   F-statistic:                     1235.\n",
       "Date:                Wed, 07 Dec 2022   Prob (F-statistic):               0.00\n",
       "Time:                        20:53:24   Log-Likelihood:                -14519.\n",
       "No. Observations:               29927   AIC:                         2.909e+04\n",
       "Df Residuals:                   29903   BIC:                         2.929e+04\n",
       "Df Model:                          23                                         \n",
       "Covariance Type:            nonrobust                                         \n",
       "=================================================================================\n",
       "                    coef    std err          t      P>|t|      [0.025      0.975]\n",
       "---------------------------------------------------------------------------------\n",
       "const            10.3305      0.399     25.888      0.000       9.548      11.113\n",
       "bedrooms         -0.0180      0.003     -5.364      0.000      -0.025      -0.011\n",
       "bathrooms         0.0403      0.004      9.109      0.000       0.032       0.049\n",
       "sqft_living       0.3917      0.011     36.660      0.000       0.371       0.413\n",
       "floors           -0.0316      0.005     -5.806      0.000      -0.042      -0.021\n",
       "sqft_basement  6.732e-05   4.79e-06     14.045      0.000    5.79e-05    7.67e-05\n",
       "sqft_garage      -0.0002   1.01e-05    -18.475      0.000      -0.000      -0.000\n",
       "sqft_patio     5.704e-05   1.04e-05      5.494      0.000    3.67e-05    7.74e-05\n",
       "condition_2       0.0966      0.059      1.634      0.102      -0.019       0.212\n",
       "condition_3       0.0991      0.054      1.850      0.064      -0.006       0.204\n",
       "condition_4       0.1589      0.054      2.963      0.003       0.054       0.264\n",
       "condition_5       0.2260      0.054      4.192      0.000       0.120       0.332\n",
       "nuisance_1        0.0381      0.006      6.238      0.000       0.026       0.050\n",
       "grade_3           0.2330      0.418      0.558      0.577      -0.586       1.052\n",
       "grade_4           0.1527      0.401      0.381      0.703      -0.632       0.938\n",
       "grade_5           0.0738      0.397      0.186      0.853      -0.705       0.852\n",
       "grade_6           0.0530      0.397      0.134      0.894      -0.725       0.831\n",
       "grade_7           0.1848      0.397      0.466      0.642      -0.593       0.963\n",
       "grade_8           0.3771      0.397      0.950      0.342      -0.401       1.155\n",
       "grade_9           0.6687      0.397      1.684      0.092      -0.110       1.447\n",
       "grade_10          0.9531      0.397      2.400      0.016       0.175       1.732\n",
       "grade_11          1.1754      0.398      2.956      0.003       0.396       1.955\n",
       "grade_12          1.2895      0.399      3.232      0.001       0.507       2.072\n",
       "grade_13          1.3604      0.413      3.292      0.001       0.550       2.170\n",
       "==============================================================================\n",
       "Omnibus:                     2707.290   Durbin-Watson:                   1.989\n",
       "Prob(Omnibus):                  0.000   Jarque-Bera (JB):            14933.500\n",
       "Skew:                          -0.257   Prob(JB):                         0.00\n",
       "Kurtosis:                       6.422   Cond. No.                     4.88e+05\n",
       "==============================================================================\n",
       "\n",
       "Notes:\n",
       "[1] Standard Errors assume that the covariance matrix of the errors is correctly specified.\n",
       "[2] The condition number is large, 4.88e+05. This might indicate that there are\n",
       "strong multicollinearity or other numerical problems.\n",
       "\"\"\""
      ]
     },
     "execution_count": 111,
     "metadata": {},
     "output_type": "execute_result"
    }
   ],
   "source": [
    "\n",
    "X = df_log.drop(['price','sqft_above'], axis=1)\n",
    "y = df_log[['price']]\n",
    "\n",
    "log_model = sm.OLS(y, sm.add_constant(X)).fit()\n",
    "\n",
    "# viewing the baseline model\n",
    "log_model.summary()\n",
    "\n",
    "# 'condition_2', 'condition_3', 'condition_4', 'condition_5'"
   ]
  },
  {
   "cell_type": "code",
   "execution_count": null,
   "metadata": {},
   "outputs": [],
   "source": []
  },
  {
   "cell_type": "code",
   "execution_count": null,
   "metadata": {},
   "outputs": [],
   "source": []
  },
  {
   "cell_type": "markdown",
   "metadata": {},
   "source": [
    "## Try something else out"
   ]
  },
  {
   "cell_type": "code",
   "execution_count": null,
   "metadata": {},
   "outputs": [],
   "source": [
    "# y_scld = np.log(df_dropped['price'])\n",
    "# y_scld.hist();"
   ]
  },
  {
   "cell_type": "code",
   "execution_count": null,
   "metadata": {},
   "outputs": [],
   "source": [
    "# creating baseline model based on highest .corr() to price (ran above)\n",
    "X = df_dropped[['sqft_living']]\n",
    "y = df_dropped['price']\n",
    "baseline_model = sm.OLS(y, sm.add_constant(X)).fit()\n",
    "\n",
    "# viewing the baseline model\n",
    "baseline_model.summary()"
   ]
  },
  {
   "cell_type": "code",
   "execution_count": null,
   "metadata": {
    "ExecuteTime": {
     "end_time": "2022-12-06T20:20:43.268162Z",
     "start_time": "2022-12-06T20:20:43.263104Z"
    }
   },
   "outputs": [],
   "source": [
    "# Creating basic cat df based on dtype\n",
    "df_cat = df_dropped.select_dtypes(object)"
   ]
  },
  {
   "cell_type": "code",
   "execution_count": null,
   "metadata": {
    "ExecuteTime": {
     "end_time": "2022-12-06T20:20:43.274308Z",
     "start_time": "2022-12-06T20:20:43.268162Z"
    }
   },
   "outputs": [],
   "source": [
    "# viewing cat df\n",
    "df_cat.head()"
   ]
  },
  {
   "cell_type": "markdown",
   "metadata": {},
   "source": [
    "- Drop ID: just a unique identifier, no helpful info\n",
    "- Drop lat/long and address. Location not important in this analysis\n",
    "- Drop year built (not able to change year built)\n"
   ]
  },
  {
   "cell_type": "code",
   "execution_count": null,
   "metadata": {
    "ExecuteTime": {
     "end_time": "2022-12-06T20:20:43.289090Z",
     "start_time": "2022-12-06T20:20:43.278309Z"
    }
   },
   "outputs": [],
   "source": [
    "df_cat.info()"
   ]
  },
  {
   "cell_type": "code",
   "execution_count": null,
   "metadata": {},
   "outputs": [],
   "source": [
    "# Creating basic numerical df based on dtype\n",
    "df_numerical = df_dropped.select_dtypes(include=np.number)\n",
    "df_numerical.head()"
   ]
  },
  {
   "cell_type": "code",
   "execution_count": null,
   "metadata": {},
   "outputs": [],
   "source": [
    "df_numerical.info()"
   ]
  },
  {
   "cell_type": "code",
   "execution_count": null,
   "metadata": {},
   "outputs": [],
   "source": [
    "# pd.plotting.scatter_matrix(df_numerical, figsize = [20,20]);"
   ]
  },
  {
   "cell_type": "code",
   "execution_count": null,
   "metadata": {},
   "outputs": [],
   "source": [
    "# pairpolt\n",
    "sns.pairplot(df_numerical);"
   ]
  },
  {
   "cell_type": "code",
   "execution_count": null,
   "metadata": {},
   "outputs": [],
   "source": [
    "df_numerical.corr()['price'].sort_values(ascending=False)"
   ]
  },
  {
   "cell_type": "code",
   "execution_count": null,
   "metadata": {},
   "outputs": [],
   "source": [
    "sns.histplot(df_numerical['sqft_living'], kde=True)"
   ]
  },
  {
   "cell_type": "code",
   "execution_count": null,
   "metadata": {},
   "outputs": [],
   "source": [
    "# scale price and sqft_living\n",
    "y_scld = np.log(df_numerical['price'])\n",
    "\n",
    "y = y_scld\n",
    "X = df_numerical['sqft_living']\n",
    "\n",
    "scld_model = sm.OLS(y, sm.add_constant(X)).fit()\n",
    "\n",
    "# viewing the baseline model\n",
    "scld_model.summary()"
   ]
  },
  {
   "cell_type": "code",
   "execution_count": null,
   "metadata": {},
   "outputs": [],
   "source": [
    "y_scld = np.log(df_numerical['price'])\n",
    "y_scld.hist();"
   ]
  },
  {
   "cell_type": "code",
   "execution_count": null,
   "metadata": {
    "ExecuteTime": {
     "end_time": "2022-12-06T20:20:43.567597Z",
     "start_time": "2022-12-06T20:20:42.040Z"
    }
   },
   "outputs": [],
   "source": [
    "# creating model with all numerical features\n",
    "#  df_numerical\n",
    "\n",
    "y = y_scld\n",
    "X = df_numerical.drop(['price'], axis = 1)\n",
    "\n",
    "num_model = sm.OLS(y, sm.add_constant(X)).fit()\n",
    "\n",
    "# viewing the baseline model\n",
    "num_model.summary()"
   ]
  },
  {
   "cell_type": "code",
   "execution_count": null,
   "metadata": {},
   "outputs": [],
   "source": [
    "sns.boxplot(df_numerical['price']);"
   ]
  },
  {
   "cell_type": "code",
   "execution_count": null,
   "metadata": {},
   "outputs": [],
   "source": [
    "def find_outlier_margin(df_feature):\n",
    "    feature_sort = df_feature.sort_values()\n",
    "    q1, q3= np.percentile(feature_sort,[25,75])\n",
    "    iqr = q3 - q1\n",
    "    lower_bound = q1 -(1.5 * iqr) \n",
    "    upper_bound = q3 +(1.5 * iqr)\n",
    "    \n",
    "    return [lower_bound, upper_bound]"
   ]
  },
  {
   "cell_type": "code",
   "execution_count": null,
   "metadata": {},
   "outputs": [],
   "source": [
    "find_outlier_margin(df_numerical['price'])"
   ]
  },
  {
   "cell_type": "code",
   "execution_count": null,
   "metadata": {},
   "outputs": [],
   "source": [
    "# get rid off outliers in price\n",
    "price_no = df_numerical[df_numerical['price'] < 2276146]\n",
    "price_no"
   ]
  },
  {
   "cell_type": "code",
   "execution_count": null,
   "metadata": {},
   "outputs": [],
   "source": [
    "sns.boxplot(df_numerical['sqft_living']);"
   ]
  },
  {
   "cell_type": "code",
   "execution_count": null,
   "metadata": {},
   "outputs": [],
   "source": [
    "find_outlier_margin(df_numerical['sqft_living'])"
   ]
  },
  {
   "cell_type": "code",
   "execution_count": null,
   "metadata": {},
   "outputs": [],
   "source": [
    "# get rid off outliers in sqft_living\n",
    "\n",
    "p_s_no = price_no[price_no['sqft_living'] < 4420]\n",
    "p_s_no"
   ]
  },
  {
   "cell_type": "code",
   "execution_count": null,
   "metadata": {},
   "outputs": [],
   "source": [
    "sns.boxplot(df_numerical['sqft_above']);"
   ]
  },
  {
   "cell_type": "code",
   "execution_count": null,
   "metadata": {},
   "outputs": [],
   "source": [
    "find_outlier_margin(df_numerical['sqft_above'])"
   ]
  },
  {
   "cell_type": "code",
   "execution_count": null,
   "metadata": {},
   "outputs": [],
   "source": [
    "# get rid off outliers in sqft_above\n",
    "\n",
    "p_s_s_no = price_no[price_no['sqft_above'] < 3905]\n",
    "p_s_s_no"
   ]
  },
  {
   "cell_type": "code",
   "execution_count": null,
   "metadata": {},
   "outputs": [],
   "source": [
    "sns.boxplot(df_numerical['bathrooms']);"
   ]
  },
  {
   "cell_type": "code",
   "execution_count": null,
   "metadata": {},
   "outputs": [],
   "source": [
    "find_outlier_margin(df_numerical['bathrooms'])"
   ]
  },
  {
   "cell_type": "code",
   "execution_count": null,
   "metadata": {},
   "outputs": [],
   "source": [
    "# get rid off outliers in bathroom\n",
    "\n",
    "p_s_s_b_no = price_no[price_no['bathrooms'] < 5]\n",
    "p_s_s_b_no"
   ]
  },
  {
   "cell_type": "code",
   "execution_count": null,
   "metadata": {},
   "outputs": [],
   "source": [
    "sns.boxplot(df_numerical['sqft_patio']);"
   ]
  },
  {
   "cell_type": "code",
   "execution_count": null,
   "metadata": {},
   "outputs": [],
   "source": [
    "find_outlier_margin(df_numerical['sqft_patio'])"
   ]
  },
  {
   "cell_type": "code",
   "execution_count": null,
   "metadata": {},
   "outputs": [],
   "source": [
    "# get rid off outliers in sqft_patio\n",
    "\n",
    "p_s_s_b_s_no = price_no[price_no['sqft_patio'] < 740]"
   ]
  },
  {
   "cell_type": "code",
   "execution_count": null,
   "metadata": {},
   "outputs": [],
   "source": [
    "sns.boxplot(p_s_s_b_s_no['bedrooms']);"
   ]
  },
  {
   "cell_type": "code",
   "execution_count": null,
   "metadata": {},
   "outputs": [],
   "source": [
    "find_outlier_margin(df_numerical['bedrooms'])"
   ]
  },
  {
   "cell_type": "code",
   "execution_count": null,
   "metadata": {},
   "outputs": [],
   "source": [
    "# get rid off outliers in bedrooms\n",
    "\n",
    "p_s_s_b_s_b_no = price_no[(price_no['bedrooms'] < 6)\n",
    "                       & (price_no['bedrooms'] >= 1)]"
   ]
  },
  {
   "cell_type": "code",
   "execution_count": null,
   "metadata": {},
   "outputs": [],
   "source": [
    "sns.boxplot(p_s_s_b_s_b_no['sqft_garage']);"
   ]
  },
  {
   "cell_type": "code",
   "execution_count": null,
   "metadata": {},
   "outputs": [],
   "source": [
    "find_outlier_margin(df_numerical['sqft_garage'])"
   ]
  },
  {
   "cell_type": "code",
   "execution_count": null,
   "metadata": {},
   "outputs": [],
   "source": [
    "no_outliers = p_s_s_b_s_b_no[p_s_s_b_s_b_no['sqft_garage'] <1275]"
   ]
  },
  {
   "cell_type": "code",
   "execution_count": null,
   "metadata": {},
   "outputs": [],
   "source": [
    "sns.boxplot(no_outliers['sqft_basement']);"
   ]
  },
  {
   "cell_type": "code",
   "execution_count": null,
   "metadata": {},
   "outputs": [],
   "source": [
    "find_outlier_margin(df_numerical['sqft_basement'])"
   ]
  },
  {
   "cell_type": "code",
   "execution_count": null,
   "metadata": {},
   "outputs": [],
   "source": [
    "no_outliers = no_outliers[no_outliers['sqft_basement'] <2350]"
   ]
  },
  {
   "cell_type": "code",
   "execution_count": null,
   "metadata": {},
   "outputs": [],
   "source": [
    "sns.boxplot(no_outliers['floors']);"
   ]
  },
  {
   "cell_type": "code",
   "execution_count": null,
   "metadata": {},
   "outputs": [],
   "source": [
    "find_outlier_margin(df_numerical['floors'])"
   ]
  },
  {
   "cell_type": "code",
   "execution_count": null,
   "metadata": {},
   "outputs": [],
   "source": [
    "no_outliers = no_outliers[no_outliers['floors'] < 4]"
   ]
  },
  {
   "cell_type": "code",
   "execution_count": null,
   "metadata": {},
   "outputs": [],
   "source": [
    "sns.boxplot(no_outliers['sqft_lot']);"
   ]
  },
  {
   "cell_type": "code",
   "execution_count": null,
   "metadata": {},
   "outputs": [],
   "source": [
    "find_outlier_margin(df_numerical['sqft_lot'])"
   ]
  },
  {
   "cell_type": "code",
   "execution_count": null,
   "metadata": {},
   "outputs": [],
   "source": [
    "no_outliers = no_outliers[no_outliers['floors'] < 19145]"
   ]
  },
  {
   "cell_type": "code",
   "execution_count": null,
   "metadata": {},
   "outputs": [],
   "source": [
    "# creating model with 4 numerical features\n",
    "\n",
    "y = no_outliers['price']\n",
    "X = no_outliers[['sqft_living', 'sqft_above', 'bathrooms', 'sqft_patio', 'bedrooms']]\n",
    "\n",
    "num6_model = sm.OLS(y, sm.add_constant(X)).fit()\n",
    "\n",
    "# viewing the baseline model\n",
    "num6_model.summary()"
   ]
  },
  {
   "cell_type": "code",
   "execution_count": null,
   "metadata": {},
   "outputs": [],
   "source": [
    "sns.pairplot(no_outliers);"
   ]
  },
  {
   "cell_type": "code",
   "execution_count": null,
   "metadata": {},
   "outputs": [],
   "source": [
    "# Log-scaling can be a good tool to make right-skewed data more normal.\n",
    "y_scld = np.log()\n",
    "y_scld.hist();"
   ]
  },
  {
   "cell_type": "code",
   "execution_count": null,
   "metadata": {},
   "outputs": [],
   "source": []
  }
 ],
 "metadata": {
  "kernelspec": {
   "display_name": "Python (learn-env)",
   "language": "python",
   "name": "learn-env"
  },
  "language_info": {
   "codemirror_mode": {
    "name": "ipython",
    "version": 3
   },
   "file_extension": ".py",
   "mimetype": "text/x-python",
   "name": "python",
   "nbconvert_exporter": "python",
   "pygments_lexer": "ipython3",
   "version": "3.8.5"
  },
  "varInspector": {
   "cols": {
    "lenName": 16,
    "lenType": 16,
    "lenVar": 40
   },
   "kernels_config": {
    "python": {
     "delete_cmd_postfix": "",
     "delete_cmd_prefix": "del ",
     "library": "var_list.py",
     "varRefreshCmd": "print(var_dic_list())"
    },
    "r": {
     "delete_cmd_postfix": ") ",
     "delete_cmd_prefix": "rm(",
     "library": "var_list.r",
     "varRefreshCmd": "cat(var_dic_list()) "
    }
   },
   "types_to_exclude": [
    "module",
    "function",
    "builtin_function_or_method",
    "instance",
    "_Feature"
   ],
   "window_display": false
  }
 },
 "nbformat": 4,
 "nbformat_minor": 4
}

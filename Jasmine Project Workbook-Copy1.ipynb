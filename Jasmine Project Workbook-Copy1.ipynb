{
 "cells": [
  {
   "cell_type": "code",
   "execution_count": 1,
   "metadata": {
    "ExecuteTime": {
     "end_time": "2022-12-06T20:20:43.108424Z",
     "start_time": "2022-12-06T20:20:42.030418Z"
    }
   },
   "outputs": [],
   "source": [
    "# Imports\n",
    "import numpy as np\n",
    "import scipy.stats as stats\n",
    "import matplotlib.pyplot as plt\n",
    "from random import sample\n",
    "from itertools import combinations\n",
    "from statsmodels.stats.power import TTestIndPower, TTestPower\n",
    "import math\n",
    "import seaborn as sns\n",
    "import scipy as sp\n",
    "import pandas as pd\n",
    "from matplotlib.lines import Line2D\n",
    "import random\n",
    "import statsmodels.api as sm\n",
    "from itertools import combinations\n",
    "from sklearn.preprocessing import StandardScaler, OneHotEncoder, OrdinalEncoder\n",
    "from statsmodels.stats.stattools import jarque_bera\n",
    "\n",
    "import num_model_all_combos as simple_test"
   ]
  },
  {
   "cell_type": "code",
   "execution_count": 56,
   "metadata": {
    "ExecuteTime": {
     "end_time": "2022-12-06T20:20:43.162410Z",
     "start_time": "2022-12-06T20:20:43.109430Z"
    }
   },
   "outputs": [],
   "source": [
    "# creating initial data frame\n",
    "df = pd.read_csv('data/kc_house_data.csv')"
   ]
  },
  {
   "cell_type": "code",
   "execution_count": 57,
   "metadata": {
    "ExecuteTime": {
     "end_time": "2022-12-06T20:20:43.175767Z",
     "start_time": "2022-12-06T20:20:43.163410Z"
    }
   },
   "outputs": [
    {
     "data": {
      "text/html": [
       "<div>\n",
       "<style scoped>\n",
       "    .dataframe tbody tr th:only-of-type {\n",
       "        vertical-align: middle;\n",
       "    }\n",
       "\n",
       "    .dataframe tbody tr th {\n",
       "        vertical-align: top;\n",
       "    }\n",
       "\n",
       "    .dataframe thead th {\n",
       "        text-align: right;\n",
       "    }\n",
       "</style>\n",
       "<table border=\"1\" class=\"dataframe\">\n",
       "  <thead>\n",
       "    <tr style=\"text-align: right;\">\n",
       "      <th></th>\n",
       "      <th>id</th>\n",
       "      <th>date</th>\n",
       "      <th>price</th>\n",
       "      <th>bedrooms</th>\n",
       "      <th>bathrooms</th>\n",
       "      <th>sqft_living</th>\n",
       "      <th>sqft_lot</th>\n",
       "      <th>floors</th>\n",
       "      <th>waterfront</th>\n",
       "      <th>greenbelt</th>\n",
       "      <th>...</th>\n",
       "      <th>sewer_system</th>\n",
       "      <th>sqft_above</th>\n",
       "      <th>sqft_basement</th>\n",
       "      <th>sqft_garage</th>\n",
       "      <th>sqft_patio</th>\n",
       "      <th>yr_built</th>\n",
       "      <th>yr_renovated</th>\n",
       "      <th>address</th>\n",
       "      <th>lat</th>\n",
       "      <th>long</th>\n",
       "    </tr>\n",
       "  </thead>\n",
       "  <tbody>\n",
       "    <tr>\n",
       "      <th>0</th>\n",
       "      <td>7399300360</td>\n",
       "      <td>5/24/2022</td>\n",
       "      <td>675000.0</td>\n",
       "      <td>4</td>\n",
       "      <td>1.0</td>\n",
       "      <td>1180</td>\n",
       "      <td>7140</td>\n",
       "      <td>1.0</td>\n",
       "      <td>NO</td>\n",
       "      <td>NO</td>\n",
       "      <td>...</td>\n",
       "      <td>PUBLIC</td>\n",
       "      <td>1180</td>\n",
       "      <td>0</td>\n",
       "      <td>0</td>\n",
       "      <td>40</td>\n",
       "      <td>1969</td>\n",
       "      <td>0</td>\n",
       "      <td>2102 Southeast 21st Court, Renton, Washington ...</td>\n",
       "      <td>47.461975</td>\n",
       "      <td>-122.19052</td>\n",
       "    </tr>\n",
       "    <tr>\n",
       "      <th>1</th>\n",
       "      <td>8910500230</td>\n",
       "      <td>12/13/2021</td>\n",
       "      <td>920000.0</td>\n",
       "      <td>5</td>\n",
       "      <td>2.5</td>\n",
       "      <td>2770</td>\n",
       "      <td>6703</td>\n",
       "      <td>1.0</td>\n",
       "      <td>NO</td>\n",
       "      <td>NO</td>\n",
       "      <td>...</td>\n",
       "      <td>PUBLIC</td>\n",
       "      <td>1570</td>\n",
       "      <td>1570</td>\n",
       "      <td>0</td>\n",
       "      <td>240</td>\n",
       "      <td>1950</td>\n",
       "      <td>0</td>\n",
       "      <td>11231 Greenwood Avenue North, Seattle, Washing...</td>\n",
       "      <td>47.711525</td>\n",
       "      <td>-122.35591</td>\n",
       "    </tr>\n",
       "    <tr>\n",
       "      <th>2</th>\n",
       "      <td>1180000275</td>\n",
       "      <td>9/29/2021</td>\n",
       "      <td>311000.0</td>\n",
       "      <td>6</td>\n",
       "      <td>2.0</td>\n",
       "      <td>2880</td>\n",
       "      <td>6156</td>\n",
       "      <td>1.0</td>\n",
       "      <td>NO</td>\n",
       "      <td>NO</td>\n",
       "      <td>...</td>\n",
       "      <td>PUBLIC</td>\n",
       "      <td>1580</td>\n",
       "      <td>1580</td>\n",
       "      <td>0</td>\n",
       "      <td>0</td>\n",
       "      <td>1956</td>\n",
       "      <td>0</td>\n",
       "      <td>8504 South 113th Street, Seattle, Washington 9...</td>\n",
       "      <td>47.502045</td>\n",
       "      <td>-122.22520</td>\n",
       "    </tr>\n",
       "    <tr>\n",
       "      <th>3</th>\n",
       "      <td>1604601802</td>\n",
       "      <td>12/14/2021</td>\n",
       "      <td>775000.0</td>\n",
       "      <td>3</td>\n",
       "      <td>3.0</td>\n",
       "      <td>2160</td>\n",
       "      <td>1400</td>\n",
       "      <td>2.0</td>\n",
       "      <td>NO</td>\n",
       "      <td>NO</td>\n",
       "      <td>...</td>\n",
       "      <td>PUBLIC</td>\n",
       "      <td>1090</td>\n",
       "      <td>1070</td>\n",
       "      <td>200</td>\n",
       "      <td>270</td>\n",
       "      <td>2010</td>\n",
       "      <td>0</td>\n",
       "      <td>4079 Letitia Avenue South, Seattle, Washington...</td>\n",
       "      <td>47.566110</td>\n",
       "      <td>-122.29020</td>\n",
       "    </tr>\n",
       "    <tr>\n",
       "      <th>4</th>\n",
       "      <td>8562780790</td>\n",
       "      <td>8/24/2021</td>\n",
       "      <td>592500.0</td>\n",
       "      <td>2</td>\n",
       "      <td>2.0</td>\n",
       "      <td>1120</td>\n",
       "      <td>758</td>\n",
       "      <td>2.0</td>\n",
       "      <td>NO</td>\n",
       "      <td>NO</td>\n",
       "      <td>...</td>\n",
       "      <td>PUBLIC</td>\n",
       "      <td>1120</td>\n",
       "      <td>550</td>\n",
       "      <td>550</td>\n",
       "      <td>30</td>\n",
       "      <td>2012</td>\n",
       "      <td>0</td>\n",
       "      <td>2193 Northwest Talus Drive, Issaquah, Washingt...</td>\n",
       "      <td>47.532470</td>\n",
       "      <td>-122.07188</td>\n",
       "    </tr>\n",
       "  </tbody>\n",
       "</table>\n",
       "<p>5 rows × 25 columns</p>\n",
       "</div>"
      ],
      "text/plain": [
       "           id        date     price  bedrooms  bathrooms  sqft_living  \\\n",
       "0  7399300360   5/24/2022  675000.0         4        1.0         1180   \n",
       "1  8910500230  12/13/2021  920000.0         5        2.5         2770   \n",
       "2  1180000275   9/29/2021  311000.0         6        2.0         2880   \n",
       "3  1604601802  12/14/2021  775000.0         3        3.0         2160   \n",
       "4  8562780790   8/24/2021  592500.0         2        2.0         1120   \n",
       "\n",
       "   sqft_lot  floors waterfront greenbelt  ... sewer_system sqft_above  \\\n",
       "0      7140     1.0         NO        NO  ...       PUBLIC       1180   \n",
       "1      6703     1.0         NO        NO  ...       PUBLIC       1570   \n",
       "2      6156     1.0         NO        NO  ...       PUBLIC       1580   \n",
       "3      1400     2.0         NO        NO  ...       PUBLIC       1090   \n",
       "4       758     2.0         NO        NO  ...       PUBLIC       1120   \n",
       "\n",
       "  sqft_basement sqft_garage sqft_patio yr_built  yr_renovated  \\\n",
       "0             0           0         40     1969             0   \n",
       "1          1570           0        240     1950             0   \n",
       "2          1580           0          0     1956             0   \n",
       "3          1070         200        270     2010             0   \n",
       "4           550         550         30     2012             0   \n",
       "\n",
       "                                             address        lat       long  \n",
       "0  2102 Southeast 21st Court, Renton, Washington ...  47.461975 -122.19052  \n",
       "1  11231 Greenwood Avenue North, Seattle, Washing...  47.711525 -122.35591  \n",
       "2  8504 South 113th Street, Seattle, Washington 9...  47.502045 -122.22520  \n",
       "3  4079 Letitia Avenue South, Seattle, Washington...  47.566110 -122.29020  \n",
       "4  2193 Northwest Talus Drive, Issaquah, Washingt...  47.532470 -122.07188  \n",
       "\n",
       "[5 rows x 25 columns]"
      ]
     },
     "execution_count": 57,
     "metadata": {},
     "output_type": "execute_result"
    }
   ],
   "source": [
    "# checking original df\n",
    "df.head()"
   ]
  },
  {
   "cell_type": "code",
   "execution_count": 58,
   "metadata": {},
   "outputs": [
    {
     "data": {
      "text/plain": [
       "(30155, 25)"
      ]
     },
     "execution_count": 58,
     "metadata": {},
     "output_type": "execute_result"
    }
   ],
   "source": [
    "df.shape"
   ]
  },
  {
   "cell_type": "code",
   "execution_count": 59,
   "metadata": {
    "ExecuteTime": {
     "end_time": "2022-12-06T20:20:43.186310Z",
     "start_time": "2022-12-06T20:20:43.175767Z"
    }
   },
   "outputs": [
    {
     "data": {
      "text/plain": [
       "id                0\n",
       "date              0\n",
       "price             0\n",
       "bedrooms          0\n",
       "bathrooms         0\n",
       "sqft_living       0\n",
       "sqft_lot          0\n",
       "floors            0\n",
       "waterfront        0\n",
       "greenbelt         0\n",
       "nuisance          0\n",
       "view              0\n",
       "condition         0\n",
       "grade             0\n",
       "heat_source      32\n",
       "sewer_system     14\n",
       "sqft_above        0\n",
       "sqft_basement     0\n",
       "sqft_garage       0\n",
       "sqft_patio        0\n",
       "yr_built          0\n",
       "yr_renovated      0\n",
       "address           0\n",
       "lat               0\n",
       "long              0\n",
       "dtype: int64"
      ]
     },
     "execution_count": 59,
     "metadata": {},
     "output_type": "execute_result"
    }
   ],
   "source": [
    "# checking for nulls\n",
    "df.isna().sum()"
   ]
  },
  {
   "cell_type": "code",
   "execution_count": 60,
   "metadata": {
    "ExecuteTime": {
     "end_time": "2022-12-06T20:20:43.200968Z",
     "start_time": "2022-12-06T20:20:43.186310Z"
    }
   },
   "outputs": [],
   "source": [
    "# dropping nulls\n",
    "df.dropna(inplace=True)"
   ]
  },
  {
   "cell_type": "code",
   "execution_count": 61,
   "metadata": {
    "ExecuteTime": {
     "end_time": "2022-12-06T20:20:43.210636Z",
     "start_time": "2022-12-06T20:20:43.200968Z"
    }
   },
   "outputs": [
    {
     "data": {
      "text/plain": [
       "id               0\n",
       "date             0\n",
       "price            0\n",
       "bedrooms         0\n",
       "bathrooms        0\n",
       "sqft_living      0\n",
       "sqft_lot         0\n",
       "floors           0\n",
       "waterfront       0\n",
       "greenbelt        0\n",
       "nuisance         0\n",
       "view             0\n",
       "condition        0\n",
       "grade            0\n",
       "heat_source      0\n",
       "sewer_system     0\n",
       "sqft_above       0\n",
       "sqft_basement    0\n",
       "sqft_garage      0\n",
       "sqft_patio       0\n",
       "yr_built         0\n",
       "yr_renovated     0\n",
       "address          0\n",
       "lat              0\n",
       "long             0\n",
       "dtype: int64"
      ]
     },
     "execution_count": 61,
     "metadata": {},
     "output_type": "execute_result"
    }
   ],
   "source": [
    "# confirming nulls dropped\n",
    "df.isna().sum()"
   ]
  },
  {
   "cell_type": "markdown",
   "metadata": {},
   "source": [
    "###### Dropping Outliers of price to within 3 standard deviations\n",
    "\n",
    "Only losing .6 percent of data"
   ]
  },
  {
   "cell_type": "code",
   "execution_count": 62,
   "metadata": {},
   "outputs": [
    {
     "name": "stderr",
     "output_type": "stream",
     "text": [
      "C:\\Users\\Chiafeng\\anaconda3\\envs\\learn-env\\lib\\site-packages\\seaborn\\_decorators.py:36: FutureWarning: Pass the following variable as a keyword arg: x. From version 0.12, the only valid positional argument will be `data`, and passing other arguments without an explicit keyword will result in an error or misinterpretation.\n",
      "  warnings.warn(\n"
     ]
    },
    {
     "data": {
      "image/png": "[encoded data removed]",
      "text/plain": [
       "<Figure size 432x288 with 1 Axes>"
      ]
     },
     "metadata": {
      "needs_background": "light"
     },
     "output_type": "display_data"
    }
   ],
   "source": [
    "sns.boxplot(df['price']);"
   ]
  },
  {
   "cell_type": "code",
   "execution_count": 63,
   "metadata": {},
   "outputs": [],
   "source": [
    "df_no_outliers = df[(df['price'] > np.percentile(df['price'], .3)) & (df['price'] < np.percentile(df['price'], 99.7))]"
   ]
  },
  {
   "cell_type": "code",
   "execution_count": 64,
   "metadata": {},
   "outputs": [
    {
     "name": "stdout",
     "output_type": "stream",
     "text": [
      "Series([], Name: price, dtype: float64) 3059     7000000.0\n",
      "4454     7000000.0\n",
      "4455     7000000.0\n",
      "12564    7000000.0\n",
      "29947    7000000.0\n",
      "Name: price, dtype: float64\n"
     ]
    }
   ],
   "source": [
    "lower_price_point = df.loc[df['price'] == np.percentile(df['price'], .3)]['price']\n",
    "upper_price_point = df.loc[df['price'] == np.percentile(df['price'], 99.7)]['price']\n",
    "\n",
    "print(lower_price_point, upper_price_point)"
   ]
  },
  {
   "cell_type": "code",
   "execution_count": 65,
   "metadata": {},
   "outputs": [
    {
     "data": {
      "image/png": "[encoded data removed]",
      "text/plain": [
       "<Figure size 432x288 with 1 Axes>"
      ]
     },
     "metadata": {
      "needs_background": "light"
     },
     "output_type": "display_data"
    }
   ],
   "source": [
    "sns.histplot(df_no_outliers['price']);"
   ]
  },
  {
   "cell_type": "code",
   "execution_count": null,
   "metadata": {
    "ExecuteTime": {
     "end_time": "2022-12-06T20:20:43.224578Z",
     "start_time": "2022-12-06T20:20:43.210636Z"
    },
    "scrolled": false
   },
   "outputs": [],
   "source": [
    "df.info()"
   ]
  },
  {
   "cell_type": "markdown",
   "metadata": {},
   "source": [
    "###### categorical based on ints:\n",
    "    - floors\n",
    "    - "
   ]
  },
  {
   "cell_type": "code",
   "execution_count": 66,
   "metadata": {
    "ExecuteTime": {
     "end_time": "2022-12-06T20:20:43.263104Z",
     "start_time": "2022-12-06T20:20:43.251460Z"
    }
   },
   "outputs": [
    {
     "data": {
      "text/plain": [
       "price            1.000000\n",
       "sqft_living      0.655892\n",
       "sqft_above       0.583745\n",
       "bathrooms        0.517427\n",
       "bedrooms         0.337179\n",
       "sqft_patio       0.309581\n",
       "sqft_garage      0.296795\n",
       "sqft_basement    0.238018\n",
       "floors           0.205952\n",
       "yr_built         0.106209\n",
       "sqft_lot         0.096905\n",
       "yr_renovated     0.085222\n",
       "lat              0.080874\n",
       "long            -0.033954\n",
       "id              -0.035254\n",
       "Name: price, dtype: float64"
      ]
     },
     "execution_count": 66,
     "metadata": {},
     "output_type": "execute_result"
    }
   ],
   "source": [
    "df_no_outliers.corr()['price'].sort_values(ascending=False)"
   ]
  },
  {
   "cell_type": "markdown",
   "metadata": {},
   "source": [
    "#### Creating a new DF that now has features dropped (after dropping outliers in price)\n",
    "These columns are not relevant for a variety of reasons listed above"
   ]
  },
  {
   "cell_type": "code",
   "execution_count": 67,
   "metadata": {
    "scrolled": true
   },
   "outputs": [],
   "source": [
    "# Dropping columns that seem to have little effect\n",
    "df_dropped = df_no_outliers.drop(['id', 'address', 'lat', 'long', 'yr_renovated',\n",
    "                                  'date', 'waterfront', 'greenbelt', 'view'], axis = 1)"
   ]
  },
  {
   "cell_type": "code",
   "execution_count": 68,
   "metadata": {},
   "outputs": [
    {
     "name": "stdout",
     "output_type": "stream",
     "text": [
      "<class 'pandas.core.frame.DataFrame'>\n",
      "Int64Index: 29927 entries, 0 to 30154\n",
      "Data columns (total 16 columns):\n",
      " #   Column         Non-Null Count  Dtype  \n",
      "---  ------         --------------  -----  \n",
      " 0   price          29927 non-null  float64\n",
      " 1   bedrooms       29927 non-null  int64  \n",
      " 2   bathrooms      29927 non-null  float64\n",
      " 3   sqft_living    29927 non-null  int64  \n",
      " 4   sqft_lot       29927 non-null  int64  \n",
      " 5   floors         29927 non-null  float64\n",
      " 6   nuisance       29927 non-null  object \n",
      " 7   condition      29927 non-null  object \n",
      " 8   grade          29927 non-null  object \n",
      " 9   heat_source    29927 non-null  object \n",
      " 10  sewer_system   29927 non-null  object \n",
      " 11  sqft_above     29927 non-null  int64  \n",
      " 12  sqft_basement  29927 non-null  int64  \n",
      " 13  sqft_garage    29927 non-null  int64  \n",
      " 14  sqft_patio     29927 non-null  int64  \n",
      " 15  yr_built       29927 non-null  int64  \n",
      "dtypes: float64(3), int64(8), object(5)\n",
      "memory usage: 3.9+ MB\n"
     ]
    }
   ],
   "source": [
    "df_dropped.info()"
   ]
  },
  {
   "cell_type": "code",
   "execution_count": null,
   "metadata": {},
   "outputs": [],
   "source": [
    "df_dropped['nuisance'].value_counts()"
   ]
  },
  {
   "cell_type": "code",
   "execution_count": null,
   "metadata": {},
   "outputs": [],
   "source": [
    "df_dropped['grade'].value_counts()"
   ]
  },
  {
   "cell_type": "code",
   "execution_count": null,
   "metadata": {},
   "outputs": [],
   "source": [
    "df_dropped['condition'].value_counts()"
   ]
  },
  {
   "cell_type": "code",
   "execution_count": null,
   "metadata": {},
   "outputs": [],
   "source": [
    "# df_dropped['sewer_system'].value_counts()"
   ]
  },
  {
   "cell_type": "code",
   "execution_count": null,
   "metadata": {},
   "outputs": [],
   "source": [
    "# df_dropped['heat_source'].sort_values().values"
   ]
  },
  {
   "cell_type": "markdown",
   "metadata": {},
   "source": [
    "#### Jasmie's model dropping more features:\n",
    "- yr_built, sewer_system, heat_source, sqft_lot"
   ]
  },
  {
   "cell_type": "code",
   "execution_count": 69,
   "metadata": {},
   "outputs": [
    {
     "name": "stdout",
     "output_type": "stream",
     "text": [
      "<class 'pandas.core.frame.DataFrame'>\n",
      "Int64Index: 29927 entries, 0 to 30154\n",
      "Data columns (total 12 columns):\n",
      " #   Column         Non-Null Count  Dtype  \n",
      "---  ------         --------------  -----  \n",
      " 0   price          29927 non-null  float64\n",
      " 1   bedrooms       29927 non-null  int64  \n",
      " 2   bathrooms      29927 non-null  float64\n",
      " 3   sqft_living    29927 non-null  int64  \n",
      " 4   floors         29927 non-null  float64\n",
      " 5   nuisance       29927 non-null  object \n",
      " 6   condition      29927 non-null  object \n",
      " 7   grade          29927 non-null  object \n",
      " 8   sqft_above     29927 non-null  int64  \n",
      " 9   sqft_basement  29927 non-null  int64  \n",
      " 10  sqft_garage    29927 non-null  int64  \n",
      " 11  sqft_patio     29927 non-null  int64  \n",
      "dtypes: float64(3), int64(6), object(3)\n",
      "memory usage: 3.0+ MB\n"
     ]
    }
   ],
   "source": [
    "df_dropped = df_dropped.drop(['sqft_lot', 'yr_built', 'sewer_system', 'heat_source'], axis = 1)\n",
    "df_dropped.info()"
   ]
  },
  {
   "cell_type": "code",
   "execution_count": 70,
   "metadata": {},
   "outputs": [
    {
     "name": "stdout",
     "output_type": "stream",
     "text": [
      "<class 'pandas.core.frame.DataFrame'>\n",
      "Int64Index: 29927 entries, 0 to 30154\n",
      "Data columns (total 9 columns):\n",
      " #   Column         Non-Null Count  Dtype  \n",
      "---  ------         --------------  -----  \n",
      " 0   price          29927 non-null  float64\n",
      " 1   bedrooms       29927 non-null  int64  \n",
      " 2   bathrooms      29927 non-null  float64\n",
      " 3   sqft_living    29927 non-null  int64  \n",
      " 4   floors         29927 non-null  float64\n",
      " 5   sqft_above     29927 non-null  int64  \n",
      " 6   sqft_basement  29927 non-null  int64  \n",
      " 7   sqft_garage    29927 non-null  int64  \n",
      " 8   sqft_patio     29927 non-null  int64  \n",
      "dtypes: float64(3), int64(6)\n",
      "memory usage: 2.3 MB\n"
     ]
    }
   ],
   "source": [
    "df_numerical = df_dropped.select_dtypes('number')\n",
    "df_numerical.info()"
   ]
  },
  {
   "cell_type": "code",
   "execution_count": 71,
   "metadata": {},
   "outputs": [
    {
     "data": {
      "text/plain": [
       "price            1.000000\n",
       "sqft_living      0.655892\n",
       "sqft_above       0.583745\n",
       "bathrooms        0.517427\n",
       "bedrooms         0.337179\n",
       "sqft_patio       0.309581\n",
       "sqft_garage      0.296795\n",
       "sqft_basement    0.238018\n",
       "floors           0.205952\n",
       "Name: price, dtype: float64"
      ]
     },
     "execution_count": 71,
     "metadata": {},
     "output_type": "execute_result"
    }
   ],
   "source": [
    "df_dropped.corr()['price'].sort_values(ascending=False)"
   ]
  },
  {
   "cell_type": "code",
   "execution_count": 45,
   "metadata": {},
   "outputs": [],
   "source": [
    "# df_dropped.drop(df_dropped[df_dropped[\"condition\"]==\"Very Good\"].index, inplace=True)"
   ]
  },
  {
   "cell_type": "code",
   "execution_count": 72,
   "metadata": {},
   "outputs": [
    {
     "name": "stdout",
     "output_type": "stream",
     "text": [
      "<class 'pandas.core.frame.DataFrame'>\n",
      "Int64Index: 29927 entries, 0 to 30154\n",
      "Data columns (total 12 columns):\n",
      " #   Column         Non-Null Count  Dtype  \n",
      "---  ------         --------------  -----  \n",
      " 0   price          29927 non-null  float64\n",
      " 1   bedrooms       29927 non-null  int64  \n",
      " 2   bathrooms      29927 non-null  float64\n",
      " 3   sqft_living    29927 non-null  int64  \n",
      " 4   floors         29927 non-null  float64\n",
      " 5   nuisance       29927 non-null  object \n",
      " 6   condition      29927 non-null  object \n",
      " 7   grade          29927 non-null  object \n",
      " 8   sqft_above     29927 non-null  int64  \n",
      " 9   sqft_basement  29927 non-null  int64  \n",
      " 10  sqft_garage    29927 non-null  int64  \n",
      " 11  sqft_patio     29927 non-null  int64  \n",
      "dtypes: float64(3), int64(6), object(3)\n",
      "memory usage: 3.0+ MB\n"
     ]
    }
   ],
   "source": [
    "df_dropped.info()"
   ]
  },
  {
   "cell_type": "code",
   "execution_count": 73,
   "metadata": {},
   "outputs": [
    {
     "data": {
      "text/html": [
       "<table class=\"simpletable\">\n",
       "<caption>OLS Regression Results</caption>\n",
       "<tr>\n",
       "  <th>Dep. Variable:</th>          <td>price</td>      <th>  R-squared:         </th>  <td>   0.449</td>  \n",
       "</tr>\n",
       "<tr>\n",
       "  <th>Model:</th>                   <td>OLS</td>       <th>  Adj. R-squared:    </th>  <td>   0.449</td>  \n",
       "</tr>\n",
       "<tr>\n",
       "  <th>Method:</th>             <td>Least Squares</td>  <th>  F-statistic:       </th>  <td>   3488.</td>  \n",
       "</tr>\n",
       "<tr>\n",
       "  <th>Date:</th>             <td>Thu, 08 Dec 2022</td> <th>  Prob (F-statistic):</th>   <td>  0.00</td>   \n",
       "</tr>\n",
       "<tr>\n",
       "  <th>Time:</th>                 <td>00:42:45</td>     <th>  Log-Likelihood:    </th> <td>-4.3717e+05</td>\n",
       "</tr>\n",
       "<tr>\n",
       "  <th>No. Observations:</th>      <td> 29927</td>      <th>  AIC:               </th>  <td>8.744e+05</td> \n",
       "</tr>\n",
       "<tr>\n",
       "  <th>Df Residuals:</th>          <td> 29919</td>      <th>  BIC:               </th>  <td>8.744e+05</td> \n",
       "</tr>\n",
       "<tr>\n",
       "  <th>Df Model:</th>              <td>     7</td>      <th>                     </th>      <td> </td>     \n",
       "</tr>\n",
       "<tr>\n",
       "  <th>Covariance Type:</th>      <td>nonrobust</td>    <th>                     </th>      <td> </td>     \n",
       "</tr>\n",
       "</table>\n",
       "<table class=\"simpletable\">\n",
       "<tr>\n",
       "        <td></td>           <th>coef</th>     <th>std err</th>      <th>t</th>      <th>P>|t|</th>  <th>[0.025</th>    <th>0.975]</th>  \n",
       "</tr>\n",
       "<tr>\n",
       "  <th>const</th>         <td> 2.294e+05</td> <td> 1.38e+04</td> <td>   16.661</td> <td> 0.000</td> <td> 2.02e+05</td> <td> 2.56e+05</td>\n",
       "</tr>\n",
       "<tr>\n",
       "  <th>sqft_living</th>   <td>  530.4376</td> <td>    6.047</td> <td>   87.721</td> <td> 0.000</td> <td>  518.585</td> <td>  542.290</td>\n",
       "</tr>\n",
       "<tr>\n",
       "  <th>bathrooms</th>     <td> 6.704e+04</td> <td> 5997.291</td> <td>   11.178</td> <td> 0.000</td> <td> 5.53e+04</td> <td> 7.88e+04</td>\n",
       "</tr>\n",
       "<tr>\n",
       "  <th>bedrooms</th>      <td> -1.12e+05</td> <td> 4264.800</td> <td>  -26.262</td> <td> 0.000</td> <td> -1.2e+05</td> <td>-1.04e+05</td>\n",
       "</tr>\n",
       "<tr>\n",
       "  <th>sqft_patio</th>    <td>  148.9493</td> <td>   14.016</td> <td>   10.627</td> <td> 0.000</td> <td>  121.477</td> <td>  176.421</td>\n",
       "</tr>\n",
       "<tr>\n",
       "  <th>sqft_basement</th> <td>   20.1101</td> <td>    6.456</td> <td>    3.115</td> <td> 0.002</td> <td>    7.457</td> <td>   32.764</td>\n",
       "</tr>\n",
       "<tr>\n",
       "  <th>floors</th>        <td> -1.84e+04</td> <td> 6667.759</td> <td>   -2.760</td> <td> 0.006</td> <td>-3.15e+04</td> <td>-5331.525</td>\n",
       "</tr>\n",
       "<tr>\n",
       "  <th>sqft_garage</th>   <td> -146.7862</td> <td>   13.131</td> <td>  -11.178</td> <td> 0.000</td> <td> -172.524</td> <td> -121.048</td>\n",
       "</tr>\n",
       "</table>\n",
       "<table class=\"simpletable\">\n",
       "<tr>\n",
       "  <th>Omnibus:</th>       <td>14673.613</td> <th>  Durbin-Watson:     </th>  <td>   1.920</td> \n",
       "</tr>\n",
       "<tr>\n",
       "  <th>Prob(Omnibus):</th>  <td> 0.000</td>   <th>  Jarque-Bera (JB):  </th> <td>197789.863</td>\n",
       "</tr>\n",
       "<tr>\n",
       "  <th>Skew:</th>           <td> 2.025</td>   <th>  Prob(JB):          </th>  <td>    0.00</td> \n",
       "</tr>\n",
       "<tr>\n",
       "  <th>Kurtosis:</th>       <td>14.925</td>   <th>  Cond. No.          </th>  <td>1.13e+04</td> \n",
       "</tr>\n",
       "</table><br/><br/>Notes:<br/>[1] Standard Errors assume that the covariance matrix of the errors is correctly specified.<br/>[2] The condition number is large, 1.13e+04. This might indicate that there are<br/>strong multicollinearity or other numerical problems."
      ],
      "text/plain": [
       "<class 'statsmodels.iolib.summary.Summary'>\n",
       "\"\"\"\n",
       "                            OLS Regression Results                            \n",
       "==============================================================================\n",
       "Dep. Variable:                  price   R-squared:                       0.449\n",
       "Model:                            OLS   Adj. R-squared:                  0.449\n",
       "Method:                 Least Squares   F-statistic:                     3488.\n",
       "Date:                Thu, 08 Dec 2022   Prob (F-statistic):               0.00\n",
       "Time:                        00:42:45   Log-Likelihood:            -4.3717e+05\n",
       "No. Observations:               29927   AIC:                         8.744e+05\n",
       "Df Residuals:                   29919   BIC:                         8.744e+05\n",
       "Df Model:                           7                                         \n",
       "Covariance Type:            nonrobust                                         \n",
       "=================================================================================\n",
       "                    coef    std err          t      P>|t|      [0.025      0.975]\n",
       "---------------------------------------------------------------------------------\n",
       "const          2.294e+05   1.38e+04     16.661      0.000    2.02e+05    2.56e+05\n",
       "sqft_living     530.4376      6.047     87.721      0.000     518.585     542.290\n",
       "bathrooms      6.704e+04   5997.291     11.178      0.000    5.53e+04    7.88e+04\n",
       "bedrooms       -1.12e+05   4264.800    -26.262      0.000    -1.2e+05   -1.04e+05\n",
       "sqft_patio      148.9493     14.016     10.627      0.000     121.477     176.421\n",
       "sqft_basement    20.1101      6.456      3.115      0.002       7.457      32.764\n",
       "floors         -1.84e+04   6667.759     -2.760      0.006   -3.15e+04   -5331.525\n",
       "sqft_garage    -146.7862     13.131    -11.178      0.000    -172.524    -121.048\n",
       "==============================================================================\n",
       "Omnibus:                    14673.613   Durbin-Watson:                   1.920\n",
       "Prob(Omnibus):                  0.000   Jarque-Bera (JB):           197789.863\n",
       "Skew:                           2.025   Prob(JB):                         0.00\n",
       "Kurtosis:                      14.925   Cond. No.                     1.13e+04\n",
       "==============================================================================\n",
       "\n",
       "Notes:\n",
       "[1] Standard Errors assume that the covariance matrix of the errors is correctly specified.\n",
       "[2] The condition number is large, 1.13e+04. This might indicate that there are\n",
       "strong multicollinearity or other numerical problems.\n",
       "\"\"\""
      ]
     },
     "execution_count": 73,
     "metadata": {},
     "output_type": "execute_result"
    }
   ],
   "source": [
    "# creating baseline model based on highest .corr() to price (ran above)\n",
    "X = df_dropped[['sqft_living', 'bathrooms', 'bedrooms', 'sqft_patio', 'sqft_basement', 'floors', 'sqft_garage']]\n",
    "y = df_dropped[['price']]\n",
    "\n",
    "baseline_model = sm.OLS(y, sm.add_constant(X)).fit()\n",
    "\n",
    "# viewing the baseline model\n",
    "baseline_model.summary()"
   ]
  },
  {
   "cell_type": "markdown",
   "metadata": {},
   "source": [
    "### 3 catagorial features in df_cat:\n",
    "nuisance, condition, grade"
   ]
  },
  {
   "cell_type": "markdown",
   "metadata": {},
   "source": [
    "### Replce String to number\n",
    "\n",
    "- for condition:\n",
    "    - 1. Poor\n",
    "    - 2. Fair\n",
    "    - 3. Average\n",
    "    - 4. Good\n",
    "    - 5. Excellent\n",
    "\n",
    "- for nuisance: 1. YES; 0. NO"
   ]
  },
  {
   "cell_type": "code",
   "execution_count": 74,
   "metadata": {},
   "outputs": [
    {
     "data": {
      "text/plain": [
       "7 Average        11653\n",
       "8 Good            9360\n",
       "9 Better          3794\n",
       "6 Low Average     2827\n",
       "10 Very Good      1357\n",
       "5 Fair             383\n",
       "11 Excellent       382\n",
       "12 Luxury          104\n",
       "4 Low               46\n",
       "13 Mansion          12\n",
       "3 Poor               8\n",
       "2 Substandard        1\n",
       "Name: grade, dtype: int64"
      ]
     },
     "execution_count": 74,
     "metadata": {},
     "output_type": "execute_result"
    }
   ],
   "source": [
    "df_dropped['grade'].value_counts()"
   ]
  },
  {
   "cell_type": "code",
   "execution_count": 75,
   "metadata": {},
   "outputs": [],
   "source": [
    "df_dropped['condition'].replace({\"Very Good\":5, \"Good\":4 , \"Average\":3, \"Fair\": 2, \"Poor\":1}, inplace=True)"
   ]
  },
  {
   "cell_type": "code",
   "execution_count": 76,
   "metadata": {},
   "outputs": [],
   "source": [
    "df_dropped['nuisance'].replace({\"NO\":0, \"YES\":1}, inplace=True)"
   ]
  },
  {
   "cell_type": "code",
   "execution_count": 77,
   "metadata": {},
   "outputs": [],
   "source": [
    "df_dropped['grade'].replace({\"7 Average\":7, \"8 Good\":8 , \"9 Better\":9,\n",
    "                             \"6 Low Average\": 6, \"10 Very Good\":10,\n",
    "                            \"5 Fair\":5, \"11 Excellent\":11, \"12 Luxury\":12,\n",
    "                            \"4 Low\":4, \"13 Mansion\":13, \"3 Poor\":3, \"2 Substandard\":2},\n",
    "                            inplace=True)"
   ]
  },
  {
   "cell_type": "code",
   "execution_count": 78,
   "metadata": {},
   "outputs": [
    {
     "data": {
      "text/html": [
       "<div>\n",
       "<style scoped>\n",
       "    .dataframe tbody tr th:only-of-type {\n",
       "        vertical-align: middle;\n",
       "    }\n",
       "\n",
       "    .dataframe tbody tr th {\n",
       "        vertical-align: top;\n",
       "    }\n",
       "\n",
       "    .dataframe thead th {\n",
       "        text-align: right;\n",
       "    }\n",
       "</style>\n",
       "<table border=\"1\" class=\"dataframe\">\n",
       "  <thead>\n",
       "    <tr style=\"text-align: right;\">\n",
       "      <th></th>\n",
       "      <th>price</th>\n",
       "      <th>bedrooms</th>\n",
       "      <th>bathrooms</th>\n",
       "      <th>sqft_living</th>\n",
       "      <th>floors</th>\n",
       "      <th>sqft_above</th>\n",
       "      <th>sqft_basement</th>\n",
       "      <th>sqft_garage</th>\n",
       "      <th>sqft_patio</th>\n",
       "      <th>condition_2</th>\n",
       "      <th>...</th>\n",
       "      <th>grade_4</th>\n",
       "      <th>grade_5</th>\n",
       "      <th>grade_6</th>\n",
       "      <th>grade_7</th>\n",
       "      <th>grade_8</th>\n",
       "      <th>grade_9</th>\n",
       "      <th>grade_10</th>\n",
       "      <th>grade_11</th>\n",
       "      <th>grade_12</th>\n",
       "      <th>grade_13</th>\n",
       "    </tr>\n",
       "  </thead>\n",
       "  <tbody>\n",
       "    <tr>\n",
       "      <th>0</th>\n",
       "      <td>675000.0</td>\n",
       "      <td>4</td>\n",
       "      <td>1.0</td>\n",
       "      <td>1180</td>\n",
       "      <td>1.0</td>\n",
       "      <td>1180</td>\n",
       "      <td>0</td>\n",
       "      <td>0</td>\n",
       "      <td>40</td>\n",
       "      <td>0</td>\n",
       "      <td>...</td>\n",
       "      <td>0</td>\n",
       "      <td>0</td>\n",
       "      <td>0</td>\n",
       "      <td>1</td>\n",
       "      <td>0</td>\n",
       "      <td>0</td>\n",
       "      <td>0</td>\n",
       "      <td>0</td>\n",
       "      <td>0</td>\n",
       "      <td>0</td>\n",
       "    </tr>\n",
       "    <tr>\n",
       "      <th>1</th>\n",
       "      <td>920000.0</td>\n",
       "      <td>5</td>\n",
       "      <td>2.5</td>\n",
       "      <td>2770</td>\n",
       "      <td>1.0</td>\n",
       "      <td>1570</td>\n",
       "      <td>1570</td>\n",
       "      <td>0</td>\n",
       "      <td>240</td>\n",
       "      <td>0</td>\n",
       "      <td>...</td>\n",
       "      <td>0</td>\n",
       "      <td>0</td>\n",
       "      <td>0</td>\n",
       "      <td>1</td>\n",
       "      <td>0</td>\n",
       "      <td>0</td>\n",
       "      <td>0</td>\n",
       "      <td>0</td>\n",
       "      <td>0</td>\n",
       "      <td>0</td>\n",
       "    </tr>\n",
       "    <tr>\n",
       "      <th>2</th>\n",
       "      <td>311000.0</td>\n",
       "      <td>6</td>\n",
       "      <td>2.0</td>\n",
       "      <td>2880</td>\n",
       "      <td>1.0</td>\n",
       "      <td>1580</td>\n",
       "      <td>1580</td>\n",
       "      <td>0</td>\n",
       "      <td>0</td>\n",
       "      <td>0</td>\n",
       "      <td>...</td>\n",
       "      <td>0</td>\n",
       "      <td>0</td>\n",
       "      <td>0</td>\n",
       "      <td>1</td>\n",
       "      <td>0</td>\n",
       "      <td>0</td>\n",
       "      <td>0</td>\n",
       "      <td>0</td>\n",
       "      <td>0</td>\n",
       "      <td>0</td>\n",
       "    </tr>\n",
       "    <tr>\n",
       "      <th>3</th>\n",
       "      <td>775000.0</td>\n",
       "      <td>3</td>\n",
       "      <td>3.0</td>\n",
       "      <td>2160</td>\n",
       "      <td>2.0</td>\n",
       "      <td>1090</td>\n",
       "      <td>1070</td>\n",
       "      <td>200</td>\n",
       "      <td>270</td>\n",
       "      <td>0</td>\n",
       "      <td>...</td>\n",
       "      <td>0</td>\n",
       "      <td>0</td>\n",
       "      <td>0</td>\n",
       "      <td>0</td>\n",
       "      <td>0</td>\n",
       "      <td>1</td>\n",
       "      <td>0</td>\n",
       "      <td>0</td>\n",
       "      <td>0</td>\n",
       "      <td>0</td>\n",
       "    </tr>\n",
       "    <tr>\n",
       "      <th>4</th>\n",
       "      <td>592500.0</td>\n",
       "      <td>2</td>\n",
       "      <td>2.0</td>\n",
       "      <td>1120</td>\n",
       "      <td>2.0</td>\n",
       "      <td>1120</td>\n",
       "      <td>550</td>\n",
       "      <td>550</td>\n",
       "      <td>30</td>\n",
       "      <td>0</td>\n",
       "      <td>...</td>\n",
       "      <td>0</td>\n",
       "      <td>0</td>\n",
       "      <td>0</td>\n",
       "      <td>1</td>\n",
       "      <td>0</td>\n",
       "      <td>0</td>\n",
       "      <td>0</td>\n",
       "      <td>0</td>\n",
       "      <td>0</td>\n",
       "      <td>0</td>\n",
       "    </tr>\n",
       "  </tbody>\n",
       "</table>\n",
       "<p>5 rows × 25 columns</p>\n",
       "</div>"
      ],
      "text/plain": [
       "      price  bedrooms  bathrooms  sqft_living  floors  sqft_above  \\\n",
       "0  675000.0         4        1.0         1180     1.0        1180   \n",
       "1  920000.0         5        2.5         2770     1.0        1570   \n",
       "2  311000.0         6        2.0         2880     1.0        1580   \n",
       "3  775000.0         3        3.0         2160     2.0        1090   \n",
       "4  592500.0         2        2.0         1120     2.0        1120   \n",
       "\n",
       "   sqft_basement  sqft_garage  sqft_patio  condition_2  ...  grade_4  grade_5  \\\n",
       "0              0            0          40            0  ...        0        0   \n",
       "1           1570            0         240            0  ...        0        0   \n",
       "2           1580            0           0            0  ...        0        0   \n",
       "3           1070          200         270            0  ...        0        0   \n",
       "4            550          550          30            0  ...        0        0   \n",
       "\n",
       "   grade_6  grade_7  grade_8  grade_9  grade_10  grade_11  grade_12  grade_13  \n",
       "0        0        1        0        0         0         0         0         0  \n",
       "1        0        1        0        0         0         0         0         0  \n",
       "2        0        1        0        0         0         0         0         0  \n",
       "3        0        0        0        1         0         0         0         0  \n",
       "4        0        1        0        0         0         0         0         0  \n",
       "\n",
       "[5 rows x 25 columns]"
      ]
     },
     "execution_count": 78,
     "metadata": {},
     "output_type": "execute_result"
    }
   ],
   "source": [
    "df_dum = pd.get_dummies(df_dropped, columns=['condition', 'nuisance', 'grade'], drop_first=True)\n",
    "df_dum.head()"
   ]
  },
  {
   "cell_type": "code",
   "execution_count": 79,
   "metadata": {},
   "outputs": [
    {
     "data": {
      "text/html": [
       "<table class=\"simpletable\">\n",
       "<caption>OLS Regression Results</caption>\n",
       "<tr>\n",
       "  <th>Dep. Variable:</th>          <td>price</td>      <th>  R-squared:         </th>  <td>   0.535</td>  \n",
       "</tr>\n",
       "<tr>\n",
       "  <th>Model:</th>                   <td>OLS</td>       <th>  Adj. R-squared:    </th>  <td>   0.535</td>  \n",
       "</tr>\n",
       "<tr>\n",
       "  <th>Method:</th>             <td>Least Squares</td>  <th>  F-statistic:       </th>  <td>   1566.</td>  \n",
       "</tr>\n",
       "<tr>\n",
       "  <th>Date:</th>             <td>Thu, 08 Dec 2022</td> <th>  Prob (F-statistic):</th>   <td>  0.00</td>   \n",
       "</tr>\n",
       "<tr>\n",
       "  <th>Time:</th>                 <td>00:43:01</td>     <th>  Log-Likelihood:    </th> <td>-4.3463e+05</td>\n",
       "</tr>\n",
       "<tr>\n",
       "  <th>No. Observations:</th>      <td> 29927</td>      <th>  AIC:               </th>  <td>8.693e+05</td> \n",
       "</tr>\n",
       "<tr>\n",
       "  <th>Df Residuals:</th>          <td> 29904</td>      <th>  BIC:               </th>  <td>8.695e+05</td> \n",
       "</tr>\n",
       "<tr>\n",
       "  <th>Df Model:</th>              <td>    22</td>      <th>                     </th>      <td> </td>     \n",
       "</tr>\n",
       "<tr>\n",
       "  <th>Covariance Type:</th>      <td>nonrobust</td>    <th>                     </th>      <td> </td>     \n",
       "</tr>\n",
       "</table>\n",
       "<table class=\"simpletable\">\n",
       "<tr>\n",
       "       <td></td>          <th>coef</th>     <th>std err</th>      <th>t</th>      <th>P>|t|</th>  <th>[0.025</th>    <th>0.975]</th>  \n",
       "</tr>\n",
       "<tr>\n",
       "  <th>const</th>       <td> 3.238e+05</td> <td> 4.91e+05</td> <td>    0.659</td> <td> 0.510</td> <td>-6.39e+05</td> <td> 1.29e+06</td>\n",
       "</tr>\n",
       "<tr>\n",
       "  <th>bedrooms</th>    <td> -3.99e+04</td> <td> 4091.888</td> <td>   -9.751</td> <td> 0.000</td> <td>-4.79e+04</td> <td>-3.19e+04</td>\n",
       "</tr>\n",
       "<tr>\n",
       "  <th>bathrooms</th>   <td> 5.537e+04</td> <td> 5559.907</td> <td>    9.958</td> <td> 0.000</td> <td> 4.45e+04</td> <td> 6.63e+04</td>\n",
       "</tr>\n",
       "<tr>\n",
       "  <th>sqft_living</th> <td>  305.4893</td> <td>    6.260</td> <td>   48.801</td> <td> 0.000</td> <td>  293.220</td> <td>  317.759</td>\n",
       "</tr>\n",
       "<tr>\n",
       "  <th>floors</th>      <td>-9.247e+04</td> <td> 6219.521</td> <td>  -14.867</td> <td> 0.000</td> <td>-1.05e+05</td> <td>-8.03e+04</td>\n",
       "</tr>\n",
       "<tr>\n",
       "  <th>sqft_garage</th> <td> -274.0828</td> <td>   12.244</td> <td>  -22.386</td> <td> 0.000</td> <td> -298.081</td> <td> -250.085</td>\n",
       "</tr>\n",
       "<tr>\n",
       "  <th>sqft_patio</th>  <td>   67.2602</td> <td>   12.928</td> <td>    5.203</td> <td> 0.000</td> <td>   41.922</td> <td>   92.599</td>\n",
       "</tr>\n",
       "<tr>\n",
       "  <th>condition_2</th> <td> 2.588e+04</td> <td> 7.38e+04</td> <td>    0.351</td> <td> 0.726</td> <td>-1.19e+05</td> <td> 1.71e+05</td>\n",
       "</tr>\n",
       "<tr>\n",
       "  <th>condition_3</th> <td>-2048.0118</td> <td> 6.69e+04</td> <td>   -0.031</td> <td> 0.976</td> <td>-1.33e+05</td> <td> 1.29e+05</td>\n",
       "</tr>\n",
       "<tr>\n",
       "  <th>condition_4</th> <td> 6.066e+04</td> <td>  6.7e+04</td> <td>    0.906</td> <td> 0.365</td> <td>-7.06e+04</td> <td> 1.92e+05</td>\n",
       "</tr>\n",
       "<tr>\n",
       "  <th>condition_5</th> <td> 1.251e+05</td> <td> 6.73e+04</td> <td>    1.858</td> <td> 0.063</td> <td>-6852.890</td> <td> 2.57e+05</td>\n",
       "</tr>\n",
       "<tr>\n",
       "  <th>nuisance_1</th>  <td> 6.068e+04</td> <td> 7597.329</td> <td>    7.986</td> <td> 0.000</td> <td> 4.58e+04</td> <td> 7.56e+04</td>\n",
       "</tr>\n",
       "<tr>\n",
       "  <th>grade_3</th>     <td> 1.307e+05</td> <td> 5.22e+05</td> <td>    0.251</td> <td> 0.802</td> <td>-8.92e+05</td> <td> 1.15e+06</td>\n",
       "</tr>\n",
       "<tr>\n",
       "  <th>grade_4</th>     <td> 1.723e+05</td> <td>    5e+05</td> <td>    0.344</td> <td> 0.731</td> <td>-8.08e+05</td> <td> 1.15e+06</td>\n",
       "</tr>\n",
       "<tr>\n",
       "  <th>grade_5</th>     <td> 8.954e+04</td> <td> 4.96e+05</td> <td>    0.181</td> <td> 0.857</td> <td>-8.83e+05</td> <td> 1.06e+06</td>\n",
       "</tr>\n",
       "<tr>\n",
       "  <th>grade_6</th>     <td> 4.272e+04</td> <td> 4.96e+05</td> <td>    0.086</td> <td> 0.931</td> <td>-9.29e+05</td> <td> 1.01e+06</td>\n",
       "</tr>\n",
       "<tr>\n",
       "  <th>grade_7</th>     <td> 1.258e+05</td> <td> 4.96e+05</td> <td>    0.254</td> <td> 0.800</td> <td>-8.46e+05</td> <td>  1.1e+06</td>\n",
       "</tr>\n",
       "<tr>\n",
       "  <th>grade_8</th>     <td> 2.844e+05</td> <td> 4.96e+05</td> <td>    0.574</td> <td> 0.566</td> <td>-6.87e+05</td> <td> 1.26e+06</td>\n",
       "</tr>\n",
       "<tr>\n",
       "  <th>grade_9</th>     <td>  6.31e+05</td> <td> 4.96e+05</td> <td>    1.273</td> <td> 0.203</td> <td>-3.41e+05</td> <td>  1.6e+06</td>\n",
       "</tr>\n",
       "<tr>\n",
       "  <th>grade_10</th>    <td> 1.129e+06</td> <td> 4.96e+05</td> <td>    2.277</td> <td> 0.023</td> <td> 1.57e+05</td> <td>  2.1e+06</td>\n",
       "</tr>\n",
       "<tr>\n",
       "  <th>grade_11</th>    <td> 1.702e+06</td> <td> 4.97e+05</td> <td>    3.427</td> <td> 0.001</td> <td> 7.28e+05</td> <td> 2.67e+06</td>\n",
       "</tr>\n",
       "<tr>\n",
       "  <th>grade_12</th>    <td> 2.073e+06</td> <td> 4.98e+05</td> <td>    4.159</td> <td> 0.000</td> <td>  1.1e+06</td> <td> 3.05e+06</td>\n",
       "</tr>\n",
       "<tr>\n",
       "  <th>grade_13</th>    <td> 2.212e+06</td> <td> 5.16e+05</td> <td>    4.283</td> <td> 0.000</td> <td>  1.2e+06</td> <td> 3.22e+06</td>\n",
       "</tr>\n",
       "</table>\n",
       "<table class=\"simpletable\">\n",
       "<tr>\n",
       "  <th>Omnibus:</th>       <td>15640.618</td> <th>  Durbin-Watson:     </th>  <td>   1.905</td> \n",
       "</tr>\n",
       "<tr>\n",
       "  <th>Prob(Omnibus):</th>  <td> 0.000</td>   <th>  Jarque-Bera (JB):  </th> <td>271477.493</td>\n",
       "</tr>\n",
       "<tr>\n",
       "  <th>Skew:</th>           <td> 2.117</td>   <th>  Prob(JB):          </th>  <td>    0.00</td> \n",
       "</tr>\n",
       "<tr>\n",
       "  <th>Kurtosis:</th>       <td>17.134</td>   <th>  Cond. No.          </th>  <td>1.42e+06</td> \n",
       "</tr>\n",
       "</table><br/><br/>Notes:<br/>[1] Standard Errors assume that the covariance matrix of the errors is correctly specified.<br/>[2] The condition number is large, 1.42e+06. This might indicate that there are<br/>strong multicollinearity or other numerical problems."
      ],
      "text/plain": [
       "<class 'statsmodels.iolib.summary.Summary'>\n",
       "\"\"\"\n",
       "                            OLS Regression Results                            \n",
       "==============================================================================\n",
       "Dep. Variable:                  price   R-squared:                       0.535\n",
       "Model:                            OLS   Adj. R-squared:                  0.535\n",
       "Method:                 Least Squares   F-statistic:                     1566.\n",
       "Date:                Thu, 08 Dec 2022   Prob (F-statistic):               0.00\n",
       "Time:                        00:43:01   Log-Likelihood:            -4.3463e+05\n",
       "No. Observations:               29927   AIC:                         8.693e+05\n",
       "Df Residuals:                   29904   BIC:                         8.695e+05\n",
       "Df Model:                          22                                         \n",
       "Covariance Type:            nonrobust                                         \n",
       "===============================================================================\n",
       "                  coef    std err          t      P>|t|      [0.025      0.975]\n",
       "-------------------------------------------------------------------------------\n",
       "const        3.238e+05   4.91e+05      0.659      0.510   -6.39e+05    1.29e+06\n",
       "bedrooms     -3.99e+04   4091.888     -9.751      0.000   -4.79e+04   -3.19e+04\n",
       "bathrooms    5.537e+04   5559.907      9.958      0.000    4.45e+04    6.63e+04\n",
       "sqft_living   305.4893      6.260     48.801      0.000     293.220     317.759\n",
       "floors      -9.247e+04   6219.521    -14.867      0.000   -1.05e+05   -8.03e+04\n",
       "sqft_garage  -274.0828     12.244    -22.386      0.000    -298.081    -250.085\n",
       "sqft_patio     67.2602     12.928      5.203      0.000      41.922      92.599\n",
       "condition_2  2.588e+04   7.38e+04      0.351      0.726   -1.19e+05    1.71e+05\n",
       "condition_3 -2048.0118   6.69e+04     -0.031      0.976   -1.33e+05    1.29e+05\n",
       "condition_4  6.066e+04    6.7e+04      0.906      0.365   -7.06e+04    1.92e+05\n",
       "condition_5  1.251e+05   6.73e+04      1.858      0.063   -6852.890    2.57e+05\n",
       "nuisance_1   6.068e+04   7597.329      7.986      0.000    4.58e+04    7.56e+04\n",
       "grade_3      1.307e+05   5.22e+05      0.251      0.802   -8.92e+05    1.15e+06\n",
       "grade_4      1.723e+05      5e+05      0.344      0.731   -8.08e+05    1.15e+06\n",
       "grade_5      8.954e+04   4.96e+05      0.181      0.857   -8.83e+05    1.06e+06\n",
       "grade_6      4.272e+04   4.96e+05      0.086      0.931   -9.29e+05    1.01e+06\n",
       "grade_7      1.258e+05   4.96e+05      0.254      0.800   -8.46e+05     1.1e+06\n",
       "grade_8      2.844e+05   4.96e+05      0.574      0.566   -6.87e+05    1.26e+06\n",
       "grade_9       6.31e+05   4.96e+05      1.273      0.203   -3.41e+05     1.6e+06\n",
       "grade_10     1.129e+06   4.96e+05      2.277      0.023    1.57e+05     2.1e+06\n",
       "grade_11     1.702e+06   4.97e+05      3.427      0.001    7.28e+05    2.67e+06\n",
       "grade_12     2.073e+06   4.98e+05      4.159      0.000     1.1e+06    3.05e+06\n",
       "grade_13     2.212e+06   5.16e+05      4.283      0.000     1.2e+06    3.22e+06\n",
       "==============================================================================\n",
       "Omnibus:                    15640.618   Durbin-Watson:                   1.905\n",
       "Prob(Omnibus):                  0.000   Jarque-Bera (JB):           271477.493\n",
       "Skew:                           2.117   Prob(JB):                         0.00\n",
       "Kurtosis:                      17.134   Cond. No.                     1.42e+06\n",
       "==============================================================================\n",
       "\n",
       "Notes:\n",
       "[1] Standard Errors assume that the covariance matrix of the errors is correctly specified.\n",
       "[2] The condition number is large, 1.42e+06. This might indicate that there are\n",
       "strong multicollinearity or other numerical problems.\n",
       "\"\"\""
      ]
     },
     "execution_count": 79,
     "metadata": {},
     "output_type": "execute_result"
    }
   ],
   "source": [
    "X = df_dum.drop(['price','sqft_above', 'sqft_basement'], axis=1)\n",
    "y = df_dum[['price']]\n",
    "\n",
    "dummy_model = sm.OLS(y, sm.add_constant(X)).fit()\n",
    "\n",
    "# viewing the baseline model\n",
    "dummy_model.summary()\n",
    "\n",
    "# 'condition_2', 'condition_3', 'condition_4', 'condition_5'"
   ]
  },
  {
   "cell_type": "markdown",
   "metadata": {},
   "source": [
    "right skewed: price, sqft_living, sqft_above, sqft_patio, \n",
    "Some 0 in:\n",
    "sqft_basement\n",
    "sqft_garage\n",
    "sqft_patio\n",
    "\n",
    "log:price, sqft_living, sqft_above"
   ]
  },
  {
   "cell_type": "code",
   "execution_count": 109,
   "metadata": {},
   "outputs": [],
   "source": [
    "df_log = df_dum.copy()\n",
    "df_log['price']=np.log(df_log['price'])\n",
    "df_log['sqft_living']=np.log(df_log['sqft_living'])\n",
    "df_log['sqft_above']=np.log(df_log['sqft_above'])"
   ]
  },
  {
   "cell_type": "code",
   "execution_count": 110,
   "metadata": {},
   "outputs": [
    {
     "data": {
      "image/png": "[encoded data removed]",
      "text/plain": [
       "<Figure size 432x288 with 1 Axes>"
      ]
     },
     "metadata": {
      "needs_background": "light"
     },
     "output_type": "display_data"
    }
   ],
   "source": [
    "sns.histplot(df_log['price']);"
   ]
  },
  {
   "cell_type": "code",
   "execution_count": 111,
   "metadata": {},
   "outputs": [
    {
     "data": {
      "text/html": [
       "<table class=\"simpletable\">\n",
       "<caption>OLS Regression Results</caption>\n",
       "<tr>\n",
       "  <th>Dep. Variable:</th>          <td>price</td>      <th>  R-squared:         </th> <td>   0.487</td> \n",
       "</tr>\n",
       "<tr>\n",
       "  <th>Model:</th>                   <td>OLS</td>       <th>  Adj. R-squared:    </th> <td>   0.487</td> \n",
       "</tr>\n",
       "<tr>\n",
       "  <th>Method:</th>             <td>Least Squares</td>  <th>  F-statistic:       </th> <td>   1235.</td> \n",
       "</tr>\n",
       "<tr>\n",
       "  <th>Date:</th>             <td>Wed, 07 Dec 2022</td> <th>  Prob (F-statistic):</th>  <td>  0.00</td>  \n",
       "</tr>\n",
       "<tr>\n",
       "  <th>Time:</th>                 <td>20:53:24</td>     <th>  Log-Likelihood:    </th> <td> -14519.</td> \n",
       "</tr>\n",
       "<tr>\n",
       "  <th>No. Observations:</th>      <td> 29927</td>      <th>  AIC:               </th> <td>2.909e+04</td>\n",
       "</tr>\n",
       "<tr>\n",
       "  <th>Df Residuals:</th>          <td> 29903</td>      <th>  BIC:               </th> <td>2.929e+04</td>\n",
       "</tr>\n",
       "<tr>\n",
       "  <th>Df Model:</th>              <td>    23</td>      <th>                     </th>     <td> </td>    \n",
       "</tr>\n",
       "<tr>\n",
       "  <th>Covariance Type:</th>      <td>nonrobust</td>    <th>                     </th>     <td> </td>    \n",
       "</tr>\n",
       "</table>\n",
       "<table class=\"simpletable\">\n",
       "<tr>\n",
       "        <td></td>           <th>coef</th>     <th>std err</th>      <th>t</th>      <th>P>|t|</th>  <th>[0.025</th>    <th>0.975]</th>  \n",
       "</tr>\n",
       "<tr>\n",
       "  <th>const</th>         <td>   10.3305</td> <td>    0.399</td> <td>   25.888</td> <td> 0.000</td> <td>    9.548</td> <td>   11.113</td>\n",
       "</tr>\n",
       "<tr>\n",
       "  <th>bedrooms</th>      <td>   -0.0180</td> <td>    0.003</td> <td>   -5.364</td> <td> 0.000</td> <td>   -0.025</td> <td>   -0.011</td>\n",
       "</tr>\n",
       "<tr>\n",
       "  <th>bathrooms</th>     <td>    0.0403</td> <td>    0.004</td> <td>    9.109</td> <td> 0.000</td> <td>    0.032</td> <td>    0.049</td>\n",
       "</tr>\n",
       "<tr>\n",
       "  <th>sqft_living</th>   <td>    0.3917</td> <td>    0.011</td> <td>   36.660</td> <td> 0.000</td> <td>    0.371</td> <td>    0.413</td>\n",
       "</tr>\n",
       "<tr>\n",
       "  <th>floors</th>        <td>   -0.0316</td> <td>    0.005</td> <td>   -5.806</td> <td> 0.000</td> <td>   -0.042</td> <td>   -0.021</td>\n",
       "</tr>\n",
       "<tr>\n",
       "  <th>sqft_basement</th> <td> 6.732e-05</td> <td> 4.79e-06</td> <td>   14.045</td> <td> 0.000</td> <td> 5.79e-05</td> <td> 7.67e-05</td>\n",
       "</tr>\n",
       "<tr>\n",
       "  <th>sqft_garage</th>   <td>   -0.0002</td> <td> 1.01e-05</td> <td>  -18.475</td> <td> 0.000</td> <td>   -0.000</td> <td>   -0.000</td>\n",
       "</tr>\n",
       "<tr>\n",
       "  <th>sqft_patio</th>    <td> 5.704e-05</td> <td> 1.04e-05</td> <td>    5.494</td> <td> 0.000</td> <td> 3.67e-05</td> <td> 7.74e-05</td>\n",
       "</tr>\n",
       "<tr>\n",
       "  <th>condition_2</th>   <td>    0.0966</td> <td>    0.059</td> <td>    1.634</td> <td> 0.102</td> <td>   -0.019</td> <td>    0.212</td>\n",
       "</tr>\n",
       "<tr>\n",
       "  <th>condition_3</th>   <td>    0.0991</td> <td>    0.054</td> <td>    1.850</td> <td> 0.064</td> <td>   -0.006</td> <td>    0.204</td>\n",
       "</tr>\n",
       "<tr>\n",
       "  <th>condition_4</th>   <td>    0.1589</td> <td>    0.054</td> <td>    2.963</td> <td> 0.003</td> <td>    0.054</td> <td>    0.264</td>\n",
       "</tr>\n",
       "<tr>\n",
       "  <th>condition_5</th>   <td>    0.2260</td> <td>    0.054</td> <td>    4.192</td> <td> 0.000</td> <td>    0.120</td> <td>    0.332</td>\n",
       "</tr>\n",
       "<tr>\n",
       "  <th>nuisance_1</th>    <td>    0.0381</td> <td>    0.006</td> <td>    6.238</td> <td> 0.000</td> <td>    0.026</td> <td>    0.050</td>\n",
       "</tr>\n",
       "<tr>\n",
       "  <th>grade_3</th>       <td>    0.2330</td> <td>    0.418</td> <td>    0.558</td> <td> 0.577</td> <td>   -0.586</td> <td>    1.052</td>\n",
       "</tr>\n",
       "<tr>\n",
       "  <th>grade_4</th>       <td>    0.1527</td> <td>    0.401</td> <td>    0.381</td> <td> 0.703</td> <td>   -0.632</td> <td>    0.938</td>\n",
       "</tr>\n",
       "<tr>\n",
       "  <th>grade_5</th>       <td>    0.0738</td> <td>    0.397</td> <td>    0.186</td> <td> 0.853</td> <td>   -0.705</td> <td>    0.852</td>\n",
       "</tr>\n",
       "<tr>\n",
       "  <th>grade_6</th>       <td>    0.0530</td> <td>    0.397</td> <td>    0.134</td> <td> 0.894</td> <td>   -0.725</td> <td>    0.831</td>\n",
       "</tr>\n",
       "<tr>\n",
       "  <th>grade_7</th>       <td>    0.1848</td> <td>    0.397</td> <td>    0.466</td> <td> 0.642</td> <td>   -0.593</td> <td>    0.963</td>\n",
       "</tr>\n",
       "<tr>\n",
       "  <th>grade_8</th>       <td>    0.3771</td> <td>    0.397</td> <td>    0.950</td> <td> 0.342</td> <td>   -0.401</td> <td>    1.155</td>\n",
       "</tr>\n",
       "<tr>\n",
       "  <th>grade_9</th>       <td>    0.6687</td> <td>    0.397</td> <td>    1.684</td> <td> 0.092</td> <td>   -0.110</td> <td>    1.447</td>\n",
       "</tr>\n",
       "<tr>\n",
       "  <th>grade_10</th>      <td>    0.9531</td> <td>    0.397</td> <td>    2.400</td> <td> 0.016</td> <td>    0.175</td> <td>    1.732</td>\n",
       "</tr>\n",
       "<tr>\n",
       "  <th>grade_11</th>      <td>    1.1754</td> <td>    0.398</td> <td>    2.956</td> <td> 0.003</td> <td>    0.396</td> <td>    1.955</td>\n",
       "</tr>\n",
       "<tr>\n",
       "  <th>grade_12</th>      <td>    1.2895</td> <td>    0.399</td> <td>    3.232</td> <td> 0.001</td> <td>    0.507</td> <td>    2.072</td>\n",
       "</tr>\n",
       "<tr>\n",
       "  <th>grade_13</th>      <td>    1.3604</td> <td>    0.413</td> <td>    3.292</td> <td> 0.001</td> <td>    0.550</td> <td>    2.170</td>\n",
       "</tr>\n",
       "</table>\n",
       "<table class=\"simpletable\">\n",
       "<tr>\n",
       "  <th>Omnibus:</th>       <td>2707.290</td> <th>  Durbin-Watson:     </th> <td>   1.989</td> \n",
       "</tr>\n",
       "<tr>\n",
       "  <th>Prob(Omnibus):</th>  <td> 0.000</td>  <th>  Jarque-Bera (JB):  </th> <td>14933.500</td>\n",
       "</tr>\n",
       "<tr>\n",
       "  <th>Skew:</th>           <td>-0.257</td>  <th>  Prob(JB):          </th> <td>    0.00</td> \n",
       "</tr>\n",
       "<tr>\n",
       "  <th>Kurtosis:</th>       <td> 6.422</td>  <th>  Cond. No.          </th> <td>4.88e+05</td> \n",
       "</tr>\n",
       "</table><br/><br/>Notes:<br/>[1] Standard Errors assume that the covariance matrix of the errors is correctly specified.<br/>[2] The condition number is large, 4.88e+05. This might indicate that there are<br/>strong multicollinearity or other numerical problems."
      ],
      "text/plain": [
       "<class 'statsmodels.iolib.summary.Summary'>\n",
       "\"\"\"\n",
       "                            OLS Regression Results                            \n",
       "==============================================================================\n",
       "Dep. Variable:                  price   R-squared:                       0.487\n",
       "Model:                            OLS   Adj. R-squared:                  0.487\n",
       "Method:                 Least Squares   F-statistic:                     1235.\n",
       "Date:                Wed, 07 Dec 2022   Prob (F-statistic):               0.00\n",
       "Time:                        20:53:24   Log-Likelihood:                -14519.\n",
       "No. Observations:               29927   AIC:                         2.909e+04\n",
       "Df Residuals:                   29903   BIC:                         2.929e+04\n",
       "Df Model:                          23                                         \n",
       "Covariance Type:            nonrobust                                         \n",
       "=================================================================================\n",
       "                    coef    std err          t      P>|t|      [0.025      0.975]\n",
       "---------------------------------------------------------------------------------\n",
       "const            10.3305      0.399     25.888      0.000       9.548      11.113\n",
       "bedrooms         -0.0180      0.003     -5.364      0.000      -0.025      -0.011\n",
       "bathrooms         0.0403      0.004      9.109      0.000       0.032       0.049\n",
       "sqft_living       0.3917      0.011     36.660      0.000       0.371       0.413\n",
       "floors           -0.0316      0.005     -5.806      0.000      -0.042      -0.021\n",
       "sqft_basement  6.732e-05   4.79e-06     14.045      0.000    5.79e-05    7.67e-05\n",
       "sqft_garage      -0.0002   1.01e-05    -18.475      0.000      -0.000      -0.000\n",
       "sqft_patio     5.704e-05   1.04e-05      5.494      0.000    3.67e-05    7.74e-05\n",
       "condition_2       0.0966      0.059      1.634      0.102      -0.019       0.212\n",
       "condition_3       0.0991      0.054      1.850      0.064      -0.006       0.204\n",
       "condition_4       0.1589      0.054      2.963      0.003       0.054       0.264\n",
       "condition_5       0.2260      0.054      4.192      0.000       0.120       0.332\n",
       "nuisance_1        0.0381      0.006      6.238      0.000       0.026       0.050\n",
       "grade_3           0.2330      0.418      0.558      0.577      -0.586       1.052\n",
       "grade_4           0.1527      0.401      0.381      0.703      -0.632       0.938\n",
       "grade_5           0.0738      0.397      0.186      0.853      -0.705       0.852\n",
       "grade_6           0.0530      0.397      0.134      0.894      -0.725       0.831\n",
       "grade_7           0.1848      0.397      0.466      0.642      -0.593       0.963\n",
       "grade_8           0.3771      0.397      0.950      0.342      -0.401       1.155\n",
       "grade_9           0.6687      0.397      1.684      0.092      -0.110       1.447\n",
       "grade_10          0.9531      0.397      2.400      0.016       0.175       1.732\n",
       "grade_11          1.1754      0.398      2.956      0.003       0.396       1.955\n",
       "grade_12          1.2895      0.399      3.232      0.001       0.507       2.072\n",
       "grade_13          1.3604      0.413      3.292      0.001       0.550       2.170\n",
       "==============================================================================\n",
       "Omnibus:                     2707.290   Durbin-Watson:                   1.989\n",
       "Prob(Omnibus):                  0.000   Jarque-Bera (JB):            14933.500\n",
       "Skew:                          -0.257   Prob(JB):                         0.00\n",
       "Kurtosis:                       6.422   Cond. No.                     4.88e+05\n",
       "==============================================================================\n",
       "\n",
       "Notes:\n",
       "[1] Standard Errors assume that the covariance matrix of the errors is correctly specified.\n",
       "[2] The condition number is large, 4.88e+05. This might indicate that there are\n",
       "strong multicollinearity or other numerical problems.\n",
       "\"\"\""
      ]
     },
     "execution_count": 111,
     "metadata": {},
     "output_type": "execute_result"
    }
   ],
   "source": [
    "\n",
    "X = df_log.drop(['price','sqft_above'], axis=1)\n",
    "y = df_log[['price']]\n",
    "\n",
    "log_model = sm.OLS(y, sm.add_constant(X)).fit()\n",
    "\n",
    "# viewing the baseline model\n",
    "log_model.summary()\n",
    "\n",
    "# 'condition_2', 'condition_3', 'condition_4', 'condition_5'"
   ]
  },
  {
   "cell_type": "code",
   "execution_count": null,
   "metadata": {},
   "outputs": [],
   "source": []
  },
  {
   "cell_type": "code",
   "execution_count": null,
   "metadata": {},
   "outputs": [],
   "source": []
  },
  {
   "cell_type": "code",
   "execution_count": null,
   "metadata": {},
   "outputs": [],
   "source": []
  },
  {
   "cell_type": "code",
   "execution_count": null,
   "metadata": {},
   "outputs": [],
   "source": []
  },
  {
   "cell_type": "code",
   "execution_count": null,
   "metadata": {},
   "outputs": [],
   "source": []
  },
  {
   "cell_type": "code",
   "execution_count": null,
   "metadata": {},
   "outputs": [],
   "source": [
    "from sklearn.pipeline import make_pipeline\n",
    "from sklearn.preprocessing import FunctionTransformer, OneHotEncoder\n",
    "from sklearn.preprocessing import StandardScaler, KBinsDiscretizer\n",
    "from sklearn.compose import ColumnTransformer\n",
    "\n",
    "# df_dropped[\"price_sqft\"] = df_dropped[\"price\"] / df_dropped[\"sqft_living\"]\n",
    "\n",
    "log_scale_transformer = make_pipeline(\n",
    "    FunctionTransformer(np.log, validate=False), StandardScaler()\n",
    ")\n",
    "\n",
    "linear_model_preprocessor = ColumnTransformer(\n",
    "    [\n",
    "        (\"passthrough_numeric\", \"passthrough\",\n",
    "         [\"sqft_lot\", \"sqft_above\", \"sqft_basement\", \"sqft_garage\", \"sqft_patio\", \"price_sqft\"]),\n",
    "        \n",
    "        (\"binned_numeric\", KBinsDiscretizer(n_bins=10), [\"bedrooms\", \"bathrooms\", \"floors\"]),\n",
    "        \n",
    "        (\"log_scaled_numeric\", log_scale_transformer, [\"price\", \"sqft_living\"]),\n",
    "        \n",
    "        (\n",
    "            \"onehot_categorical\",\n",
    "            OneHotEncoder(),\n",
    "            [\"nuisance\", \"condition\", \"grade\"],\n",
    "        ),\n",
    "    ],\n",
    "    remainder=\"drop\",\n",
    ")"
   ]
  },
  {
   "cell_type": "code",
   "execution_count": null,
   "metadata": {},
   "outputs": [],
   "source": [
    "from sklearn.dummy import DummyRegressor\n",
    "from sklearn.pipeline import Pipeline\n",
    "from sklearn.model_selection import train_test_split\n",
    "\n",
    "df_train, df_test = train_test_split(df_dropped, test_size=0.33, random_state=0)\n",
    "\n",
    "dummy = Pipeline(\n",
    "    [\n",
    "        (\"preprocessor\", linear_model_preprocessor),\n",
    "        (\"regressor\", DummyRegressor(strategy=\"mean\")),\n",
    "    ]\n",
    ").fit(df_train, df_train[\"price_sqft\"], regressor__sample_weight=df_train[\"sqft_living\"])"
   ]
  },
  {
   "cell_type": "code",
   "execution_count": null,
   "metadata": {},
   "outputs": [],
   "source": []
  },
  {
   "cell_type": "code",
   "execution_count": null,
   "metadata": {},
   "outputs": [],
   "source": []
  },
  {
   "cell_type": "code",
   "execution_count": null,
   "metadata": {},
   "outputs": [],
   "source": []
  },
  {
   "cell_type": "code",
   "execution_count": null,
   "metadata": {},
   "outputs": [],
   "source": []
  },
  {
   "cell_type": "markdown",
   "metadata": {},
   "source": [
    "## Try something out"
   ]
  },
  {
   "cell_type": "code",
   "execution_count": null,
   "metadata": {},
   "outputs": [],
   "source": [
    "# y_scld = np.log(df_dropped['price'])\n",
    "# y_scld.hist();"
   ]
  },
  {
   "cell_type": "code",
   "execution_count": null,
   "metadata": {},
   "outputs": [],
   "source": [
    "# creating baseline model based on highest .corr() to price (ran above)\n",
    "X = df_dropped[['sqft_living']]\n",
    "y = df_dropped['price']\n",
    "baseline_model = sm.OLS(y, sm.add_constant(X)).fit()\n",
    "\n",
    "# viewing the baseline model\n",
    "baseline_model.summary()"
   ]
  },
  {
   "cell_type": "code",
   "execution_count": null,
   "metadata": {
    "ExecuteTime": {
     "end_time": "2022-12-06T20:20:43.268162Z",
     "start_time": "2022-12-06T20:20:43.263104Z"
    }
   },
   "outputs": [],
   "source": [
    "# Creating basic cat df based on dtype\n",
    "df_cat = df_dropped.select_dtypes(object)"
   ]
  },
  {
   "cell_type": "code",
   "execution_count": null,
   "metadata": {
    "ExecuteTime": {
     "end_time": "2022-12-06T20:20:43.274308Z",
     "start_time": "2022-12-06T20:20:43.268162Z"
    }
   },
   "outputs": [],
   "source": [
    "# viewing cat df\n",
    "df_cat.head()"
   ]
  },
  {
   "cell_type": "markdown",
   "metadata": {},
   "source": [
    "- Drop ID: just a unique identifier, no helpful info\n",
    "- Drop lat/long and address. Location not important in this analysis\n",
    "- Drop year built (not able to change year built)\n"
   ]
  },
  {
   "cell_type": "code",
   "execution_count": null,
   "metadata": {
    "ExecuteTime": {
     "end_time": "2022-12-06T20:20:43.289090Z",
     "start_time": "2022-12-06T20:20:43.278309Z"
    }
   },
   "outputs": [],
   "source": [
    "df_cat.info()"
   ]
  },
  {
   "cell_type": "code",
   "execution_count": null,
   "metadata": {},
   "outputs": [],
   "source": [
    "# Creating basic numerical df based on dtype\n",
    "df_numerical = df_dropped.select_dtypes(include=np.number)\n",
    "df_numerical.head()"
   ]
  },
  {
   "cell_type": "code",
   "execution_count": null,
   "metadata": {},
   "outputs": [],
   "source": [
    "df_numerical.info()"
   ]
  },
  {
   "cell_type": "code",
   "execution_count": null,
   "metadata": {},
   "outputs": [],
   "source": [
    "# pd.plotting.scatter_matrix(df_numerical, figsize = [20,20]);"
   ]
  },
  {
   "cell_type": "code",
   "execution_count": null,
   "metadata": {},
   "outputs": [],
   "source": [
    "# pairpolt\n",
    "sns.pairplot(df_numerical);"
   ]
  },
  {
   "cell_type": "code",
   "execution_count": null,
   "metadata": {},
   "outputs": [],
   "source": [
    "df_numerical.corr()['price'].sort_values(ascending=False)"
   ]
  },
  {
   "cell_type": "code",
   "execution_count": null,
   "metadata": {},
   "outputs": [],
   "source": [
    "sns.histplot(df_numerical['sqft_living'], kde=True)"
   ]
  },
  {
   "cell_type": "code",
   "execution_count": null,
   "metadata": {},
   "outputs": [],
   "source": [
    "# scale price and sqft_living\n",
    "y_scld = np.log(df_numerical['price'])\n",
    "\n",
    "y = y_scld\n",
    "X = df_numerical['sqft_living']\n",
    "\n",
    "scld_model = sm.OLS(y, sm.add_constant(X)).fit()\n",
    "\n",
    "# viewing the baseline model\n",
    "scld_model.summary()"
   ]
  },
  {
   "cell_type": "code",
   "execution_count": null,
   "metadata": {},
   "outputs": [],
   "source": [
    "y_scld = np.log(df_numerical['price'])\n",
    "y_scld.hist();"
   ]
  },
  {
   "cell_type": "code",
   "execution_count": null,
   "metadata": {
    "ExecuteTime": {
     "end_time": "2022-12-06T20:20:43.567597Z",
     "start_time": "2022-12-06T20:20:42.040Z"
    }
   },
   "outputs": [],
   "source": [
    "# creating model with all numerical features\n",
    "#  df_numerical\n",
    "\n",
    "y = y_scld\n",
    "X = df_numerical.drop(['price'], axis = 1)\n",
    "\n",
    "num_model = sm.OLS(y, sm.add_constant(X)).fit()\n",
    "\n",
    "# viewing the baseline model\n",
    "num_model.summary()"
   ]
  },
  {
   "cell_type": "code",
   "execution_count": null,
   "metadata": {},
   "outputs": [],
   "source": [
    "sns.boxplot(df_numerical['price']);"
   ]
  },
  {
   "cell_type": "code",
   "execution_count": null,
   "metadata": {},
   "outputs": [],
   "source": [
    "def find_outlier_margin(df_feature):\n",
    "    feature_sort = df_feature.sort_values()\n",
    "    q1, q3= np.percentile(feature_sort,[25,75])\n",
    "    iqr = q3 - q1\n",
    "    lower_bound = q1 -(1.5 * iqr) \n",
    "    upper_bound = q3 +(1.5 * iqr)\n",
    "    \n",
    "    return [lower_bound, upper_bound]"
   ]
  },
  {
   "cell_type": "code",
   "execution_count": null,
   "metadata": {},
   "outputs": [],
   "source": [
    "find_outlier_margin(df_numerical['price'])"
   ]
  },
  {
   "cell_type": "code",
   "execution_count": null,
   "metadata": {},
   "outputs": [],
   "source": [
    "# get rid off outliers in price\n",
    "price_no = df_numerical[df_numerical['price'] < 2276146]\n",
    "price_no"
   ]
  },
  {
   "cell_type": "code",
   "execution_count": null,
   "metadata": {},
   "outputs": [],
   "source": [
    "sns.boxplot(df_numerical['sqft_living']);"
   ]
  },
  {
   "cell_type": "code",
   "execution_count": null,
   "metadata": {},
   "outputs": [],
   "source": [
    "find_outlier_margin(df_numerical['sqft_living'])"
   ]
  },
  {
   "cell_type": "code",
   "execution_count": null,
   "metadata": {},
   "outputs": [],
   "source": [
    "# get rid off outliers in sqft_living\n",
    "\n",
    "p_s_no = price_no[price_no['sqft_living'] < 4420]\n",
    "p_s_no"
   ]
  },
  {
   "cell_type": "code",
   "execution_count": null,
   "metadata": {},
   "outputs": [],
   "source": [
    "sns.boxplot(df_numerical['sqft_above']);"
   ]
  },
  {
   "cell_type": "code",
   "execution_count": null,
   "metadata": {},
   "outputs": [],
   "source": [
    "find_outlier_margin(df_numerical['sqft_above'])"
   ]
  },
  {
   "cell_type": "code",
   "execution_count": null,
   "metadata": {},
   "outputs": [],
   "source": [
    "# get rid off outliers in sqft_above\n",
    "\n",
    "p_s_s_no = price_no[price_no['sqft_above'] < 3905]\n",
    "p_s_s_no"
   ]
  },
  {
   "cell_type": "code",
   "execution_count": null,
   "metadata": {},
   "outputs": [],
   "source": [
    "sns.boxplot(df_numerical['bathrooms']);"
   ]
  },
  {
   "cell_type": "code",
   "execution_count": null,
   "metadata": {},
   "outputs": [],
   "source": [
    "find_outlier_margin(df_numerical['bathrooms'])"
   ]
  },
  {
   "cell_type": "code",
   "execution_count": null,
   "metadata": {},
   "outputs": [],
   "source": [
    "# get rid off outliers in bathroom\n",
    "\n",
    "p_s_s_b_no = price_no[price_no['bathrooms'] < 5]\n",
    "p_s_s_b_no"
   ]
  },
  {
   "cell_type": "code",
   "execution_count": null,
   "metadata": {},
   "outputs": [],
   "source": [
    "sns.boxplot(df_numerical['sqft_patio']);"
   ]
  },
  {
   "cell_type": "code",
   "execution_count": null,
   "metadata": {},
   "outputs": [],
   "source": [
    "find_outlier_margin(df_numerical['sqft_patio'])"
   ]
  },
  {
   "cell_type": "code",
   "execution_count": null,
   "metadata": {},
   "outputs": [],
   "source": [
    "# get rid off outliers in sqft_patio\n",
    "\n",
    "p_s_s_b_s_no = price_no[price_no['sqft_patio'] < 740]"
   ]
  },
  {
   "cell_type": "code",
   "execution_count": null,
   "metadata": {},
   "outputs": [],
   "source": [
    "sns.boxplot(p_s_s_b_s_no['bedrooms']);"
   ]
  },
  {
   "cell_type": "code",
   "execution_count": null,
   "metadata": {},
   "outputs": [],
   "source": [
    "find_outlier_margin(df_numerical['bedrooms'])"
   ]
  },
  {
   "cell_type": "code",
   "execution_count": null,
   "metadata": {},
   "outputs": [],
   "source": [
    "# get rid off outliers in bedrooms\n",
    "\n",
    "p_s_s_b_s_b_no = price_no[(price_no['bedrooms'] < 6)\n",
    "                       & (price_no['bedrooms'] >= 1)]"
   ]
  },
  {
   "cell_type": "code",
   "execution_count": null,
   "metadata": {},
   "outputs": [],
   "source": [
    "sns.boxplot(p_s_s_b_s_b_no['sqft_garage']);"
   ]
  },
  {
   "cell_type": "code",
   "execution_count": null,
   "metadata": {},
   "outputs": [],
   "source": [
    "find_outlier_margin(df_numerical['sqft_garage'])"
   ]
  },
  {
   "cell_type": "code",
   "execution_count": null,
   "metadata": {},
   "outputs": [],
   "source": [
    "no_outliers = p_s_s_b_s_b_no[p_s_s_b_s_b_no['sqft_garage'] <1275]"
   ]
  },
  {
   "cell_type": "code",
   "execution_count": null,
   "metadata": {},
   "outputs": [],
   "source": [
    "sns.boxplot(no_outliers['sqft_basement']);"
   ]
  },
  {
   "cell_type": "code",
   "execution_count": null,
   "metadata": {},
   "outputs": [],
   "source": [
    "find_outlier_margin(df_numerical['sqft_basement'])"
   ]
  },
  {
   "cell_type": "code",
   "execution_count": null,
   "metadata": {},
   "outputs": [],
   "source": [
    "no_outliers = no_outliers[no_outliers['sqft_basement'] <2350]"
   ]
  },
  {
   "cell_type": "code",
   "execution_count": null,
   "metadata": {},
   "outputs": [],
   "source": [
    "sns.boxplot(no_outliers['floors']);"
   ]
  },
  {
   "cell_type": "code",
   "execution_count": null,
   "metadata": {},
   "outputs": [],
   "source": [
    "find_outlier_margin(df_numerical['floors'])"
   ]
  },
  {
   "cell_type": "code",
   "execution_count": null,
   "metadata": {},
   "outputs": [],
   "source": [
    "no_outliers = no_outliers[no_outliers['floors'] < 4]"
   ]
  },
  {
   "cell_type": "code",
   "execution_count": null,
   "metadata": {},
   "outputs": [],
   "source": [
    "sns.boxplot(no_outliers['sqft_lot']);"
   ]
  },
  {
   "cell_type": "code",
   "execution_count": null,
   "metadata": {},
   "outputs": [],
   "source": [
    "find_outlier_margin(df_numerical['sqft_lot'])"
   ]
  },
  {
   "cell_type": "code",
   "execution_count": null,
   "metadata": {},
   "outputs": [],
   "source": [
    "no_outliers = no_outliers[no_outliers['floors'] < 19145]"
   ]
  },
  {
   "cell_type": "code",
   "execution_count": null,
   "metadata": {},
   "outputs": [],
   "source": [
    "# creating model with 4 numerical features\n",
    "\n",
    "y = no_outliers['price']\n",
    "X = no_outliers[['sqft_living', 'sqft_above', 'bathrooms', 'sqft_patio', 'bedrooms']]\n",
    "\n",
    "num6_model = sm.OLS(y, sm.add_constant(X)).fit()\n",
    "\n",
    "# viewing the baseline model\n",
    "num6_model.summary()"
   ]
  },
  {
   "cell_type": "code",
   "execution_count": null,
   "metadata": {},
   "outputs": [],
   "source": [
    "sns.pairplot(no_outliers);"
   ]
  },
  {
   "cell_type": "code",
   "execution_count": null,
   "metadata": {},
   "outputs": [],
   "source": [
    "# Log-scaling can be a good tool to make right-skewed data more normal.\n",
    "y_scld = np.log()\n",
    "y_scld.hist();"
   ]
  },
  {
   "cell_type": "code",
   "execution_count": null,
   "metadata": {},
   "outputs": [],
   "source": []
  }
 ],
 "metadata": {
  "kernelspec": {
   "display_name": "Python (learn-env)",
   "language": "python",
   "name": "learn-env"
  },
  "language_info": {
   "codemirror_mode": {
    "name": "ipython",
    "version": 3
   },
   "file_extension": ".py",
   "mimetype": "text/x-python",
   "name": "python",
   "nbconvert_exporter": "python",
   "pygments_lexer": "ipython3",
   "version": "3.8.5"
  },
  "varInspector": {
   "cols": {
    "lenName": 16,
    "lenType": 16,
    "lenVar": 40
   },
   "kernels_config": {
    "python": {
     "delete_cmd_postfix": "",
     "delete_cmd_prefix": "del ",
     "library": "var_list.py",
     "varRefreshCmd": "print(var_dic_list())"
    },
    "r": {
     "delete_cmd_postfix": ") ",
     "delete_cmd_prefix": "rm(",
     "library": "var_list.r",
     "varRefreshCmd": "cat(var_dic_list()) "
    }
   },
   "types_to_exclude": [
    "module",
    "function",
    "builtin_function_or_method",
    "instance",
    "_Feature"
   ],
   "window_display": false
  }
 },
 "nbformat": 4,
 "nbformat_minor": 4
}
